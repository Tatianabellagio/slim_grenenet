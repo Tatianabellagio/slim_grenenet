{
 "cells": [
  {
   "cell_type": "code",
   "execution_count": null,
   "id": "e0b5b100-f69f-4c85-bb26-ed2935335f07",
   "metadata": {},
   "outputs": [],
   "source": [
    "## recreating allele freq"
   ]
  },
  {
   "cell_type": "code",
   "execution_count": null,
   "id": "3e27360f-ed57-49af-bdec-f2f68bdbd2bc",
   "metadata": {},
   "outputs": [],
   "source": [
    "## shoul i cehck if i can get certain metrics from trees?"
   ]
  },
  {
   "cell_type": "code",
   "execution_count": 1,
   "id": "c9f8eea2-d0f1-416a-9393-bb38c4053971",
   "metadata": {},
   "outputs": [],
   "source": [
    "# once i have wholegenome_offset.trees\n",
    "import pandas as pd\n",
    "import tskit\n",
    "import allel\n",
    "import random\n",
    "import numpy as np\n",
    "import seaborn as sns\n",
    "import matplotlib.pyplot as plt\n",
    "import tsinfer\n",
    "import pyslim\n",
    "import os\n",
    "from collections import defaultdict"
   ]
  },
  {
   "cell_type": "code",
   "execution_count": 2,
   "id": "76340971-0fb9-48da-9f86-ce4089824e36",
   "metadata": {},
   "outputs": [],
   "source": [
    "## calculate allele freq "
   ]
  },
  {
   "cell_type": "code",
   "execution_count": null,
   "id": "e61b11a0-461a-49e1-bda3-121a0c86e64f",
   "metadata": {},
   "outputs": [],
   "source": [
    "output_vcf_fixpos = snakemake.input['output_vcf_fixpos'] \n",
    "pos_vcf_og = snakemake.input['pos_vcf_og'] \n",
    "output_allele_freq = snakemake.output['allele_freq'] \n",
    "\n"
   ]
  },
  {
   "cell_type": "code",
   "execution_count": 3,
   "id": "8829b04b-ce0d-41ff-876f-903ce824a78a",
   "metadata": {},
   "outputs": [],
   "source": [
    "file_names = [\n",
    "    \"results/arq_mediumfreq_onehpoly_highbeta/strongsel/optima0/subp0_vcf_output_rp.vcf\",\n",
    "    \"results/arq_mediumfreq_onehpoly_highbeta/strongsel/optima0/subp1_vcf_output_rp.vcf\",\n",
    "    \"results/arq_mediumfreq_onehpoly_highbeta/strongsel/optima0/subp2_vcf_output_rp.vcf\",\n",
    "    \"results/arq_mediumfreq_onehpoly_highbeta/strongsel/optima0/subp3_vcf_output_rp.vcf\",\n",
    "    \"results/arq_mediumfreq_onehpoly_highbeta/strongsel/optima0/subp4_vcf_output_rp.vcf\",\n",
    "    \"results/arq_mediumfreq_onehpoly_highbeta/strongsel/optima1/subp0_vcf_output_rp.vcf\",\n",
    "    \"results/arq_mediumfreq_onehpoly_highbeta/strongsel/optima1/subp1_vcf_output_rp.vcf\",\n",
    "    \"results/arq_mediumfreq_onehpoly_highbeta/strongsel/optima1/subp2_vcf_output_rp.vcf\",\n",
    "    \"results/arq_mediumfreq_onehpoly_highbeta/strongsel/optima1/subp3_vcf_output_rp.vcf\",\n",
    "    \"results/arq_mediumfreq_onehpoly_highbeta/strongsel/optima1/subp4_vcf_output_rp.vcf\",\n",
    "    \"results/arq_mediumfreq_onehpoly_highbeta/strongsel/optima2/subp0_vcf_output_rp.vcf\",\n",
    "    \"results/arq_mediumfreq_onehpoly_highbeta/strongsel/optima2/subp1_vcf_output_rp.vcf\",\n",
    "    \"results/arq_mediumfreq_onehpoly_highbeta/strongsel/optima2/subp2_vcf_output_rp.vcf\",\n",
    "    \"results/arq_mediumfreq_onehpoly_highbeta/strongsel/optima2/subp3_vcf_output_rp.vcf\",\n",
    "    \"results/arq_mediumfreq_onehpoly_highbeta/strongsel/optima2/subp4_vcf_output_rp.vcf\",\n",
    "    \"results/arq_mediumfreq_onehpoly_highbeta/strongsel/optima3/subp0_vcf_output_rp.vcf\",\n",
    "    \"results/arq_mediumfreq_onehpoly_highbeta/strongsel/optima3/subp1_vcf_output_rp.vcf\",\n",
    "    \"results/arq_mediumfreq_onehpoly_highbeta/strongsel/optima3/subp2_vcf_output_rp.vcf\",\n",
    "    \"results/arq_mediumfreq_onehpoly_highbeta/strongsel/optima3/subp3_vcf_output_rp.vcf\",\n",
    "    \"results/arq_mediumfreq_onehpoly_highbeta/strongsel/optima3/subp4_vcf_output_rp.vcf\",\n",
    "    \"results/arq_mediumfreq_onehpoly_highbeta/strongsel/optima4/subp0_vcf_output_rp.vcf\",\n",
    "    \"results/arq_mediumfreq_onehpoly_highbeta/strongsel/optima4/subp1_vcf_output_rp.vcf\",\n",
    "    \"results/arq_mediumfreq_onehpoly_highbeta/strongsel/optima4/subp2_vcf_output_rp.vcf\",\n",
    "    \"results/arq_mediumfreq_onehpoly_highbeta/strongsel/optima4/subp3_vcf_output_rp.vcf\",\n",
    "    \"results/arq_mediumfreq_onehpoly_highbeta/strongsel/optima4/subp4_vcf_output_rp.vcf\"\n",
    "]"
   ]
  },
  {
   "cell_type": "code",
   "execution_count": 5,
   "id": "112b2f90-84af-4c68-9f65-a8d4c7519460",
   "metadata": {},
   "outputs": [],
   "source": [
    "path = '/home/tbellagio/scratch/slim_grenenet/'"
   ]
  },
  {
   "cell_type": "code",
   "execution_count": 20,
   "id": "cc86a3e3-c293-4144-961f-9b797895e7fc",
   "metadata": {},
   "outputs": [],
   "source": [
    "file = \"results/arq_mediumfreq_onehpoly_highbeta/strongsel/optima0/subp0_vcf_output_rp.vcf\""
   ]
  },
  {
   "cell_type": "code",
   "execution_count": 21,
   "id": "939b757f-e401-46e1-a858-e4ad0548975c",
   "metadata": {},
   "outputs": [],
   "source": [
    "path_complete = path+file"
   ]
  },
  {
   "cell_type": "code",
   "execution_count": 22,
   "id": "f1bd0aba-730f-4c98-89f2-c063710cbf0f",
   "metadata": {},
   "outputs": [
    {
     "name": "stdout",
     "output_type": "stream",
     "text": [
      "empty_vcf\n"
     ]
    }
   ],
   "source": [
    "if os.path.exists(path_complete) and os.path.getsize(path_complete) <= 1:\n",
    "    print('empty_vcf')\n",
    "\n",
    "elif os.path.exists(path_complete) and os.path.getsize(path_complete) > 1:\n",
    "    print('stg')"
   ]
  },
  {
   "cell_type": "code",
   "execution_count": null,
   "id": "6c43180e-060a-4ed4-8c2a-ae7f96d41527",
   "metadata": {},
   "outputs": [],
   "source": []
  },
  {
   "cell_type": "code",
   "execution_count": 13,
   "id": "f7489bcb-166a-4ef4-8679-e88b525f4f9d",
   "metadata": {},
   "outputs": [],
   "source": [
    "vcf = allel.read_vcf('../treeseq/greneNet_final_v1.1.recode.vcf.gz', fields= 'variants/POS')\n",
    "pos_vcf_og = pd.DataFrame(data = {'pos':vcf['variants/POS'] })\n",
    "pos_vcf_og.to_csv(path + 'data/pos_vcf_og.csv', index=None)"
   ]
  },
  {
   "cell_type": "code",
   "execution_count": null,
   "id": "9ad26d95-1de4-42d3-8507-0be343304555",
   "metadata": {},
   "outputs": [],
   "source": []
  },
  {
   "cell_type": "code",
   "execution_count": 15,
   "id": "fd8d4e7a-cfb7-4a3b-8024-e5ea06a30cf3",
   "metadata": {},
   "outputs": [],
   "source": [
    "pos_vcf_og = pd.read_csv(pos_vcf_og)"
   ]
  },
  {
   "cell_type": "code",
   "execution_count": 16,
   "id": "3cbf58b3-d47e-45ad-8dd1-4bf342420f8e",
   "metadata": {},
   "outputs": [
    {
     "ename": "NameError",
     "evalue": "name 'name' is not defined",
     "output_type": "error",
     "traceback": [
      "\u001b[0;31m---------------------------------------------------------------------------\u001b[0m",
      "\u001b[0;31mNameError\u001b[0m                                 Traceback (most recent call last)",
      "Cell \u001b[0;32mIn[16], line 1\u001b[0m\n\u001b[0;32m----> 1\u001b[0m pos_vcf_og[\u001b[43mname\u001b[49m] \u001b[38;5;241m=\u001b[39m np\u001b[38;5;241m.\u001b[39mnan\n",
      "\u001b[0;31mNameError\u001b[0m: name 'name' is not defined"
     ]
    }
   ],
   "source": [
    "pos_vcf_og[name] = np.nan"
   ]
  },
  {
   "cell_type": "code",
   "execution_count": 76,
   "id": "1a7394ec-b55f-498e-93d0-c6d247625a06",
   "metadata": {},
   "outputs": [],
   "source": [
    "def extract_allele_freq(samples, geno_array, pos, name):\n",
    "    total_alleles = len(samples) * 2 \n",
    "    alt_freq = geno_array.sum(axis=2).sum(axis=1) / total_alleles\n",
    "    alt_allele_freq = pd.DataFrame(data = {'pos': pos, name: alt_freq})\n",
    "    return alt_allele_freq"
   ]
  },
  {
   "cell_type": "code",
   "execution_count": 88,
   "id": "7fa04c34-1058-4618-961d-555ccd833df6",
   "metadata": {},
   "outputs": [],
   "source": [
    "for i in output_vcf_fixpos:\n",
    "    print(i)\n",
    "    name = i.split('/')[-2] + '_' + i.split('/')[-1][0:5]\n",
    "    if os.path.exists(i) and os.path.getsize(i) <= 1:\n",
    "        print('empty_vcf')\n",
    "        pos_vcf_og[name] = np.nan\n",
    "    elif os.path.exists(i) and os.path.getsize(i) > 1:\n",
    "        vcf = allel.read_vcf(i)\n",
    "        samples = vcf['samples']\n",
    "        geno_array = vcf['calldata/GT']\n",
    "        pos = vcf['variants/POS']\n",
    "        alt_allele_freq = extract_allele_freq(samples,geno_array, pos, name)\n",
    "        pos_vcf_og = pos_vcf_og.merge(alt_allele_freq, on ='pos', how='outer')\n",
    "pos_vcf_og.to_csv(output_allele_freq)"
   ]
  },
  {
   "cell_type": "code",
   "execution_count": 89,
   "id": "34daf9f2-e377-4c9e-9ca7-89ddd5682373",
   "metadata": {},
   "outputs": [
    {
     "data": {
      "text/html": [
       "<div>\n",
       "<style scoped>\n",
       "    .dataframe tbody tr th:only-of-type {\n",
       "        vertical-align: middle;\n",
       "    }\n",
       "\n",
       "    .dataframe tbody tr th {\n",
       "        vertical-align: top;\n",
       "    }\n",
       "\n",
       "    .dataframe thead th {\n",
       "        text-align: right;\n",
       "    }\n",
       "</style>\n",
       "<table border=\"1\" class=\"dataframe\">\n",
       "  <thead>\n",
       "    <tr style=\"text-align: right;\">\n",
       "      <th></th>\n",
       "      <th>pos</th>\n",
       "      <th>result_selection_var1.3031_optima2.5131.vcfoutput_selection_x</th>\n",
       "      <th>result_selection_var1.3031_optima2.5131.vcfoutput_selection_y</th>\n",
       "    </tr>\n",
       "  </thead>\n",
       "  <tbody>\n",
       "    <tr>\n",
       "      <th>0</th>\n",
       "      <td>291</td>\n",
       "      <td>0.038265</td>\n",
       "      <td>NaN</td>\n",
       "    </tr>\n",
       "    <tr>\n",
       "      <th>1</th>\n",
       "      <td>346</td>\n",
       "      <td>0.214286</td>\n",
       "      <td>0.145570</td>\n",
       "    </tr>\n",
       "    <tr>\n",
       "      <th>2</th>\n",
       "      <td>349</td>\n",
       "      <td>0.007653</td>\n",
       "      <td>NaN</td>\n",
       "    </tr>\n",
       "    <tr>\n",
       "      <th>3</th>\n",
       "      <td>352</td>\n",
       "      <td>NaN</td>\n",
       "      <td>0.025316</td>\n",
       "    </tr>\n",
       "    <tr>\n",
       "      <th>4</th>\n",
       "      <td>353</td>\n",
       "      <td>0.056122</td>\n",
       "      <td>0.107595</td>\n",
       "    </tr>\n",
       "    <tr>\n",
       "      <th>...</th>\n",
       "      <td>...</td>\n",
       "      <td>...</td>\n",
       "      <td>...</td>\n",
       "    </tr>\n",
       "    <tr>\n",
       "      <th>3235475</th>\n",
       "      <td>119146054</td>\n",
       "      <td>NaN</td>\n",
       "      <td>0.006329</td>\n",
       "    </tr>\n",
       "    <tr>\n",
       "      <th>3235476</th>\n",
       "      <td>119146061</td>\n",
       "      <td>NaN</td>\n",
       "      <td>NaN</td>\n",
       "    </tr>\n",
       "    <tr>\n",
       "      <th>3235477</th>\n",
       "      <td>119146113</td>\n",
       "      <td>NaN</td>\n",
       "      <td>NaN</td>\n",
       "    </tr>\n",
       "    <tr>\n",
       "      <th>3235478</th>\n",
       "      <td>119146118</td>\n",
       "      <td>0.165816</td>\n",
       "      <td>0.322785</td>\n",
       "    </tr>\n",
       "    <tr>\n",
       "      <th>3235479</th>\n",
       "      <td>119146134</td>\n",
       "      <td>0.178571</td>\n",
       "      <td>0.265823</td>\n",
       "    </tr>\n",
       "  </tbody>\n",
       "</table>\n",
       "<p>3235480 rows × 3 columns</p>\n",
       "</div>"
      ],
      "text/plain": [
       "               pos  \\\n",
       "0              291   \n",
       "1              346   \n",
       "2              349   \n",
       "3              352   \n",
       "4              353   \n",
       "...            ...   \n",
       "3235475  119146054   \n",
       "3235476  119146061   \n",
       "3235477  119146113   \n",
       "3235478  119146118   \n",
       "3235479  119146134   \n",
       "\n",
       "         result_selection_var1.3031_optima2.5131.vcfoutput_selection_x  \\\n",
       "0                                                 0.038265               \n",
       "1                                                 0.214286               \n",
       "2                                                 0.007653               \n",
       "3                                                      NaN               \n",
       "4                                                 0.056122               \n",
       "...                                                    ...               \n",
       "3235475                                                NaN               \n",
       "3235476                                                NaN               \n",
       "3235477                                                NaN               \n",
       "3235478                                           0.165816               \n",
       "3235479                                           0.178571               \n",
       "\n",
       "         result_selection_var1.3031_optima2.5131.vcfoutput_selection_y  \n",
       "0                                                      NaN              \n",
       "1                                                 0.145570              \n",
       "2                                                      NaN              \n",
       "3                                                 0.025316              \n",
       "4                                                 0.107595              \n",
       "...                                                    ...              \n",
       "3235475                                           0.006329              \n",
       "3235476                                                NaN              \n",
       "3235477                                                NaN              \n",
       "3235478                                           0.322785              \n",
       "3235479                                           0.265823              \n",
       "\n",
       "[3235480 rows x 3 columns]"
      ]
     },
     "execution_count": 89,
     "metadata": {},
     "output_type": "execute_result"
    }
   ],
   "source": []
  },
  {
   "cell_type": "code",
   "execution_count": null,
   "id": "e56a4e59-1cca-4889-a7b5-90cbeaf84823",
   "metadata": {},
   "outputs": [],
   "source": [
    "## delta p "
   ]
  },
  {
   "cell_type": "code",
   "execution_count": null,
   "id": "7d5a25e7-3a78-4408-99da-0036ec320bf8",
   "metadata": {},
   "outputs": [],
   "source": []
  },
  {
   "cell_type": "code",
   "execution_count": null,
   "id": "9700fc73-9778-44e5-9758-58165bcc8c40",
   "metadata": {},
   "outputs": [],
   "source": []
  }
 ],
 "metadata": {
  "kernelspec": {
   "display_name": "Python (snakemake_pipeline)",
   "language": "python",
   "name": "pipeline_snakemake"
  },
  "language_info": {
   "codemirror_mode": {
    "name": "ipython",
    "version": 3
   },
   "file_extension": ".py",
   "mimetype": "text/x-python",
   "name": "python",
   "nbconvert_exporter": "python",
   "pygments_lexer": "ipython3",
   "version": "3.9.16"
  }
 },
 "nbformat": 4,
 "nbformat_minor": 5
}
