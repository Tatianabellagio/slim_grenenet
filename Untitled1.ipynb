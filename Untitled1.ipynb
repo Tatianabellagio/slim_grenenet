{
 "cells": [
  {
   "cell_type": "code",
   "execution_count": 3,
   "id": "ddb79956-5d17-4c91-bec1-86d01d6c6916",
   "metadata": {},
   "outputs": [],
   "source": [
    "# once i have wholegenome_offset.trees\n",
    "import pandas as pd\n",
    "import tskit\n",
    "import allel\n",
    "import random\n",
    "import numpy as np\n",
    "import seaborn as sns\n",
    "import matplotlib.pyplot as plt\n",
    "import tsinfer\n",
    "import pyslim\n",
    "import os\n",
    "from collections import defaultdict\n",
    "import glob"
   ]
  },
  {
   "cell_type": "code",
   "execution_count": null,
   "id": "fd596ce5-f440-437f-baab-22111f22e589",
   "metadata": {},
   "outputs": [],
   "source": []
  },
  {
   "cell_type": "code",
   "execution_count": null,
   "id": "93ce44ab-9b9b-47e6-8b0f-f4c4135d550b",
   "metadata": {},
   "outputs": [],
   "source": [
    "## calculate the freq of the founder population "
   ]
  },
  {
   "cell_type": "code",
   "execution_count": 158,
   "id": "ee52041e-4a9a-408e-9a5b-a227e8ca89b6",
   "metadata": {},
   "outputs": [
    {
     "data": {
      "text/plain": [
       "['loci_effectsize.csv',\n",
       " 'lowsel',\n",
       " 'strongsel',\n",
       " 'variance_values.txt',\n",
       " 'optima_values.txt',\n",
       " 'tree_seq_causalloci.trees',\n",
       " 'phenotypes.csv',\n",
       " 'moderatesel']"
      ]
     },
     "execution_count": 158,
     "metadata": {},
     "output_type": "execute_result"
    }
   ],
   "source": [
    "os.listdir('/home/tbellagio/scratch/slim_grenenet/results/arq_highfreq_fivepoly_lowbeta') #loci_effectsize.csv"
   ]
  },
  {
   "cell_type": "code",
   "execution_count": 35,
   "id": "03c1dff6-2cf6-4473-aa0b-e16eb7d8b885",
   "metadata": {},
   "outputs": [],
   "source": [
    "og_tree_offset_after_cloning = tskit.load(path + '/data/og_tree_offset_after_cloning.trees')"
   ]
  },
  {
   "cell_type": "code",
   "execution_count": 37,
   "id": "9acd8446-66b8-48a2-8119-33d23f7860f7",
   "metadata": {},
   "outputs": [],
   "source": [
    "def convert_tree_to_vcf (tree,name_vcf):\n",
    "    # create a vcf file from the treeseq \n",
    "    with open(name_vcf, 'w') as file:\n",
    "        # Pass the file object as the output parameter\n",
    "        tree.write_vcf(output=file)"
   ]
  },
  {
   "cell_type": "code",
   "execution_count": 38,
   "id": "5c7a2ddd-4243-4f56-b2a7-e53ad933dab4",
   "metadata": {},
   "outputs": [],
   "source": [
    "convert_tree_to_vcf(og_tree_offset_after_cloning, path + '/data/og_vcf_offset_after_cloning.vcf' )"
   ]
  },
  {
   "cell_type": "code",
   "execution_count": 42,
   "id": "424a7c07-623c-4d6c-9775-652076b261ed",
   "metadata": {},
   "outputs": [],
   "source": [
    "vcf = allel.read_vcf(path + '/data/og_vcf_offset_after_cloning.vcf')"
   ]
  },
  {
   "cell_type": "code",
   "execution_count": 79,
   "id": "3ed5db1d-36ba-474b-a2e9-65926dda3b31",
   "metadata": {},
   "outputs": [],
   "source": [
    "pos_nooffset = pd.read_csv(path + '/data/pos_vcf_og_nooffset.csv')"
   ]
  },
  {
   "cell_type": "code",
   "execution_count": 84,
   "id": "2263d6fc-b220-4747-8c9a-ae1c0e70bdd2",
   "metadata": {},
   "outputs": [
    {
     "data": {
      "text/plain": [
       "0               1_291\n",
       "1               1_346\n",
       "2               1_349\n",
       "3               1_352\n",
       "4               1_353\n",
       "              ...    \n",
       "3235475    5_26975208\n",
       "3235476    5_26975215\n",
       "3235477    5_26975267\n",
       "3235478    5_26975272\n",
       "3235479    5_26975288\n",
       "Name: chrom_pos, Length: 3235480, dtype: object"
      ]
     },
     "execution_count": 84,
     "metadata": {},
     "output_type": "execute_result"
    }
   ],
   "source": [
    "pos_nooffset['chrom_pos']"
   ]
  },
  {
   "cell_type": "code",
   "execution_count": 40,
   "id": "09a37105-a9d9-4e6e-8ccb-e4be9ee0359f",
   "metadata": {},
   "outputs": [
    {
     "data": {
      "text/plain": [
       "3235480"
      ]
     },
     "execution_count": 40,
     "metadata": {},
     "output_type": "execute_result"
    }
   ],
   "source": [
    "len(vcf['variants/POS'])"
   ]
  },
  {
   "cell_type": "code",
   "execution_count": 41,
   "id": "5df566da-e9db-4fc3-bc5e-7e98e4252ad4",
   "metadata": {},
   "outputs": [
    {
     "data": {
      "text/plain": [
       "2541"
      ]
     },
     "execution_count": 41,
     "metadata": {},
     "output_type": "execute_result"
    }
   ],
   "source": [
    "len(vcf['samples'])"
   ]
  },
  {
   "cell_type": "code",
   "execution_count": 43,
   "id": "2103d011-b124-4a6e-8948-825604672907",
   "metadata": {},
   "outputs": [],
   "source": [
    "geno = vcf[\"calldata/GT\"]"
   ]
  },
  {
   "cell_type": "code",
   "execution_count": 44,
   "id": "6c80f424-e69f-4fc7-9469-44b4f8a896b0",
   "metadata": {},
   "outputs": [],
   "source": [
    "alt_al_per_pos = geno.sum(axis=2) "
   ]
  },
  {
   "cell_type": "code",
   "execution_count": 49,
   "id": "aeac7b90-43bd-430d-a868-93b0b5c98890",
   "metadata": {},
   "outputs": [],
   "source": [
    "alt_al_count = alt_al_per_pos.sum(axis=1)"
   ]
  },
  {
   "cell_type": "code",
   "execution_count": 50,
   "id": "dbe4a339-4e0d-4bd2-ac8b-b121fdbc8932",
   "metadata": {},
   "outputs": [
    {
     "data": {
      "text/plain": [
       "(3235480,)"
      ]
     },
     "execution_count": 50,
     "metadata": {},
     "output_type": "execute_result"
    }
   ],
   "source": [
    "alt_al_count.shape"
   ]
  },
  {
   "cell_type": "code",
   "execution_count": 80,
   "id": "8d1cbb5d-f5c5-4b5e-84e0-b5483dbce210",
   "metadata": {},
   "outputs": [],
   "source": [
    "allele_freq_founder = alt_al_count/2541*2"
   ]
  },
  {
   "cell_type": "code",
   "execution_count": 81,
   "id": "acf54eca-4739-49b6-8f97-0fd1a368f791",
   "metadata": {},
   "outputs": [
    {
     "data": {
      "text/plain": [
       "array([0.17316017, 1.09090909, 0.03463203, ..., 0.01731602, 1.54112554,\n",
       "       0.86580087])"
      ]
     },
     "execution_count": 81,
     "metadata": {},
     "output_type": "execute_result"
    }
   ],
   "source": [
    "allele_freq_founder"
   ]
  },
  {
   "cell_type": "code",
   "execution_count": 85,
   "id": "1d103c62-3b24-41ab-8fad-1c2ed135884c",
   "metadata": {},
   "outputs": [],
   "source": [
    "allele_freq_founder = pd.DataFrame({'chrom_pos': pos_nooffset['chrom_pos'], 'allele_freq_founder': allele_freq_founder})"
   ]
  },
  {
   "cell_type": "code",
   "execution_count": 86,
   "id": "09b9bdba-0191-4649-881c-c609822e69cf",
   "metadata": {},
   "outputs": [],
   "source": [
    "allele_freq_founder['deno_norm']  = allele_freq_founder['allele_freq_founder'] * (1 - allele_freq_founder['allele_freq_founder'])"
   ]
  },
  {
   "cell_type": "code",
   "execution_count": 87,
   "id": "2d617d27-1abb-4eb0-adf6-b8abc9533e92",
   "metadata": {},
   "outputs": [],
   "source": [
    "allele_freq_founder.to_csv(path + '/data/allele_freq_founder.csv',index=None)"
   ]
  },
  {
   "cell_type": "code",
   "execution_count": 88,
   "id": "a9cee0a4-5b55-44b1-b79d-accf4c0cea4f",
   "metadata": {},
   "outputs": [
    {
     "data": {
      "text/html": [
       "<div>\n",
       "<style scoped>\n",
       "    .dataframe tbody tr th:only-of-type {\n",
       "        vertical-align: middle;\n",
       "    }\n",
       "\n",
       "    .dataframe tbody tr th {\n",
       "        vertical-align: top;\n",
       "    }\n",
       "\n",
       "    .dataframe thead th {\n",
       "        text-align: right;\n",
       "    }\n",
       "</style>\n",
       "<table border=\"1\" class=\"dataframe\">\n",
       "  <thead>\n",
       "    <tr style=\"text-align: right;\">\n",
       "      <th></th>\n",
       "      <th>chrom_pos</th>\n",
       "      <th>allele_freq_founder</th>\n",
       "      <th>deno_norm</th>\n",
       "    </tr>\n",
       "  </thead>\n",
       "  <tbody>\n",
       "    <tr>\n",
       "      <th>0</th>\n",
       "      <td>1_291</td>\n",
       "      <td>0.173160</td>\n",
       "      <td>0.143176</td>\n",
       "    </tr>\n",
       "    <tr>\n",
       "      <th>1</th>\n",
       "      <td>1_346</td>\n",
       "      <td>1.090909</td>\n",
       "      <td>-0.099174</td>\n",
       "    </tr>\n",
       "    <tr>\n",
       "      <th>2</th>\n",
       "      <td>1_349</td>\n",
       "      <td>0.034632</td>\n",
       "      <td>0.033433</td>\n",
       "    </tr>\n",
       "    <tr>\n",
       "      <th>3</th>\n",
       "      <td>1_352</td>\n",
       "      <td>0.086580</td>\n",
       "      <td>0.079084</td>\n",
       "    </tr>\n",
       "    <tr>\n",
       "      <th>4</th>\n",
       "      <td>1_353</td>\n",
       "      <td>0.277056</td>\n",
       "      <td>0.200296</td>\n",
       "    </tr>\n",
       "    <tr>\n",
       "      <th>...</th>\n",
       "      <td>...</td>\n",
       "      <td>...</td>\n",
       "      <td>...</td>\n",
       "    </tr>\n",
       "    <tr>\n",
       "      <th>3235475</th>\n",
       "      <td>5_26975208</td>\n",
       "      <td>0.051948</td>\n",
       "      <td>0.049249</td>\n",
       "    </tr>\n",
       "    <tr>\n",
       "      <th>3235476</th>\n",
       "      <td>5_26975215</td>\n",
       "      <td>0.034632</td>\n",
       "      <td>0.033433</td>\n",
       "    </tr>\n",
       "    <tr>\n",
       "      <th>3235477</th>\n",
       "      <td>5_26975267</td>\n",
       "      <td>0.017316</td>\n",
       "      <td>0.017016</td>\n",
       "    </tr>\n",
       "    <tr>\n",
       "      <th>3235478</th>\n",
       "      <td>5_26975272</td>\n",
       "      <td>1.541126</td>\n",
       "      <td>-0.833942</td>\n",
       "    </tr>\n",
       "    <tr>\n",
       "      <th>3235479</th>\n",
       "      <td>5_26975288</td>\n",
       "      <td>0.865801</td>\n",
       "      <td>0.116190</td>\n",
       "    </tr>\n",
       "  </tbody>\n",
       "</table>\n",
       "<p>3235480 rows × 3 columns</p>\n",
       "</div>"
      ],
      "text/plain": [
       "          chrom_pos  allele_freq_founder  deno_norm\n",
       "0             1_291             0.173160   0.143176\n",
       "1             1_346             1.090909  -0.099174\n",
       "2             1_349             0.034632   0.033433\n",
       "3             1_352             0.086580   0.079084\n",
       "4             1_353             0.277056   0.200296\n",
       "...             ...                  ...        ...\n",
       "3235475  5_26975208             0.051948   0.049249\n",
       "3235476  5_26975215             0.034632   0.033433\n",
       "3235477  5_26975267             0.017316   0.017016\n",
       "3235478  5_26975272             1.541126  -0.833942\n",
       "3235479  5_26975288             0.865801   0.116190\n",
       "\n",
       "[3235480 rows x 3 columns]"
      ]
     },
     "execution_count": 88,
     "metadata": {},
     "output_type": "execute_result"
    }
   ],
   "source": [
    "allele_freq_founder"
   ]
  },
  {
   "cell_type": "code",
   "execution_count": 175,
   "id": "c564c646-614b-48bd-84aa-fe170ca3e0ab",
   "metadata": {},
   "outputs": [
    {
     "data": {
      "text/html": [
       "<div>\n",
       "<style scoped>\n",
       "    .dataframe tbody tr th:only-of-type {\n",
       "        vertical-align: middle;\n",
       "    }\n",
       "\n",
       "    .dataframe tbody tr th {\n",
       "        vertical-align: top;\n",
       "    }\n",
       "\n",
       "    .dataframe thead th {\n",
       "        text-align: right;\n",
       "    }\n",
       "</style>\n",
       "<table border=\"1\" class=\"dataframe\">\n",
       "  <thead>\n",
       "    <tr style=\"text-align: right;\">\n",
       "      <th></th>\n",
       "      <th>chrom_pos</th>\n",
       "    </tr>\n",
       "  </thead>\n",
       "  <tbody>\n",
       "    <tr>\n",
       "      <th>0</th>\n",
       "      <td>1_291</td>\n",
       "    </tr>\n",
       "    <tr>\n",
       "      <th>1</th>\n",
       "      <td>1_346</td>\n",
       "    </tr>\n",
       "    <tr>\n",
       "      <th>2</th>\n",
       "      <td>1_349</td>\n",
       "    </tr>\n",
       "    <tr>\n",
       "      <th>3</th>\n",
       "      <td>1_352</td>\n",
       "    </tr>\n",
       "    <tr>\n",
       "      <th>4</th>\n",
       "      <td>1_353</td>\n",
       "    </tr>\n",
       "    <tr>\n",
       "      <th>...</th>\n",
       "      <td>...</td>\n",
       "    </tr>\n",
       "    <tr>\n",
       "      <th>3235475</th>\n",
       "      <td>5_26975208</td>\n",
       "    </tr>\n",
       "    <tr>\n",
       "      <th>3235476</th>\n",
       "      <td>5_26975215</td>\n",
       "    </tr>\n",
       "    <tr>\n",
       "      <th>3235477</th>\n",
       "      <td>5_26975267</td>\n",
       "    </tr>\n",
       "    <tr>\n",
       "      <th>3235478</th>\n",
       "      <td>5_26975272</td>\n",
       "    </tr>\n",
       "    <tr>\n",
       "      <th>3235479</th>\n",
       "      <td>5_26975288</td>\n",
       "    </tr>\n",
       "  </tbody>\n",
       "</table>\n",
       "<p>3235480 rows × 1 columns</p>\n",
       "</div>"
      ],
      "text/plain": [
       "          chrom_pos\n",
       "0             1_291\n",
       "1             1_346\n",
       "2             1_349\n",
       "3             1_352\n",
       "4             1_353\n",
       "...             ...\n",
       "3235475  5_26975208\n",
       "3235476  5_26975215\n",
       "3235477  5_26975267\n",
       "3235478  5_26975272\n",
       "3235479  5_26975288\n",
       "\n",
       "[3235480 rows x 1 columns]"
      ]
     },
     "execution_count": 175,
     "metadata": {},
     "output_type": "execute_result"
    }
   ],
   "source": [
    "pos_nooffset"
   ]
  },
  {
   "cell_type": "code",
   "execution_count": 173,
   "id": "883352da-cea6-4642-9b66-305eb58e7ccb",
   "metadata": {},
   "outputs": [
    {
     "data": {
      "text/plain": [
       "array([      291,       346,       349, ..., 119146113, 119146118,\n",
       "       119146134], dtype=int32)"
      ]
     },
     "execution_count": 173,
     "metadata": {},
     "output_type": "execute_result"
    }
   ],
   "source": [
    "vcf['variants/POS']"
   ]
  },
  {
   "cell_type": "code",
   "execution_count": 177,
   "id": "9436b76c-cdc5-4a7f-a4e6-5392ad5f9d7f",
   "metadata": {},
   "outputs": [],
   "source": [
    "dict_offset_nooffset = pd.DataFrame({'offset': vcf['variants/POS'], 'nooffset': pos_nooffset['chrom_pos']})"
   ]
  },
  {
   "cell_type": "code",
   "execution_count": 178,
   "id": "14e485b1-2472-4537-bb70-d97ca6772e3f",
   "metadata": {},
   "outputs": [],
   "source": [
    "dict_offset_nooffset.to_csv(path + '/data/dict_offset_nooffset.csv', index = None)"
   ]
  },
  {
   "cell_type": "code",
   "execution_count": null,
   "id": "25a6d228-5b34-41db-a15e-676fbcd1cb1c",
   "metadata": {},
   "outputs": [],
   "source": []
  },
  {
   "cell_type": "code",
   "execution_count": null,
   "id": "91b6230b-2ef2-4586-b7dd-c71a4ed46166",
   "metadata": {},
   "outputs": [],
   "source": []
  },
  {
   "cell_type": "code",
   "execution_count": 6,
   "id": "022d2b9e-c8a1-4692-be4b-131c36a9f58a",
   "metadata": {},
   "outputs": [],
   "source": [
    "path = '/home/tbellagio/scratch/slim_grenenet'\n",
    "path2 = '/home/tbellagio/scratch/slim_grenenet4gen/slim_grenenet'\n",
    "\n",
    "# Use the glob module to search for files in subfolders\n",
    "pattern = os.path.join(path, '**', 'allele_freq.csv')\n",
    "allele_freq = glob.glob(pattern, recursive=True)"
   ]
  },
  {
   "cell_type": "code",
   "execution_count": 89,
   "id": "e97506ba-1266-4998-9bf7-088481a1573a",
   "metadata": {},
   "outputs": [],
   "source": [
    "a_freq = pd.read_csv('/home/tbellagio/scratch/slim_grenenet/results/arq_highfreq_fivepoly_lowbeta/lowsel/allele_freq.csv').drop('Unnamed: 0',axis=1)\n",
    "\n",
    "a_freq = a_freq.set_index('chrom_pos')\n",
    "\n",
    "a_freq = a_freq.T\n",
    "\n",
    "a_freq['optima'] = a_freq.index.str.split('_').str[0]\n",
    "\n",
    "a_freq = a_freq.groupby('optima').mean().T"
   ]
  },
  {
   "cell_type": "code",
   "execution_count": 90,
   "id": "71844c3e-3c20-4ee8-bbb8-8924d4dc9617",
   "metadata": {},
   "outputs": [
    {
     "data": {
      "text/plain": [
       "3235480"
      ]
     },
     "execution_count": 90,
     "metadata": {},
     "output_type": "execute_result"
    }
   ],
   "source": [
    "len(a_freq)"
   ]
  },
  {
   "cell_type": "code",
   "execution_count": 91,
   "id": "2048eb42-cc66-4219-8053-03e7ca88ee6f",
   "metadata": {},
   "outputs": [],
   "source": [
    "a_freq = a_freq.reset_index().merge(allele_freq_founder, on = 'chrom_pos', how='left')"
   ]
  },
  {
   "cell_type": "code",
   "execution_count": 189,
   "id": "30aa602e-8e3f-4e2f-b841-11694a93352c",
   "metadata": {},
   "outputs": [
    {
     "data": {
      "text/html": [
       "<div>\n",
       "<style scoped>\n",
       "    .dataframe tbody tr th:only-of-type {\n",
       "        vertical-align: middle;\n",
       "    }\n",
       "\n",
       "    .dataframe tbody tr th {\n",
       "        vertical-align: top;\n",
       "    }\n",
       "\n",
       "    .dataframe thead th {\n",
       "        text-align: right;\n",
       "    }\n",
       "</style>\n",
       "<table border=\"1\" class=\"dataframe\">\n",
       "  <thead>\n",
       "    <tr style=\"text-align: right;\">\n",
       "      <th></th>\n",
       "      <th>chrom_pos</th>\n",
       "      <th>optima0</th>\n",
       "      <th>optima1</th>\n",
       "      <th>optima2</th>\n",
       "      <th>optima3</th>\n",
       "      <th>optima4</th>\n",
       "      <th>allele_freq_founder</th>\n",
       "      <th>deno_norm</th>\n",
       "    </tr>\n",
       "  </thead>\n",
       "  <tbody>\n",
       "    <tr>\n",
       "      <th>0</th>\n",
       "      <td>1_291</td>\n",
       "      <td>NaN</td>\n",
       "      <td>0.037222</td>\n",
       "      <td>0.076778</td>\n",
       "      <td>0.044444</td>\n",
       "      <td>NaN</td>\n",
       "      <td>0.173160</td>\n",
       "      <td>0.143176</td>\n",
       "    </tr>\n",
       "    <tr>\n",
       "      <th>1</th>\n",
       "      <td>1_346</td>\n",
       "      <td>NaN</td>\n",
       "      <td>0.311667</td>\n",
       "      <td>0.301778</td>\n",
       "      <td>0.195278</td>\n",
       "      <td>NaN</td>\n",
       "      <td>1.090909</td>\n",
       "      <td>-0.099174</td>\n",
       "    </tr>\n",
       "    <tr>\n",
       "      <th>2</th>\n",
       "      <td>1_349</td>\n",
       "      <td>NaN</td>\n",
       "      <td>0.007639</td>\n",
       "      <td>0.008333</td>\n",
       "      <td>0.011111</td>\n",
       "      <td>NaN</td>\n",
       "      <td>0.034632</td>\n",
       "      <td>0.033433</td>\n",
       "    </tr>\n",
       "    <tr>\n",
       "      <th>3</th>\n",
       "      <td>1_352</td>\n",
       "      <td>NaN</td>\n",
       "      <td>0.024556</td>\n",
       "      <td>0.019444</td>\n",
       "      <td>0.023056</td>\n",
       "      <td>NaN</td>\n",
       "      <td>0.086580</td>\n",
       "      <td>0.079084</td>\n",
       "    </tr>\n",
       "    <tr>\n",
       "      <th>4</th>\n",
       "      <td>1_353</td>\n",
       "      <td>NaN</td>\n",
       "      <td>0.076000</td>\n",
       "      <td>0.078889</td>\n",
       "      <td>0.082222</td>\n",
       "      <td>NaN</td>\n",
       "      <td>0.277056</td>\n",
       "      <td>0.200296</td>\n",
       "    </tr>\n",
       "    <tr>\n",
       "      <th>...</th>\n",
       "      <td>...</td>\n",
       "      <td>...</td>\n",
       "      <td>...</td>\n",
       "      <td>...</td>\n",
       "      <td>...</td>\n",
       "      <td>...</td>\n",
       "      <td>...</td>\n",
       "      <td>...</td>\n",
       "    </tr>\n",
       "    <tr>\n",
       "      <th>3235475</th>\n",
       "      <td>5_26975208</td>\n",
       "      <td>NaN</td>\n",
       "      <td>0.011667</td>\n",
       "      <td>0.013222</td>\n",
       "      <td>0.009167</td>\n",
       "      <td>NaN</td>\n",
       "      <td>0.051948</td>\n",
       "      <td>0.049249</td>\n",
       "    </tr>\n",
       "    <tr>\n",
       "      <th>3235476</th>\n",
       "      <td>5_26975215</td>\n",
       "      <td>NaN</td>\n",
       "      <td>0.016444</td>\n",
       "      <td>0.003667</td>\n",
       "      <td>NaN</td>\n",
       "      <td>NaN</td>\n",
       "      <td>0.034632</td>\n",
       "      <td>0.033433</td>\n",
       "    </tr>\n",
       "    <tr>\n",
       "      <th>3235477</th>\n",
       "      <td>5_26975267</td>\n",
       "      <td>NaN</td>\n",
       "      <td>0.004028</td>\n",
       "      <td>0.008194</td>\n",
       "      <td>0.008889</td>\n",
       "      <td>NaN</td>\n",
       "      <td>0.017316</td>\n",
       "      <td>0.017016</td>\n",
       "    </tr>\n",
       "    <tr>\n",
       "      <th>3235478</th>\n",
       "      <td>5_26975272</td>\n",
       "      <td>NaN</td>\n",
       "      <td>0.433667</td>\n",
       "      <td>0.396667</td>\n",
       "      <td>0.391111</td>\n",
       "      <td>NaN</td>\n",
       "      <td>1.541126</td>\n",
       "      <td>-0.833942</td>\n",
       "    </tr>\n",
       "    <tr>\n",
       "      <th>3235479</th>\n",
       "      <td>5_26975288</td>\n",
       "      <td>NaN</td>\n",
       "      <td>0.181889</td>\n",
       "      <td>0.209667</td>\n",
       "      <td>0.237500</td>\n",
       "      <td>NaN</td>\n",
       "      <td>0.865801</td>\n",
       "      <td>0.116190</td>\n",
       "    </tr>\n",
       "  </tbody>\n",
       "</table>\n",
       "<p>3235480 rows × 8 columns</p>\n",
       "</div>"
      ],
      "text/plain": [
       "          chrom_pos  optima0   optima1   optima2   optima3  optima4  \\\n",
       "0             1_291      NaN  0.037222  0.076778  0.044444      NaN   \n",
       "1             1_346      NaN  0.311667  0.301778  0.195278      NaN   \n",
       "2             1_349      NaN  0.007639  0.008333  0.011111      NaN   \n",
       "3             1_352      NaN  0.024556  0.019444  0.023056      NaN   \n",
       "4             1_353      NaN  0.076000  0.078889  0.082222      NaN   \n",
       "...             ...      ...       ...       ...       ...      ...   \n",
       "3235475  5_26975208      NaN  0.011667  0.013222  0.009167      NaN   \n",
       "3235476  5_26975215      NaN  0.016444  0.003667       NaN      NaN   \n",
       "3235477  5_26975267      NaN  0.004028  0.008194  0.008889      NaN   \n",
       "3235478  5_26975272      NaN  0.433667  0.396667  0.391111      NaN   \n",
       "3235479  5_26975288      NaN  0.181889  0.209667  0.237500      NaN   \n",
       "\n",
       "         allele_freq_founder  deno_norm  \n",
       "0                   0.173160   0.143176  \n",
       "1                   1.090909  -0.099174  \n",
       "2                   0.034632   0.033433  \n",
       "3                   0.086580   0.079084  \n",
       "4                   0.277056   0.200296  \n",
       "...                      ...        ...  \n",
       "3235475             0.051948   0.049249  \n",
       "3235476             0.034632   0.033433  \n",
       "3235477             0.017316   0.017016  \n",
       "3235478             1.541126  -0.833942  \n",
       "3235479             0.865801   0.116190  \n",
       "\n",
       "[3235480 rows x 8 columns]"
      ]
     },
     "execution_count": 189,
     "metadata": {},
     "output_type": "execute_result"
    }
   ],
   "source": [
    "a_freq"
   ]
  },
  {
   "cell_type": "code",
   "execution_count": 200,
   "id": "06c2b923-f0ac-41be-ad0a-f26a5f865017",
   "metadata": {},
   "outputs": [],
   "source": [
    "delta_p = pd.DataFrame()\n",
    "for i in ['optima0','optima1', 'optima2','optima3','optima4']:\n",
    "    delta_p[i] = (a_freq[i] - a_freq['allele_freq_founder']) / a_freq['deno_norm']\n",
    "    #delta_p.index = a_freq['chrom_pos']"
   ]
  },
  {
   "cell_type": "code",
   "execution_count": 96,
   "id": "ab0d5bf4-30d5-449a-8494-73898467408a",
   "metadata": {},
   "outputs": [],
   "source": [
    "optima_ = pd.read_csv('/home/tbellagio/scratch/slim_grenenet/results/arq_highfreq_fivepoly_lowbeta/optima_values.txt',header=None)"
   ]
  },
  {
   "cell_type": "code",
   "execution_count": 204,
   "id": "90728a67-1f71-45c5-85bb-55b421d52290",
   "metadata": {},
   "outputs": [],
   "source": [
    "delta_p.columns = optima_.values.flatten()"
   ]
  },
  {
   "cell_type": "code",
   "execution_count": 202,
   "id": "8ea8be6b-08bb-4652-b1cf-af8ff955ed9a",
   "metadata": {},
   "outputs": [],
   "source": [
    "delta_p.index = a_freq['chrom_pos']"
   ]
  },
  {
   "cell_type": "code",
   "execution_count": 205,
   "id": "32219bac-98dd-4401-a823-f9d7db8efb03",
   "metadata": {},
   "outputs": [
    {
     "data": {
      "text/html": [
       "<div>\n",
       "<style scoped>\n",
       "    .dataframe tbody tr th:only-of-type {\n",
       "        vertical-align: middle;\n",
       "    }\n",
       "\n",
       "    .dataframe tbody tr th {\n",
       "        vertical-align: top;\n",
       "    }\n",
       "\n",
       "    .dataframe thead th {\n",
       "        text-align: right;\n",
       "    }\n",
       "</style>\n",
       "<table border=\"1\" class=\"dataframe\">\n",
       "  <thead>\n",
       "    <tr style=\"text-align: right;\">\n",
       "      <th></th>\n",
       "      <th>-3.4450</th>\n",
       "      <th>-1.8575</th>\n",
       "      <th>-0.2701</th>\n",
       "      <th>1.3174</th>\n",
       "      <th>2.9048</th>\n",
       "    </tr>\n",
       "    <tr>\n",
       "      <th>chrom_pos</th>\n",
       "      <th></th>\n",
       "      <th></th>\n",
       "      <th></th>\n",
       "      <th></th>\n",
       "      <th></th>\n",
       "    </tr>\n",
       "  </thead>\n",
       "  <tbody>\n",
       "    <tr>\n",
       "      <th>1_291</th>\n",
       "      <td>NaN</td>\n",
       "      <td>-0.949448</td>\n",
       "      <td>-0.673176</td>\n",
       "      <td>-0.899005</td>\n",
       "      <td>NaN</td>\n",
       "    </tr>\n",
       "    <tr>\n",
       "      <th>1_346</th>\n",
       "      <td>NaN</td>\n",
       "      <td>7.857361</td>\n",
       "      <td>7.957074</td>\n",
       "      <td>9.030949</td>\n",
       "      <td>NaN</td>\n",
       "    </tr>\n",
       "    <tr>\n",
       "      <th>1_349</th>\n",
       "      <td>NaN</td>\n",
       "      <td>-0.807389</td>\n",
       "      <td>-0.786617</td>\n",
       "      <td>-0.703531</td>\n",
       "      <td>NaN</td>\n",
       "    </tr>\n",
       "    <tr>\n",
       "      <th>1_352</th>\n",
       "      <td>NaN</td>\n",
       "      <td>-0.784287</td>\n",
       "      <td>-0.848916</td>\n",
       "      <td>-0.803254</td>\n",
       "      <td>NaN</td>\n",
       "    </tr>\n",
       "    <tr>\n",
       "      <th>1_353</th>\n",
       "      <td>NaN</td>\n",
       "      <td>-1.003795</td>\n",
       "      <td>-0.989372</td>\n",
       "      <td>-0.972730</td>\n",
       "      <td>NaN</td>\n",
       "    </tr>\n",
       "    <tr>\n",
       "      <th>...</th>\n",
       "      <td>...</td>\n",
       "      <td>...</td>\n",
       "      <td>...</td>\n",
       "      <td>...</td>\n",
       "      <td>...</td>\n",
       "    </tr>\n",
       "    <tr>\n",
       "      <th>5_26975208</th>\n",
       "      <td>NaN</td>\n",
       "      <td>-0.817905</td>\n",
       "      <td>-0.786320</td>\n",
       "      <td>-0.868667</td>\n",
       "      <td>NaN</td>\n",
       "    </tr>\n",
       "    <tr>\n",
       "      <th>5_26975215</th>\n",
       "      <td>NaN</td>\n",
       "      <td>-0.544007</td>\n",
       "      <td>-0.926201</td>\n",
       "      <td>NaN</td>\n",
       "      <td>NaN</td>\n",
       "    </tr>\n",
       "    <tr>\n",
       "      <th>5_26975267</th>\n",
       "      <td>NaN</td>\n",
       "      <td>-0.780918</td>\n",
       "      <td>-0.536053</td>\n",
       "      <td>-0.495242</td>\n",
       "      <td>NaN</td>\n",
       "    </tr>\n",
       "    <tr>\n",
       "      <th>5_26975272</th>\n",
       "      <td>NaN</td>\n",
       "      <td>1.327980</td>\n",
       "      <td>1.372348</td>\n",
       "      <td>1.379009</td>\n",
       "      <td>NaN</td>\n",
       "    </tr>\n",
       "    <tr>\n",
       "      <th>5_26975288</th>\n",
       "      <td>NaN</td>\n",
       "      <td>-5.886166</td>\n",
       "      <td>-5.647093</td>\n",
       "      <td>-5.407542</td>\n",
       "      <td>NaN</td>\n",
       "    </tr>\n",
       "  </tbody>\n",
       "</table>\n",
       "<p>3235480 rows × 5 columns</p>\n",
       "</div>"
      ],
      "text/plain": [
       "            -3.4450   -1.8575   -0.2701    1.3174   2.9048\n",
       "chrom_pos                                                 \n",
       "1_291           NaN -0.949448 -0.673176 -0.899005      NaN\n",
       "1_346           NaN  7.857361  7.957074  9.030949      NaN\n",
       "1_349           NaN -0.807389 -0.786617 -0.703531      NaN\n",
       "1_352           NaN -0.784287 -0.848916 -0.803254      NaN\n",
       "1_353           NaN -1.003795 -0.989372 -0.972730      NaN\n",
       "...             ...       ...       ...       ...      ...\n",
       "5_26975208      NaN -0.817905 -0.786320 -0.868667      NaN\n",
       "5_26975215      NaN -0.544007 -0.926201       NaN      NaN\n",
       "5_26975267      NaN -0.780918 -0.536053 -0.495242      NaN\n",
       "5_26975272      NaN  1.327980  1.372348  1.379009      NaN\n",
       "5_26975288      NaN -5.886166 -5.647093 -5.407542      NaN\n",
       "\n",
       "[3235480 rows x 5 columns]"
      ]
     },
     "execution_count": 205,
     "metadata": {},
     "output_type": "execute_result"
    }
   ],
   "source": [
    "delta_p"
   ]
  },
  {
   "cell_type": "code",
   "execution_count": 258,
   "id": "a89003f5-34ce-4ff7-bb31-6a6c10efdc0e",
   "metadata": {},
   "outputs": [],
   "source": [
    "delta_p_sample = delta_p.sample(10000)"
   ]
  },
  {
   "cell_type": "code",
   "execution_count": 241,
   "id": "250a1e48-9bd5-4a5e-88c6-c16e88edf88f",
   "metadata": {},
   "outputs": [
    {
     "data": {
      "text/html": [
       "<div>\n",
       "<style scoped>\n",
       "    .dataframe tbody tr th:only-of-type {\n",
       "        vertical-align: middle;\n",
       "    }\n",
       "\n",
       "    .dataframe tbody tr th {\n",
       "        vertical-align: top;\n",
       "    }\n",
       "\n",
       "    .dataframe thead th {\n",
       "        text-align: right;\n",
       "    }\n",
       "</style>\n",
       "<table border=\"1\" class=\"dataframe\">\n",
       "  <thead>\n",
       "    <tr style=\"text-align: right;\">\n",
       "      <th>chrom_pos</th>\n",
       "      <th>4_12924922</th>\n",
       "      <th>2_4626054</th>\n",
       "      <th>4_13007677</th>\n",
       "      <th>1_23915336</th>\n",
       "      <th>4_14546478</th>\n",
       "      <th>2_4614906</th>\n",
       "      <th>5_9361493</th>\n",
       "      <th>2_2293701</th>\n",
       "      <th>1_24428084</th>\n",
       "      <th>1_2983762</th>\n",
       "      <th>...</th>\n",
       "      <th>2_13011604</th>\n",
       "      <th>1_22961279</th>\n",
       "      <th>1_21569979</th>\n",
       "      <th>5_5647437</th>\n",
       "      <th>5_11392955</th>\n",
       "      <th>5_16511463</th>\n",
       "      <th>5_15247636</th>\n",
       "      <th>1_22807985</th>\n",
       "      <th>5_7993061</th>\n",
       "      <th>2_2273765</th>\n",
       "    </tr>\n",
       "  </thead>\n",
       "  <tbody>\n",
       "    <tr>\n",
       "      <th>-3.4450</th>\n",
       "      <td>NaN</td>\n",
       "      <td>NaN</td>\n",
       "      <td>NaN</td>\n",
       "      <td>NaN</td>\n",
       "      <td>NaN</td>\n",
       "      <td>NaN</td>\n",
       "      <td>NaN</td>\n",
       "      <td>NaN</td>\n",
       "      <td>NaN</td>\n",
       "      <td>NaN</td>\n",
       "      <td>...</td>\n",
       "      <td>NaN</td>\n",
       "      <td>NaN</td>\n",
       "      <td>NaN</td>\n",
       "      <td>NaN</td>\n",
       "      <td>NaN</td>\n",
       "      <td>NaN</td>\n",
       "      <td>NaN</td>\n",
       "      <td>NaN</td>\n",
       "      <td>NaN</td>\n",
       "      <td>NaN</td>\n",
       "    </tr>\n",
       "    <tr>\n",
       "      <th>-1.8575</th>\n",
       "      <td>-0.727662</td>\n",
       "      <td>-0.741202</td>\n",
       "      <td>-0.760030</td>\n",
       "      <td>-0.384237</td>\n",
       "      <td>-0.815199</td>\n",
       "      <td>-0.687052</td>\n",
       "      <td>-1.001212</td>\n",
       "      <td>-0.890699</td>\n",
       "      <td>-1.015328</td>\n",
       "      <td>-1.022000</td>\n",
       "      <td>...</td>\n",
       "      <td>-1.007948</td>\n",
       "      <td>-0.682972</td>\n",
       "      <td>-0.790133</td>\n",
       "      <td>-0.769079</td>\n",
       "      <td>-1.024436</td>\n",
       "      <td>-0.716825</td>\n",
       "      <td>0.562113</td>\n",
       "      <td>-0.803234</td>\n",
       "      <td>-2.630884</td>\n",
       "      <td>-0.856259</td>\n",
       "    </tr>\n",
       "    <tr>\n",
       "      <th>-0.2701</th>\n",
       "      <td>-0.917173</td>\n",
       "      <td>-0.873674</td>\n",
       "      <td>-0.736766</td>\n",
       "      <td>-0.576864</td>\n",
       "      <td>NaN</td>\n",
       "      <td>-0.734430</td>\n",
       "      <td>-0.872051</td>\n",
       "      <td>-0.899145</td>\n",
       "      <td>-0.966281</td>\n",
       "      <td>-0.922559</td>\n",
       "      <td>...</td>\n",
       "      <td>-1.066989</td>\n",
       "      <td>-0.952324</td>\n",
       "      <td>-0.817583</td>\n",
       "      <td>-0.804551</td>\n",
       "      <td>-0.807269</td>\n",
       "      <td>-0.756706</td>\n",
       "      <td>0.562113</td>\n",
       "      <td>-0.786617</td>\n",
       "      <td>-2.704269</td>\n",
       "      <td>-0.793088</td>\n",
       "    </tr>\n",
       "    <tr>\n",
       "      <th>1.3174</th>\n",
       "      <td>-1.026593</td>\n",
       "      <td>-0.826533</td>\n",
       "      <td>-0.770000</td>\n",
       "      <td>-0.984972</td>\n",
       "      <td>NaN</td>\n",
       "      <td>-0.693820</td>\n",
       "      <td>-0.643058</td>\n",
       "      <td>-1.000918</td>\n",
       "      <td>-0.967236</td>\n",
       "      <td>-0.757904</td>\n",
       "      <td>...</td>\n",
       "      <td>-1.174455</td>\n",
       "      <td>NaN</td>\n",
       "      <td>-0.671386</td>\n",
       "      <td>-1.049481</td>\n",
       "      <td>-0.044600</td>\n",
       "      <td>-0.927863</td>\n",
       "      <td>0.578035</td>\n",
       "      <td>-0.695223</td>\n",
       "      <td>-2.911817</td>\n",
       "      <td>-0.823545</td>\n",
       "    </tr>\n",
       "    <tr>\n",
       "      <th>2.9048</th>\n",
       "      <td>NaN</td>\n",
       "      <td>NaN</td>\n",
       "      <td>NaN</td>\n",
       "      <td>NaN</td>\n",
       "      <td>NaN</td>\n",
       "      <td>NaN</td>\n",
       "      <td>NaN</td>\n",
       "      <td>NaN</td>\n",
       "      <td>NaN</td>\n",
       "      <td>NaN</td>\n",
       "      <td>...</td>\n",
       "      <td>NaN</td>\n",
       "      <td>NaN</td>\n",
       "      <td>NaN</td>\n",
       "      <td>NaN</td>\n",
       "      <td>NaN</td>\n",
       "      <td>NaN</td>\n",
       "      <td>NaN</td>\n",
       "      <td>NaN</td>\n",
       "      <td>NaN</td>\n",
       "      <td>NaN</td>\n",
       "    </tr>\n",
       "  </tbody>\n",
       "</table>\n",
       "<p>5 rows × 10000 columns</p>\n",
       "</div>"
      ],
      "text/plain": [
       "chrom_pos  4_12924922  2_4626054  4_13007677  1_23915336  4_14546478  \\\n",
       "-3.4450           NaN        NaN         NaN         NaN         NaN   \n",
       "-1.8575     -0.727662  -0.741202   -0.760030   -0.384237   -0.815199   \n",
       "-0.2701     -0.917173  -0.873674   -0.736766   -0.576864         NaN   \n",
       " 1.3174     -1.026593  -0.826533   -0.770000   -0.984972         NaN   \n",
       " 2.9048           NaN        NaN         NaN         NaN         NaN   \n",
       "\n",
       "chrom_pos  2_4614906  5_9361493  2_2293701  1_24428084  1_2983762  ...  \\\n",
       "-3.4450          NaN        NaN        NaN         NaN        NaN  ...   \n",
       "-1.8575    -0.687052  -1.001212  -0.890699   -1.015328  -1.022000  ...   \n",
       "-0.2701    -0.734430  -0.872051  -0.899145   -0.966281  -0.922559  ...   \n",
       " 1.3174    -0.693820  -0.643058  -1.000918   -0.967236  -0.757904  ...   \n",
       " 2.9048          NaN        NaN        NaN         NaN        NaN  ...   \n",
       "\n",
       "chrom_pos  2_13011604  1_22961279  1_21569979  5_5647437  5_11392955  \\\n",
       "-3.4450           NaN         NaN         NaN        NaN         NaN   \n",
       "-1.8575     -1.007948   -0.682972   -0.790133  -0.769079   -1.024436   \n",
       "-0.2701     -1.066989   -0.952324   -0.817583  -0.804551   -0.807269   \n",
       " 1.3174     -1.174455         NaN   -0.671386  -1.049481   -0.044600   \n",
       " 2.9048           NaN         NaN         NaN        NaN         NaN   \n",
       "\n",
       "chrom_pos  5_16511463  5_15247636  1_22807985  5_7993061  2_2273765  \n",
       "-3.4450           NaN         NaN         NaN        NaN        NaN  \n",
       "-1.8575     -0.716825    0.562113   -0.803234  -2.630884  -0.856259  \n",
       "-0.2701     -0.756706    0.562113   -0.786617  -2.704269  -0.793088  \n",
       " 1.3174     -0.927863    0.578035   -0.695223  -2.911817  -0.823545  \n",
       " 2.9048           NaN         NaN         NaN        NaN        NaN  \n",
       "\n",
       "[5 rows x 10000 columns]"
      ]
     },
     "execution_count": 241,
     "metadata": {},
     "output_type": "execute_result"
    }
   ],
   "source": [
    "delta_p_sample.T"
   ]
  },
  {
   "cell_type": "code",
   "execution_count": 208,
   "id": "9a4d05c2-82af-4441-b530-1bf0c4238821",
   "metadata": {},
   "outputs": [
    {
     "data": {
      "image/png": "[encoded data removed]",
      "text/plain": [
       "<Figure size 1000x600 with 1 Axes>"
      ]
     },
     "metadata": {},
     "output_type": "display_data"
    }
   ],
   "source": [
    "# Create a scatter plot\n",
    "plt.figure(figsize=(10, 6))  # Set the figure size (adjust as needed)\n",
    "for index, row in delta_p_sample.T.iterrows():\n",
    "    plt.scatter([index] * len(row), row, label=index)\n",
    "\n",
    "plt.xlabel('Index')\n",
    "plt.ylabel('Value')\n",
    "#plt.legend(title='DataFrame Rows')\n",
    "plt.title('Scatter Plot by DataFrame Rows')\n",
    "plt.show()"
   ]
  },
  {
   "cell_type": "code",
   "execution_count": 146,
   "id": "7bfce9bc-ebdf-4c27-9a09-b3cc88d7768b",
   "metadata": {},
   "outputs": [],
   "source": [
    "delta_p_sample = delta_p_sample.reset_index()"
   ]
  },
  {
   "cell_type": "code",
   "execution_count": 147,
   "id": "26b1ea0f-bf82-42fc-9010-4ab597c48ee9",
   "metadata": {},
   "outputs": [],
   "source": [
    "df_melted = delta_p_sample.melt(id_vars='index', var_name='Set', value_name='Value')"
   ]
  },
  {
   "cell_type": "code",
   "execution_count": 149,
   "id": "1bd8b9fe-586d-47c8-ae18-aee552c30ceb",
   "metadata": {},
   "outputs": [
    {
     "data": {
      "text/plain": [
       "<Axes: xlabel='Set', ylabel='Value'>"
      ]
     },
     "execution_count": 149,
     "metadata": {},
     "output_type": "execute_result"
    },
    {
     "data": {
      "image/png": "[encoded data removed]",
      "text/plain": [
       "<Figure size 640x480 with 1 Axes>"
      ]
     },
     "metadata": {},
     "output_type": "display_data"
    }
   ],
   "source": [
    "sns.lineplot(data=df_melted, x='Set', y='Value', hue = 'index',legend=False)\n"
   ]
  },
  {
   "cell_type": "code",
   "execution_count": 157,
   "id": "d03d0f2c-73e8-4472-b10b-857a75bd2420",
   "metadata": {},
   "outputs": [
    {
     "data": {
      "text/html": [
       "<div>\n",
       "<style scoped>\n",
       "    .dataframe tbody tr th:only-of-type {\n",
       "        vertical-align: middle;\n",
       "    }\n",
       "\n",
       "    .dataframe tbody tr th {\n",
       "        vertical-align: top;\n",
       "    }\n",
       "\n",
       "    .dataframe thead th {\n",
       "        text-align: right;\n",
       "    }\n",
       "</style>\n",
       "<table border=\"1\" class=\"dataframe\">\n",
       "  <thead>\n",
       "    <tr style=\"text-align: right;\">\n",
       "      <th></th>\n",
       "      <th>-3.445</th>\n",
       "      <th>-1.8575</th>\n",
       "      <th>-0.2701</th>\n",
       "      <th>1.3174</th>\n",
       "      <th>2.9048</th>\n",
       "    </tr>\n",
       "    <tr>\n",
       "      <th>index</th>\n",
       "      <th></th>\n",
       "      <th></th>\n",
       "      <th></th>\n",
       "      <th></th>\n",
       "      <th></th>\n",
       "    </tr>\n",
       "  </thead>\n",
       "  <tbody>\n",
       "    <tr>\n",
       "      <th>687644</th>\n",
       "      <td>NaN</td>\n",
       "      <td>-5.946412</td>\n",
       "      <td>-5.495999</td>\n",
       "      <td>-5.596410</td>\n",
       "      <td>NaN</td>\n",
       "    </tr>\n",
       "    <tr>\n",
       "      <th>346340</th>\n",
       "      <td>NaN</td>\n",
       "      <td>-0.550654</td>\n",
       "      <td>-0.833145</td>\n",
       "      <td>-0.994332</td>\n",
       "      <td>NaN</td>\n",
       "    </tr>\n",
       "    <tr>\n",
       "      <th>1888139</th>\n",
       "      <td>NaN</td>\n",
       "      <td>4.654563</td>\n",
       "      <td>4.657553</td>\n",
       "      <td>4.863537</td>\n",
       "      <td>NaN</td>\n",
       "    </tr>\n",
       "    <tr>\n",
       "      <th>1531064</th>\n",
       "      <td>NaN</td>\n",
       "      <td>0.812733</td>\n",
       "      <td>0.814363</td>\n",
       "      <td>0.819943</td>\n",
       "      <td>NaN</td>\n",
       "    </tr>\n",
       "    <tr>\n",
       "      <th>1643554</th>\n",
       "      <td>NaN</td>\n",
       "      <td>0.921365</td>\n",
       "      <td>0.918079</td>\n",
       "      <td>0.874907</td>\n",
       "      <td>NaN</td>\n",
       "    </tr>\n",
       "    <tr>\n",
       "      <th>...</th>\n",
       "      <td>...</td>\n",
       "      <td>...</td>\n",
       "      <td>...</td>\n",
       "      <td>...</td>\n",
       "      <td>...</td>\n",
       "    </tr>\n",
       "    <tr>\n",
       "      <th>1242694</th>\n",
       "      <td>NaN</td>\n",
       "      <td>-1.058619</td>\n",
       "      <td>-1.176258</td>\n",
       "      <td>-1.465794</td>\n",
       "      <td>NaN</td>\n",
       "    </tr>\n",
       "    <tr>\n",
       "      <th>396018</th>\n",
       "      <td>NaN</td>\n",
       "      <td>-0.981472</td>\n",
       "      <td>-0.678028</td>\n",
       "      <td>-0.050835</td>\n",
       "      <td>NaN</td>\n",
       "    </tr>\n",
       "    <tr>\n",
       "      <th>1171066</th>\n",
       "      <td>NaN</td>\n",
       "      <td>-0.709823</td>\n",
       "      <td>-0.847511</td>\n",
       "      <td>-0.841891</td>\n",
       "      <td>NaN</td>\n",
       "    </tr>\n",
       "    <tr>\n",
       "      <th>338989</th>\n",
       "      <td>NaN</td>\n",
       "      <td>-0.944848</td>\n",
       "      <td>-1.074832</td>\n",
       "      <td>-1.232632</td>\n",
       "      <td>NaN</td>\n",
       "    </tr>\n",
       "    <tr>\n",
       "      <th>7199</th>\n",
       "      <td>NaN</td>\n",
       "      <td>-0.982277</td>\n",
       "      <td>-0.887995</td>\n",
       "      <td>-0.713157</td>\n",
       "      <td>NaN</td>\n",
       "    </tr>\n",
       "  </tbody>\n",
       "</table>\n",
       "<p>1000 rows × 5 columns</p>\n",
       "</div>"
      ],
      "text/plain": [
       "         -3.445   -1.8575   -0.2701    1.3174  2.9048\n",
       "index                                                \n",
       "687644      NaN -5.946412 -5.495999 -5.596410     NaN\n",
       "346340      NaN -0.550654 -0.833145 -0.994332     NaN\n",
       "1888139     NaN  4.654563  4.657553  4.863537     NaN\n",
       "1531064     NaN  0.812733  0.814363  0.819943     NaN\n",
       "1643554     NaN  0.921365  0.918079  0.874907     NaN\n",
       "...         ...       ...       ...       ...     ...\n",
       "1242694     NaN -1.058619 -1.176258 -1.465794     NaN\n",
       "396018      NaN -0.981472 -0.678028 -0.050835     NaN\n",
       "1171066     NaN -0.709823 -0.847511 -0.841891     NaN\n",
       "338989      NaN -0.944848 -1.074832 -1.232632     NaN\n",
       "7199        NaN -0.982277 -0.887995 -0.713157     NaN\n",
       "\n",
       "[1000 rows x 5 columns]"
      ]
     },
     "execution_count": 157,
     "metadata": {},
     "output_type": "execute_result"
    }
   ],
   "source": [
    "delta_p_sample"
   ]
  },
  {
   "cell_type": "code",
   "execution_count": 153,
   "id": "1825817c-7487-4f06-b5c3-9b8028ad007e",
   "metadata": {},
   "outputs": [],
   "source": [
    "delta_p_sample = delta_p_sample.set_index('index')"
   ]
  },
  {
   "cell_type": "code",
   "execution_count": null,
   "id": "afc5f6ab-3245-4f7d-9eca-30aaccdb211f",
   "metadata": {},
   "outputs": [],
   "source": []
  },
  {
   "cell_type": "code",
   "execution_count": 164,
   "id": "a875da77-1dc9-47ee-8eca-d61c54008bd0",
   "metadata": {
    "tags": []
   },
   "outputs": [
    {
     "data": {
      "text/html": [
       "<div>\n",
       "<style scoped>\n",
       "    .dataframe tbody tr th:only-of-type {\n",
       "        vertical-align: middle;\n",
       "    }\n",
       "\n",
       "    .dataframe tbody tr th {\n",
       "        vertical-align: top;\n",
       "    }\n",
       "\n",
       "    .dataframe thead th {\n",
       "        text-align: right;\n",
       "    }\n",
       "</style>\n",
       "<table border=\"1\" class=\"dataframe\">\n",
       "  <thead>\n",
       "    <tr style=\"text-align: right;\">\n",
       "      <th></th>\n",
       "      <th>Unnamed: 0</th>\n",
       "      <th>pos</th>\n",
       "      <th>sc</th>\n",
       "    </tr>\n",
       "  </thead>\n",
       "  <tbody>\n",
       "    <tr>\n",
       "      <th>0</th>\n",
       "      <td>0</td>\n",
       "      <td>93463494</td>\n",
       "      <td>0.932144</td>\n",
       "    </tr>\n",
       "    <tr>\n",
       "      <th>1</th>\n",
       "      <td>1</td>\n",
       "      <td>71669474</td>\n",
       "      <td>-1.499625</td>\n",
       "    </tr>\n",
       "    <tr>\n",
       "      <th>2</th>\n",
       "      <td>2</td>\n",
       "      <td>114571706</td>\n",
       "      <td>-0.143885</td>\n",
       "    </tr>\n",
       "    <tr>\n",
       "      <th>3</th>\n",
       "      <td>3</td>\n",
       "      <td>47725394</td>\n",
       "      <td>-0.078990</td>\n",
       "    </tr>\n",
       "    <tr>\n",
       "      <th>4</th>\n",
       "      <td>4</td>\n",
       "      <td>29207036</td>\n",
       "      <td>0.520260</td>\n",
       "    </tr>\n",
       "  </tbody>\n",
       "</table>\n",
       "</div>"
      ],
      "text/plain": [
       "   Unnamed: 0        pos        sc\n",
       "0           0   93463494  0.932144\n",
       "1           1   71669474 -1.499625\n",
       "2           2  114571706 -0.143885\n",
       "3           3   47725394 -0.078990\n",
       "4           4   29207036  0.520260"
      ]
     },
     "execution_count": 164,
     "metadata": {},
     "output_type": "execute_result"
    }
   ],
   "source": [
    "pd.read_csv('/home/tbellagio/scratch/slim_grenenet/results/arq_highfreq_fivepoly_lowbeta/loci_effectsize.csv') #loci_effectsize.csv')"
   ]
  },
  {
   "cell_type": "code",
   "execution_count": 224,
   "id": "ebbe4d44-d0ca-4554-bab6-b7c733aa24a3",
   "metadata": {},
   "outputs": [],
   "source": [
    "causal_loci = pd.read_csv('/home/tbellagio/scratch/slim_grenenet/results/arq_highfreq_fivepoly_lowbeta/loci_effectsize.csv')['pos']"
   ]
  },
  {
   "cell_type": "code",
   "execution_count": 225,
   "id": "8080faa8-2cb2-4429-8b90-00b0ed902d9c",
   "metadata": {},
   "outputs": [],
   "source": [
    "causal_loci = causal_loci.values"
   ]
  },
  {
   "cell_type": "code",
   "execution_count": 184,
   "id": "d4882205-9360-4154-a785-cc66e0b6dfc8",
   "metadata": {},
   "outputs": [],
   "source": [
    "causal_loci = dict_offset_nooffset[dict_offset_nooffset['offset'].isin(causal_loci)]['nooffset'].values"
   ]
  },
  {
   "cell_type": "code",
   "execution_count": 185,
   "id": "6407fc8a-8533-44e4-9ed0-1d0efdc0578f",
   "metadata": {},
   "outputs": [
    {
     "data": {
      "text/plain": [
       "array(['1_29207036', '2_17297723', '3_21543514', '5_1292648',\n",
       "       '5_22400860'], dtype=object)"
      ]
     },
     "execution_count": 185,
     "metadata": {},
     "output_type": "execute_result"
    }
   ],
   "source": [
    "causal_loci"
   ]
  },
  {
   "cell_type": "code",
   "execution_count": 213,
   "id": "d1b75899-baf7-466e-b908-260dadd9fd89",
   "metadata": {},
   "outputs": [
    {
     "data": {
      "text/plain": [
       "offset       int32\n",
       "nooffset    object\n",
       "dtype: object"
      ]
     },
     "execution_count": 213,
     "metadata": {},
     "output_type": "execute_result"
    }
   ],
   "source": [
    "dict_offset_nooffset.dtypes"
   ]
  },
  {
   "cell_type": "code",
   "execution_count": 259,
   "id": "2d952daf-88ea-46d7-90de-e3ff26450216",
   "metadata": {},
   "outputs": [
    {
     "data": {
      "text/plain": [
       "Index(['5_14285614', '1_23194441', '5_22526347', '2_1381474', '3_3737644',\n",
       "       '2_2415456', '2_10739420', '4_15126633', '5_10612185', '1_12812560',\n",
       "       ...\n",
       "       '5_3472506', '5_6778097', '2_321483', '5_14889436', '3_9787637',\n",
       "       '5_8922690', '1_14024190', '5_18039594', '3_1749218', '3_2492156'],\n",
       "      dtype='object', name='chrom_pos', length=10000)"
      ]
     },
     "execution_count": 259,
     "metadata": {},
     "output_type": "execute_result"
    }
   ],
   "source": [
    "delta_p_sample.index"
   ]
  },
  {
   "cell_type": "code",
   "execution_count": 260,
   "id": "a62a6b25-7738-489c-8cec-45a66c512a89",
   "metadata": {},
   "outputs": [],
   "source": [
    "delta_p_sample_offset = delta_p_sample.reset_index().merge(dict_offset_nooffset, right_on = 'nooffset', left_on = 'chrom_pos', how = 'left')"
   ]
  },
  {
   "cell_type": "code",
   "execution_count": 261,
   "id": "b676cf46-7fcd-4924-8c77-2e5836d57ef9",
   "metadata": {},
   "outputs": [],
   "source": [
    "delta_p_sample_offset = delta_p_sample_offset.drop(['nooffset', 'chrom_pos'],axis=1).set_index('offset')"
   ]
  },
  {
   "cell_type": "code",
   "execution_count": 262,
   "id": "5368110f-0f6e-4315-9a19-957e6ca3a0c6",
   "metadata": {},
   "outputs": [
    {
     "data": {
      "text/html": [
       "<div>\n",
       "<style scoped>\n",
       "    .dataframe tbody tr th:only-of-type {\n",
       "        vertical-align: middle;\n",
       "    }\n",
       "\n",
       "    .dataframe tbody tr th {\n",
       "        vertical-align: top;\n",
       "    }\n",
       "\n",
       "    .dataframe thead th {\n",
       "        text-align: right;\n",
       "    }\n",
       "</style>\n",
       "<table border=\"1\" class=\"dataframe\">\n",
       "  <thead>\n",
       "    <tr style=\"text-align: right;\">\n",
       "      <th></th>\n",
       "      <th>-3.445</th>\n",
       "      <th>-1.8575</th>\n",
       "      <th>-0.2701</th>\n",
       "      <th>1.3174</th>\n",
       "      <th>2.9048</th>\n",
       "    </tr>\n",
       "    <tr>\n",
       "      <th>offset</th>\n",
       "      <th></th>\n",
       "      <th></th>\n",
       "      <th></th>\n",
       "      <th></th>\n",
       "      <th></th>\n",
       "    </tr>\n",
       "  </thead>\n",
       "  <tbody>\n",
       "    <tr>\n",
       "      <th>106456460</th>\n",
       "      <td>NaN</td>\n",
       "      <td>-0.811656</td>\n",
       "      <td>-0.768827</td>\n",
       "      <td>-0.948988</td>\n",
       "      <td>NaN</td>\n",
       "    </tr>\n",
       "    <tr>\n",
       "      <th>23194441</th>\n",
       "      <td>NaN</td>\n",
       "      <td>2.125038</td>\n",
       "      <td>2.059348</td>\n",
       "      <td>2.091724</td>\n",
       "      <td>NaN</td>\n",
       "    </tr>\n",
       "    <tr>\n",
       "      <th>114697193</th>\n",
       "      <td>NaN</td>\n",
       "      <td>-0.534421</td>\n",
       "      <td>-0.534421</td>\n",
       "      <td>-0.952324</td>\n",
       "      <td>NaN</td>\n",
       "    </tr>\n",
       "    <tr>\n",
       "      <th>31809145</th>\n",
       "      <td>NaN</td>\n",
       "      <td>-0.630213</td>\n",
       "      <td>-0.761491</td>\n",
       "      <td>-0.990631</td>\n",
       "      <td>NaN</td>\n",
       "    </tr>\n",
       "    <tr>\n",
       "      <th>53863604</th>\n",
       "      <td>NaN</td>\n",
       "      <td>-0.917576</td>\n",
       "      <td>-0.772798</td>\n",
       "      <td>-0.738327</td>\n",
       "      <td>NaN</td>\n",
       "    </tr>\n",
       "    <tr>\n",
       "      <th>...</th>\n",
       "      <td>...</td>\n",
       "      <td>...</td>\n",
       "      <td>...</td>\n",
       "      <td>...</td>\n",
       "      <td>...</td>\n",
       "    </tr>\n",
       "    <tr>\n",
       "      <th>101093536</th>\n",
       "      <td>NaN</td>\n",
       "      <td>-0.321337</td>\n",
       "      <td>-0.713502</td>\n",
       "      <td>-0.936172</td>\n",
       "      <td>NaN</td>\n",
       "    </tr>\n",
       "    <tr>\n",
       "      <th>14024190</th>\n",
       "      <td>NaN</td>\n",
       "      <td>0.258377</td>\n",
       "      <td>0.257519</td>\n",
       "      <td>0.255726</td>\n",
       "      <td>NaN</td>\n",
       "    </tr>\n",
       "    <tr>\n",
       "      <th>110210440</th>\n",
       "      <td>NaN</td>\n",
       "      <td>-0.848931</td>\n",
       "      <td>-0.657003</td>\n",
       "      <td>-0.828160</td>\n",
       "      <td>NaN</td>\n",
       "    </tr>\n",
       "    <tr>\n",
       "      <th>51875178</th>\n",
       "      <td>NaN</td>\n",
       "      <td>-3.127097</td>\n",
       "      <td>-3.058155</td>\n",
       "      <td>-2.758433</td>\n",
       "      <td>NaN</td>\n",
       "    </tr>\n",
       "    <tr>\n",
       "      <th>52618116</th>\n",
       "      <td>NaN</td>\n",
       "      <td>-0.851726</td>\n",
       "      <td>-0.642384</td>\n",
       "      <td>-0.862966</td>\n",
       "      <td>NaN</td>\n",
       "    </tr>\n",
       "  </tbody>\n",
       "</table>\n",
       "<p>10000 rows × 5 columns</p>\n",
       "</div>"
      ],
      "text/plain": [
       "           -3.445   -1.8575   -0.2701    1.3174  2.9048\n",
       "offset                                                 \n",
       "106456460     NaN -0.811656 -0.768827 -0.948988     NaN\n",
       "23194441      NaN  2.125038  2.059348  2.091724     NaN\n",
       "114697193     NaN -0.534421 -0.534421 -0.952324     NaN\n",
       "31809145      NaN -0.630213 -0.761491 -0.990631     NaN\n",
       "53863604      NaN -0.917576 -0.772798 -0.738327     NaN\n",
       "...           ...       ...       ...       ...     ...\n",
       "101093536     NaN -0.321337 -0.713502 -0.936172     NaN\n",
       "14024190      NaN  0.258377  0.257519  0.255726     NaN\n",
       "110210440     NaN -0.848931 -0.657003 -0.828160     NaN\n",
       "51875178      NaN -3.127097 -3.058155 -2.758433     NaN\n",
       "52618116      NaN -0.851726 -0.642384 -0.862966     NaN\n",
       "\n",
       "[10000 rows x 5 columns]"
      ]
     },
     "execution_count": 262,
     "metadata": {},
     "output_type": "execute_result"
    }
   ],
   "source": [
    "delta_p_sample_offset"
   ]
  },
  {
   "cell_type": "code",
   "execution_count": 263,
   "id": "5a59f194-e1e8-4bd0-a72f-45a0a83e9c84",
   "metadata": {},
   "outputs": [
    {
     "data": {
      "text/plain": [
       "array([ 93463494,  71669474, 114571706,  47725394,  29207036])"
      ]
     },
     "execution_count": 263,
     "metadata": {},
     "output_type": "execute_result"
    }
   ],
   "source": [
    "causal_loci"
   ]
  },
  {
   "cell_type": "code",
   "execution_count": 264,
   "id": "5bf7f331-571e-4bf0-8f83-4eee9897c8d2",
   "metadata": {},
   "outputs": [
    {
     "data": {
      "image/png": "[encoded data removed]",
      "text/plain": [
       "<Figure size 1500x600 with 1 Axes>"
      ]
     },
     "metadata": {},
     "output_type": "display_data"
    }
   ],
   "source": [
    "# Create a single plot\n",
    "plt.figure(figsize=(15, 6))\n",
    "\n",
    "# Iterate through columns and create scatter plots with different colors\n",
    "colors = ['blue', 'green', 'purple', 'orange']\n",
    "for col, color in zip(delta_p_sample_offset.columns, colors):\n",
    "    plt.scatter(delta_p_sample_offset.index, delta_p_sample_offset[col], label=col, color=color, alpha=0.7, s = 5)  # Adding transparency with alpha\n",
    "    \n",
    "# Add vertical lines at specified values\n",
    "for val in causal_loci:\n",
    "    plt.axvline(x=val, color='black', linestyle='--', linewidth=0.2)\n",
    "    \n",
    "plt.xlabel('Position')\n",
    "plt.ylabel('Delta p norm')\n",
    "plt.title('Scatter Plots for Columns')\n",
    "plt.legend()\n",
    "\n",
    "# Show the plot\n",
    "  # Adding a grid for clarity\n",
    "plt.show()"
   ]
  },
  {
   "cell_type": "code",
   "execution_count": null,
   "id": "9c0154ce-cb5f-4cb5-ac55-8f8adcc31342",
   "metadata": {},
   "outputs": [],
   "source": []
  }
 ],
 "metadata": {
  "kernelspec": {
   "display_name": "Python (snakemake_pipeline)",
   "language": "python",
   "name": "pipeline_snakemake"
  },
  "language_info": {
   "codemirror_mode": {
    "name": "ipython",
    "version": 3
   },
   "file_extension": ".py",
   "mimetype": "text/x-python",
   "name": "python",
   "nbconvert_exporter": "python",
   "pygments_lexer": "ipython3",
   "version": "3.9.16"
  }
 },
 "nbformat": 4,
 "nbformat_minor": 5
}
