{
 "cells": [
  {
   "cell_type": "code",
   "execution_count": null,
   "id": "e0b5b100-f69f-4c85-bb26-ed2935335f07",
   "metadata": {},
   "outputs": [],
   "source": [
    "## recreating allele freq"
   ]
  },
  {
   "cell_type": "code",
   "execution_count": null,
   "id": "3e27360f-ed57-49af-bdec-f2f68bdbd2bc",
   "metadata": {},
   "outputs": [],
   "source": [
    "## shoul i cehck if i can get certain metrics from trees?"
   ]
  },
  {
   "cell_type": "code",
   "execution_count": 1,
   "id": "c9f8eea2-d0f1-416a-9393-bb38c4053971",
   "metadata": {},
   "outputs": [],
   "source": [
    "# once i have wholegenome_offset.trees\n",
    "import pandas as pd\n",
    "import tskit\n",
    "#import allel\n",
    "import random\n",
    "import numpy as np\n",
    "import seaborn as sns\n",
    "import matplotlib.pyplot as plt\n",
    "import tsinfer\n",
    "#import pyslim\n",
    "import os\n",
    "from collections import defaultdict"
   ]
  },
  {
   "cell_type": "code",
   "execution_count": 18,
   "id": "46c9f02f-bac2-4b8f-bf2a-d3b02fd075a4",
   "metadata": {},
   "outputs": [],
   "source": [
    "path = '/home/tbellagio/scratch/slim_grenenet/'"
   ]
  },
  {
   "cell_type": "code",
   "execution_count": 22,
   "id": "26da524b-52d5-4860-b31e-0bf8f5a79749",
   "metadata": {},
   "outputs": [
    {
     "data": {
      "text/plain": [
       "['subp3_tree_output.trees',\n",
       " 'subp2_tree_output.trees',\n",
       " 'subp4_tree_output.trees',\n",
       " 'subp1_tree_output.trees',\n",
       " 'subp0_tree_output.trees']"
      ]
     },
     "execution_count": 22,
     "metadata": {},
     "output_type": "execute_result"
    }
   ],
   "source": [
    "os.listdir(path + 'results/arq_highfreq_fivepoly_lowbeta/lowsel/optima1')"
   ]
  },
  {
   "cell_type": "code",
   "execution_count": 25,
   "id": "81c8026e-7a76-4a68-a800-b5ac739a84a3",
   "metadata": {},
   "outputs": [],
   "source": [
    "tree1 = tskit.load('/home/tbellagio/scratch/slim_grenenet/results/arq_highfreq_fivepoly_lowbeta/lowsel/optima1/subp1_tree_output.trees')"
   ]
  },
  {
   "cell_type": "code",
   "execution_count": 26,
   "id": "d0d8bca3-4ca9-4015-93c6-e65bd03c5229",
   "metadata": {},
   "outputs": [],
   "source": [
    "tree2 = tskit.load('/home/tbellagio/scratch/slim_grenenet/results/arq_highfreq_fivepoly_lowbeta/lowsel/optima1/subp2_tree_output.trees')"
   ]
  },
  {
   "cell_type": "code",
   "execution_count": 27,
   "id": "4d08f874-c1a4-4645-8fc4-1be9b144a13e",
   "metadata": {},
   "outputs": [
    {
     "data": {
      "text/plain": [
       "False"
      ]
     },
     "execution_count": 27,
     "metadata": {},
     "output_type": "execute_result"
    }
   ],
   "source": [
    "tree1 == tree2"
   ]
  },
  {
   "cell_type": "code",
   "execution_count": 30,
   "id": "a12cbc35-20f3-448b-8290-32864e34b5cd",
   "metadata": {},
   "outputs": [
    {
     "data": {
      "text/html": [
       "\n",
       "        <div>\n",
       "            <style scoped=\"\">\n",
       "                .tskit-table tbody tr th:only-of-type {vertical-align: middle;}\n",
       "                .tskit-table tbody tr th {vertical-align: top;}\n",
       "                .tskit-table tbody td {text-align: right;padding: 0.5em 0.5em;}\n",
       "                .tskit-table tbody th {padding: 0.5em 0.5em;}\n",
       "            </style>\n",
       "            <table border=\"1\" class=\"tskit-table\">\n",
       "                <thead>\n",
       "                    <tr>\n",
       "                        <th>id</th><th>position</th><th>ancestral_state</th><th>metadata</th>\n",
       "                    </tr>\n",
       "                </thead>\n",
       "                <tbody>\n",
       "                    <tr><td>0</td><td>29207036</td><td></td><td>b'{\"inference_type\": \"full\"}'</td></tr>\n",
       "<tr><td>1</td><td>47725394</td><td></td><td>b'{\"inference_type\": \"full\"}'</td></tr>\n",
       "<tr><td>2</td><td>71669474</td><td></td><td>b'{\"inference_type\": \"full\"}'</td></tr>\n",
       "<tr><td>3</td><td>93463494</td><td></td><td>b'{\"inference_type\": \"full\"}'</td></tr>\n",
       "<tr><td>4</td><td>114571706</td><td></td><td>b'{\"inference_type\": \"full\"}'</td></tr>\n",
       "\n",
       "                </tbody>\n",
       "            </table>\n",
       "        </div>\n",
       "    "
      ],
      "text/plain": [
       "<tskit.tables.SiteTable at 0x7fc558cadbe0>"
      ]
     },
     "execution_count": 30,
     "metadata": {},
     "output_type": "execute_result"
    }
   ],
   "source": [
    "tree1.tables.sites"
   ]
  },
  {
   "cell_type": "code",
   "execution_count": 31,
   "id": "fda8ef8b-ab5c-43d3-97cb-6020115408d6",
   "metadata": {},
   "outputs": [
    {
     "data": {
      "text/html": [
       "\n",
       "        <div>\n",
       "            <style scoped=\"\">\n",
       "                .tskit-table tbody tr th:only-of-type {vertical-align: middle;}\n",
       "                .tskit-table tbody tr th {vertical-align: top;}\n",
       "                .tskit-table tbody td {text-align: right;padding: 0.5em 0.5em;}\n",
       "                .tskit-table tbody th {padding: 0.5em 0.5em;}\n",
       "            </style>\n",
       "            <table border=\"1\" class=\"tskit-table\">\n",
       "                <thead>\n",
       "                    <tr>\n",
       "                        <th>id</th><th>position</th><th>ancestral_state</th><th>metadata</th>\n",
       "                    </tr>\n",
       "                </thead>\n",
       "                <tbody>\n",
       "                    <tr><td>0</td><td>29207036</td><td></td><td>b'{\"inference_type\": \"full\"}'</td></tr>\n",
       "<tr><td>1</td><td>47725394</td><td></td><td>b'{\"inference_type\": \"full\"}'</td></tr>\n",
       "<tr><td>2</td><td>71669474</td><td></td><td>b'{\"inference_type\": \"full\"}'</td></tr>\n",
       "<tr><td>3</td><td>93463494</td><td></td><td>b'{\"inference_type\": \"full\"}'</td></tr>\n",
       "<tr><td>4</td><td>114571706</td><td></td><td>b'{\"inference_type\": \"full\"}'</td></tr>\n",
       "\n",
       "                </tbody>\n",
       "            </table>\n",
       "        </div>\n",
       "    "
      ],
      "text/plain": [
       "<tskit.tables.SiteTable at 0x7fc558c443d0>"
      ]
     },
     "execution_count": 31,
     "metadata": {},
     "output_type": "execute_result"
    }
   ],
   "source": [
    "tree2.tables.sites"
   ]
  },
  {
   "cell_type": "code",
   "execution_count": null,
   "id": "8f308fc4-98d6-40a0-af6e-13245a29fbf1",
   "metadata": {},
   "outputs": [],
   "source": []
  }
 ],
 "metadata": {
  "kernelspec": {
   "display_name": "Python 3 (ipykernel)",
   "language": "python",
   "name": "python3"
  },
  "language_info": {
   "codemirror_mode": {
    "name": "ipython",
    "version": 3
   },
   "file_extension": ".py",
   "mimetype": "text/x-python",
   "name": "python",
   "nbconvert_exporter": "python",
   "pygments_lexer": "ipython3",
   "version": "3.9.13"
  }
 },
 "nbformat": 4,
 "nbformat_minor": 5
}
