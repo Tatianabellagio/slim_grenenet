{
 "cells": [
  {
   "cell_type": "code",
   "execution_count": 1,
   "id": "a39e3e5c-873a-4732-9f7c-73c7ce1f1b49",
   "metadata": {},
   "outputs": [],
   "source": [
    "# once i have wholegenome_offset.trees\n",
    "import pandas as pd\n",
    "import tskit\n",
    "import allel\n",
    "import random\n",
    "import numpy as np\n",
    "import seaborn as sns\n",
    "import matplotlib.pyplot as plt\n",
    "import tsinfer\n",
    "import pyslim\n",
    "import os\n",
    "from collections import defaultdict\n",
    "import glob"
   ]
  },
  {
   "cell_type": "code",
   "execution_count": null,
   "id": "eb1a43a6-9ee6-4f90-a9b0-45191c4ded78",
   "metadata": {},
   "outputs": [],
   "source": []
  },
  {
   "cell_type": "code",
   "execution_count": 16,
   "id": "94e9ba84-d152-4b62-8621-5a4c33e8189b",
   "metadata": {},
   "outputs": [],
   "source": [
    "indep_pos = pd.read_csv('/home/tbellagio/scratch/ld_pruning/pruned_data.prune.in',delim_whitespace=True, header=None)"
   ]
  },
  {
   "cell_type": "code",
   "execution_count": null,
   "id": "282c0cf4-e6db-406f-a391-419383988b7c",
   "metadata": {},
   "outputs": [],
   "source": []
  },
  {
   "cell_type": "code",
   "execution_count": null,
   "id": "10c7cd06-fb49-47e3-8aa8-8dd78fb77f56",
   "metadata": {},
   "outputs": [],
   "source": []
  },
  {
   "cell_type": "code",
   "execution_count": 2,
   "id": "d6964cd8-6d89-4684-9398-e1edca1c9e22",
   "metadata": {},
   "outputs": [],
   "source": [
    "path = '/home/tbellagio/scratch/slim_grenenet'\n",
    "path2 = '/home/tbellagio/scratch/slim_grenenet4gen/slim_grenenet'\n",
    "\n",
    "# Use the glob module to search for files in subfolders\n",
    "pattern = os.path.join(path, '**', 'allele_freq.csv')\n",
    "allele_freq = glob.glob(pattern, recursive=True)"
   ]
  },
  {
   "cell_type": "code",
   "execution_count": 5,
   "id": "ea0f1512-d4c1-4472-8276-6366ca2d076d",
   "metadata": {},
   "outputs": [],
   "source": [
    "path = '/home/tbellagio/scratch/slim_grenenet'\n",
    "path2 = '/home/tbellagio/scratch/slim_grenenet4gen/slim_grenenet'\n",
    "\n",
    "# Use the glob module to search for files in subfolders\n",
    "pattern = os.path.join(path, '**', 'optima_values.txt')\n",
    "optima = glob.glob(pattern, recursive=True)"
   ]
  },
  {
   "cell_type": "code",
   "execution_count": 6,
   "id": "72e30f4e-5ee3-4232-a93a-5b22e095207c",
   "metadata": {},
   "outputs": [
    {
     "data": {
      "text/plain": [
       "['/home/tbellagio/scratch/slim_grenenet/results/arq_highfreq_fivepoly_lowbeta/optima_values.txt',\n",
       " '/home/tbellagio/scratch/slim_grenenet/results/arq_mediumfreq_onehpoly_highbeta/optima_values.txt',\n",
       " '/home/tbellagio/scratch/slim_grenenet/results/arq_lowfreq_onehpoly_lowbeta/optima_values.txt',\n",
       " '/home/tbellagio/scratch/slim_grenenet/results/arq_mediumfreq_fivepoly_lowbeta/optima_values.txt',\n",
       " '/home/tbellagio/scratch/slim_grenenet/results/arq_mediumfreq_twentypoly_lowbeta/optima_values.txt',\n",
       " '/home/tbellagio/scratch/slim_grenenet/results/arq_lowfreq_monogen_highbeta/optima_values.txt',\n",
       " '/home/tbellagio/scratch/slim_grenenet/results/arq_highfreq_onehpoly_highbeta/optima_values.txt',\n",
       " '/home/tbellagio/scratch/slim_grenenet/results/arq_mediumfreq_monogen_lowbeta/optima_values.txt',\n",
       " '/home/tbellagio/scratch/slim_grenenet/results/arq_mediumfreq_twentypoly_highbeta/optima_values.txt',\n",
       " '/home/tbellagio/scratch/slim_grenenet/results/arq_lowfreq_onehpoly_highbeta/optima_values.txt',\n",
       " '/home/tbellagio/scratch/slim_grenenet/results/arq_lowfreq_twentypoly_highbeta/optima_values.txt',\n",
       " '/home/tbellagio/scratch/slim_grenenet/results/arq_mediumfreq_monogen_highbeta/optima_values.txt',\n",
       " '/home/tbellagio/scratch/slim_grenenet/results/arq_highfreq_twentypoly_lowbeta/optima_values.txt',\n",
       " '/home/tbellagio/scratch/slim_grenenet/results/arq_highfreq_monogen_highbeta/optima_values.txt',\n",
       " '/home/tbellagio/scratch/slim_grenenet/results/arq_mediumfreq_onehpoly_lowbeta/optima_values.txt',\n",
       " '/home/tbellagio/scratch/slim_grenenet/results/arq_lowfreq_fivepoly_lowbeta/optima_values.txt',\n",
       " '/home/tbellagio/scratch/slim_grenenet/results/arq_mediumfreq_fivepoly_highbeta/optima_values.txt',\n",
       " '/home/tbellagio/scratch/slim_grenenet/results/arq_highfreq_onehpoly_lowbeta/optima_values.txt',\n",
       " '/home/tbellagio/scratch/slim_grenenet/results/arq_highfreq_fivepoly_highbeta/optima_values.txt',\n",
       " '/home/tbellagio/scratch/slim_grenenet/results/arq_highfreq_twentypoly_highbeta/optima_values.txt',\n",
       " '/home/tbellagio/scratch/slim_grenenet/results/arq_highfreq_monogen_lowbeta/optima_values.txt',\n",
       " '/home/tbellagio/scratch/slim_grenenet/results/arq_lowfreq_monogen_lowbeta/optima_values.txt',\n",
       " '/home/tbellagio/scratch/slim_grenenet/results/arq_lowfreq_twentypoly_lowbeta/optima_values.txt',\n",
       " '/home/tbellagio/scratch/slim_grenenet/results/arq_lowfreq_fivepoly_highbeta/optima_values.txt']"
      ]
     },
     "execution_count": 6,
     "metadata": {},
     "output_type": "execute_result"
    }
   ],
   "source": [
    "optima"
   ]
  },
  {
   "cell_type": "code",
   "execution_count": 12,
   "id": "9f38e7c2-2035-4c63-a197-b8e25bafa25d",
   "metadata": {},
   "outputs": [],
   "source": [
    "optima_ = pd.read_csv('/home/tbellagio/scratch/slim_grenenet/results/arq_highfreq_fivepoly_lowbeta/optima_values.txt',header=None)"
   ]
  },
  {
   "cell_type": "code",
   "execution_count": 7,
   "id": "ce932ca0-83c5-45c0-9011-6ae5b32cd379",
   "metadata": {},
   "outputs": [],
   "source": [
    "a_freq = pd.read_csv('/home/tbellagio/scratch/slim_grenenet/results/arq_highfreq_fivepoly_lowbeta/lowsel/allele_freq.csv').drop('Unnamed: 0',axis=1)\n",
    "\n",
    "a_freq = a_freq.set_index('chrom_pos')\n",
    "\n",
    "a_freq = a_freq.T\n",
    "\n",
    "a_freq['optima'] = a_freq.index.str.split('_').str[0]\n",
    "\n",
    "a_freq = a_freq.groupby('optima').mean().T"
   ]
  },
  {
   "cell_type": "code",
   "execution_count": 34,
   "id": "9a740473-5bb3-4f41-ae18-a24db9aaf554",
   "metadata": {},
   "outputs": [],
   "source": [
    "a_freq_sample = a_freq.sample(10000)"
   ]
  },
  {
   "cell_type": "code",
   "execution_count": 21,
   "id": "2e99909c-3096-4d96-abe5-f5a1a491785a",
   "metadata": {},
   "outputs": [],
   "source": [
    "a_freq.columns = optima_.values.flatten()"
   ]
  },
  {
   "cell_type": "code",
   "execution_count": 27,
   "id": "c69728fd-6c49-413c-adf2-b151ae8aa3b0",
   "metadata": {},
   "outputs": [],
   "source": [
    "a_freq_sample = a_freq_sample.T"
   ]
  },
  {
   "cell_type": "code",
   "execution_count": 29,
   "id": "6a6a00a8-4b0d-401b-b927-67e5f31c3648",
   "metadata": {},
   "outputs": [
    {
     "data": {
      "text/html": [
       "<div>\n",
       "<style scoped>\n",
       "    .dataframe tbody tr th:only-of-type {\n",
       "        vertical-align: middle;\n",
       "    }\n",
       "\n",
       "    .dataframe tbody tr th {\n",
       "        vertical-align: top;\n",
       "    }\n",
       "\n",
       "    .dataframe thead th {\n",
       "        text-align: right;\n",
       "    }\n",
       "</style>\n",
       "<table border=\"1\" class=\"dataframe\">\n",
       "  <thead>\n",
       "    <tr style=\"text-align: right;\">\n",
       "      <th>chrom_pos</th>\n",
       "      <th>1_11584919</th>\n",
       "      <th>3_16481517</th>\n",
       "      <th>3_17603406</th>\n",
       "      <th>2_16967870</th>\n",
       "      <th>1_3753497</th>\n",
       "      <th>3_16298760</th>\n",
       "      <th>4_1512368</th>\n",
       "      <th>5_199620</th>\n",
       "      <th>3_11263736</th>\n",
       "      <th>1_363287</th>\n",
       "      <th>...</th>\n",
       "      <th>2_17583041</th>\n",
       "      <th>2_5783268</th>\n",
       "      <th>1_24329330</th>\n",
       "      <th>4_192543</th>\n",
       "      <th>5_7290307</th>\n",
       "      <th>4_1609530</th>\n",
       "      <th>5_3803215</th>\n",
       "      <th>5_22249157</th>\n",
       "      <th>4_5156167</th>\n",
       "      <th>1_6162343</th>\n",
       "    </tr>\n",
       "  </thead>\n",
       "  <tbody>\n",
       "    <tr>\n",
       "      <th>-3.4450</th>\n",
       "      <td>NaN</td>\n",
       "      <td>NaN</td>\n",
       "      <td>NaN</td>\n",
       "      <td>NaN</td>\n",
       "      <td>NaN</td>\n",
       "      <td>NaN</td>\n",
       "      <td>NaN</td>\n",
       "      <td>NaN</td>\n",
       "      <td>NaN</td>\n",
       "      <td>NaN</td>\n",
       "      <td>...</td>\n",
       "      <td>NaN</td>\n",
       "      <td>NaN</td>\n",
       "      <td>NaN</td>\n",
       "      <td>NaN</td>\n",
       "      <td>NaN</td>\n",
       "      <td>NaN</td>\n",
       "      <td>NaN</td>\n",
       "      <td>NaN</td>\n",
       "      <td>NaN</td>\n",
       "      <td>NaN</td>\n",
       "    </tr>\n",
       "    <tr>\n",
       "      <th>-1.8575</th>\n",
       "      <td>0.005185</td>\n",
       "      <td>0.017111</td>\n",
       "      <td>0.077333</td>\n",
       "      <td>0.623778</td>\n",
       "      <td>0.021556</td>\n",
       "      <td>0.013778</td>\n",
       "      <td>0.493111</td>\n",
       "      <td>0.011481</td>\n",
       "      <td>0.065333</td>\n",
       "      <td>0.022222</td>\n",
       "      <td>...</td>\n",
       "      <td>0.021556</td>\n",
       "      <td>0.312889</td>\n",
       "      <td>0.008333</td>\n",
       "      <td>0.022667</td>\n",
       "      <td>0.023889</td>\n",
       "      <td>0.114778</td>\n",
       "      <td>0.015000</td>\n",
       "      <td>0.007361</td>\n",
       "      <td>0.006111</td>\n",
       "      <td>0.001111</td>\n",
       "    </tr>\n",
       "    <tr>\n",
       "      <th>-0.2701</th>\n",
       "      <td>NaN</td>\n",
       "      <td>0.036556</td>\n",
       "      <td>0.080667</td>\n",
       "      <td>0.638667</td>\n",
       "      <td>0.005000</td>\n",
       "      <td>0.020333</td>\n",
       "      <td>0.451556</td>\n",
       "      <td>0.004444</td>\n",
       "      <td>0.057444</td>\n",
       "      <td>0.016444</td>\n",
       "      <td>...</td>\n",
       "      <td>0.016111</td>\n",
       "      <td>0.271222</td>\n",
       "      <td>0.012667</td>\n",
       "      <td>0.049556</td>\n",
       "      <td>0.010778</td>\n",
       "      <td>0.116778</td>\n",
       "      <td>0.009111</td>\n",
       "      <td>0.010667</td>\n",
       "      <td>0.008889</td>\n",
       "      <td>0.002639</td>\n",
       "    </tr>\n",
       "    <tr>\n",
       "      <th>1.3174</th>\n",
       "      <td>NaN</td>\n",
       "      <td>0.046389</td>\n",
       "      <td>0.095833</td>\n",
       "      <td>0.656111</td>\n",
       "      <td>0.002778</td>\n",
       "      <td>0.008333</td>\n",
       "      <td>0.537778</td>\n",
       "      <td>NaN</td>\n",
       "      <td>0.052222</td>\n",
       "      <td>0.076667</td>\n",
       "      <td>...</td>\n",
       "      <td>0.014444</td>\n",
       "      <td>0.280000</td>\n",
       "      <td>0.021667</td>\n",
       "      <td>0.033056</td>\n",
       "      <td>0.010556</td>\n",
       "      <td>0.044167</td>\n",
       "      <td>0.012222</td>\n",
       "      <td>0.005278</td>\n",
       "      <td>0.020556</td>\n",
       "      <td>0.011667</td>\n",
       "    </tr>\n",
       "    <tr>\n",
       "      <th>2.9048</th>\n",
       "      <td>NaN</td>\n",
       "      <td>NaN</td>\n",
       "      <td>NaN</td>\n",
       "      <td>NaN</td>\n",
       "      <td>NaN</td>\n",
       "      <td>NaN</td>\n",
       "      <td>NaN</td>\n",
       "      <td>NaN</td>\n",
       "      <td>NaN</td>\n",
       "      <td>NaN</td>\n",
       "      <td>...</td>\n",
       "      <td>NaN</td>\n",
       "      <td>NaN</td>\n",
       "      <td>NaN</td>\n",
       "      <td>NaN</td>\n",
       "      <td>NaN</td>\n",
       "      <td>NaN</td>\n",
       "      <td>NaN</td>\n",
       "      <td>NaN</td>\n",
       "      <td>NaN</td>\n",
       "      <td>NaN</td>\n",
       "    </tr>\n",
       "  </tbody>\n",
       "</table>\n",
       "<p>5 rows × 100 columns</p>\n",
       "</div>"
      ],
      "text/plain": [
       "chrom_pos  1_11584919  3_16481517  3_17603406  2_16967870  1_3753497  \\\n",
       "-3.4450           NaN         NaN         NaN         NaN        NaN   \n",
       "-1.8575      0.005185    0.017111    0.077333    0.623778   0.021556   \n",
       "-0.2701           NaN    0.036556    0.080667    0.638667   0.005000   \n",
       " 1.3174           NaN    0.046389    0.095833    0.656111   0.002778   \n",
       " 2.9048           NaN         NaN         NaN         NaN        NaN   \n",
       "\n",
       "chrom_pos  3_16298760  4_1512368  5_199620  3_11263736  1_363287  ...  \\\n",
       "-3.4450           NaN        NaN       NaN         NaN       NaN  ...   \n",
       "-1.8575      0.013778   0.493111  0.011481    0.065333  0.022222  ...   \n",
       "-0.2701      0.020333   0.451556  0.004444    0.057444  0.016444  ...   \n",
       " 1.3174      0.008333   0.537778       NaN    0.052222  0.076667  ...   \n",
       " 2.9048           NaN        NaN       NaN         NaN       NaN  ...   \n",
       "\n",
       "chrom_pos  2_17583041  2_5783268  1_24329330  4_192543  5_7290307  4_1609530  \\\n",
       "-3.4450           NaN        NaN         NaN       NaN        NaN        NaN   \n",
       "-1.8575      0.021556   0.312889    0.008333  0.022667   0.023889   0.114778   \n",
       "-0.2701      0.016111   0.271222    0.012667  0.049556   0.010778   0.116778   \n",
       " 1.3174      0.014444   0.280000    0.021667  0.033056   0.010556   0.044167   \n",
       " 2.9048           NaN        NaN         NaN       NaN        NaN        NaN   \n",
       "\n",
       "chrom_pos  5_3803215  5_22249157  4_5156167  1_6162343  \n",
       "-3.4450          NaN         NaN        NaN        NaN  \n",
       "-1.8575     0.015000    0.007361   0.006111   0.001111  \n",
       "-0.2701     0.009111    0.010667   0.008889   0.002639  \n",
       " 1.3174     0.012222    0.005278   0.020556   0.011667  \n",
       " 2.9048          NaN         NaN        NaN        NaN  \n",
       "\n",
       "[5 rows x 100 columns]"
      ]
     },
     "execution_count": 29,
     "metadata": {},
     "output_type": "execute_result"
    }
   ],
   "source": [
    "a_freq_sample"
   ]
  },
  {
   "cell_type": "code",
   "execution_count": null,
   "id": "6a8cbe4f-d7cf-4477-ba1b-1d3fff144d5b",
   "metadata": {},
   "outputs": [],
   "source": []
  },
  {
   "cell_type": "code",
   "execution_count": null,
   "id": "5e8875c5-bf61-4f81-b188-e00d984e75e5",
   "metadata": {},
   "outputs": [],
   "source": []
  },
  {
   "cell_type": "code",
   "execution_count": 16,
   "id": "20a02073-2af4-40a6-a2d8-9080c723860c",
   "metadata": {},
   "outputs": [
    {
     "ename": "ValueError",
     "evalue": "x and y must be the same size",
     "output_type": "error",
     "traceback": [
      "\u001b[0;31m---------------------------------------------------------------------------\u001b[0m",
      "\u001b[0;31mValueError\u001b[0m                                Traceback (most recent call last)",
      "Cell \u001b[0;32mIn[16], line 14\u001b[0m\n\u001b[1;32m     12\u001b[0m \u001b[38;5;66;03m# Create a scatterplot\u001b[39;00m\n\u001b[1;32m     13\u001b[0m \u001b[38;5;28;01mfor\u001b[39;00m index, row \u001b[38;5;129;01min\u001b[39;00m df1\u001b[38;5;241m.\u001b[39miterrows():\n\u001b[0;32m---> 14\u001b[0m     \u001b[43mplt\u001b[49m\u001b[38;5;241;43m.\u001b[39;49m\u001b[43mscatter\u001b[49m\u001b[43m(\u001b[49m\u001b[43mdf2\u001b[49m\u001b[43m[\u001b[49m\u001b[38;5;124;43m'\u001b[39;49m\u001b[38;5;124;43mX\u001b[39;49m\u001b[38;5;124;43m'\u001b[39;49m\u001b[43m]\u001b[49m\u001b[43m,\u001b[49m\u001b[43m \u001b[49m\u001b[43m[\u001b[49m\u001b[43mrow\u001b[49m\u001b[38;5;241;43m.\u001b[39;49m\u001b[43mvalues\u001b[49m\u001b[43m]\u001b[49m\u001b[43m \u001b[49m\u001b[38;5;241;43m*\u001b[39;49m\u001b[43m \u001b[49m\u001b[38;5;28;43mlen\u001b[39;49m\u001b[43m(\u001b[49m\u001b[43mdf2\u001b[49m\u001b[43m[\u001b[49m\u001b[38;5;124;43m'\u001b[39;49m\u001b[38;5;124;43mX\u001b[39;49m\u001b[38;5;124;43m'\u001b[39;49m\u001b[43m]\u001b[49m\u001b[43m)\u001b[49m\u001b[43m,\u001b[49m\u001b[43m \u001b[49m\u001b[43mlabel\u001b[49m\u001b[38;5;241;43m=\u001b[39;49m\u001b[38;5;124;43mf\u001b[39;49m\u001b[38;5;124;43m'\u001b[39;49m\u001b[38;5;124;43mRow \u001b[39;49m\u001b[38;5;132;43;01m{\u001b[39;49;00m\u001b[43mindex\u001b[49m\u001b[38;5;250;43m \u001b[39;49m\u001b[38;5;241;43m+\u001b[39;49m\u001b[38;5;250;43m \u001b[39;49m\u001b[38;5;241;43m1\u001b[39;49m\u001b[38;5;132;43;01m}\u001b[39;49;00m\u001b[38;5;124;43m'\u001b[39;49m\u001b[43m)\u001b[49m\n\u001b[1;32m     16\u001b[0m \u001b[38;5;66;03m# Add labels and title\u001b[39;00m\n\u001b[1;32m     17\u001b[0m plt\u001b[38;5;241m.\u001b[39mxlabel(\u001b[38;5;124m'\u001b[39m\u001b[38;5;124mX\u001b[39m\u001b[38;5;124m'\u001b[39m)\n",
      "File \u001b[0;32m~/mambaforge/envs/pipeline_snakemake/lib/python3.9/site-packages/matplotlib/pyplot.py:2862\u001b[0m, in \u001b[0;36mscatter\u001b[0;34m(x, y, s, c, marker, cmap, norm, vmin, vmax, alpha, linewidths, edgecolors, plotnonfinite, data, **kwargs)\u001b[0m\n\u001b[1;32m   2857\u001b[0m \u001b[38;5;129m@_copy_docstring_and_deprecators\u001b[39m(Axes\u001b[38;5;241m.\u001b[39mscatter)\n\u001b[1;32m   2858\u001b[0m \u001b[38;5;28;01mdef\u001b[39;00m \u001b[38;5;21mscatter\u001b[39m(\n\u001b[1;32m   2859\u001b[0m         x, y, s\u001b[38;5;241m=\u001b[39m\u001b[38;5;28;01mNone\u001b[39;00m, c\u001b[38;5;241m=\u001b[39m\u001b[38;5;28;01mNone\u001b[39;00m, marker\u001b[38;5;241m=\u001b[39m\u001b[38;5;28;01mNone\u001b[39;00m, cmap\u001b[38;5;241m=\u001b[39m\u001b[38;5;28;01mNone\u001b[39;00m, norm\u001b[38;5;241m=\u001b[39m\u001b[38;5;28;01mNone\u001b[39;00m,\n\u001b[1;32m   2860\u001b[0m         vmin\u001b[38;5;241m=\u001b[39m\u001b[38;5;28;01mNone\u001b[39;00m, vmax\u001b[38;5;241m=\u001b[39m\u001b[38;5;28;01mNone\u001b[39;00m, alpha\u001b[38;5;241m=\u001b[39m\u001b[38;5;28;01mNone\u001b[39;00m, linewidths\u001b[38;5;241m=\u001b[39m\u001b[38;5;28;01mNone\u001b[39;00m, \u001b[38;5;241m*\u001b[39m,\n\u001b[1;32m   2861\u001b[0m         edgecolors\u001b[38;5;241m=\u001b[39m\u001b[38;5;28;01mNone\u001b[39;00m, plotnonfinite\u001b[38;5;241m=\u001b[39m\u001b[38;5;28;01mFalse\u001b[39;00m, data\u001b[38;5;241m=\u001b[39m\u001b[38;5;28;01mNone\u001b[39;00m, \u001b[38;5;241m*\u001b[39m\u001b[38;5;241m*\u001b[39mkwargs):\n\u001b[0;32m-> 2862\u001b[0m     __ret \u001b[38;5;241m=\u001b[39m \u001b[43mgca\u001b[49m\u001b[43m(\u001b[49m\u001b[43m)\u001b[49m\u001b[38;5;241;43m.\u001b[39;49m\u001b[43mscatter\u001b[49m\u001b[43m(\u001b[49m\n\u001b[1;32m   2863\u001b[0m \u001b[43m        \u001b[49m\u001b[43mx\u001b[49m\u001b[43m,\u001b[49m\u001b[43m \u001b[49m\u001b[43my\u001b[49m\u001b[43m,\u001b[49m\u001b[43m \u001b[49m\u001b[43ms\u001b[49m\u001b[38;5;241;43m=\u001b[39;49m\u001b[43ms\u001b[49m\u001b[43m,\u001b[49m\u001b[43m \u001b[49m\u001b[43mc\u001b[49m\u001b[38;5;241;43m=\u001b[39;49m\u001b[43mc\u001b[49m\u001b[43m,\u001b[49m\u001b[43m \u001b[49m\u001b[43mmarker\u001b[49m\u001b[38;5;241;43m=\u001b[39;49m\u001b[43mmarker\u001b[49m\u001b[43m,\u001b[49m\u001b[43m \u001b[49m\u001b[43mcmap\u001b[49m\u001b[38;5;241;43m=\u001b[39;49m\u001b[43mcmap\u001b[49m\u001b[43m,\u001b[49m\u001b[43m \u001b[49m\u001b[43mnorm\u001b[49m\u001b[38;5;241;43m=\u001b[39;49m\u001b[43mnorm\u001b[49m\u001b[43m,\u001b[49m\n\u001b[1;32m   2864\u001b[0m \u001b[43m        \u001b[49m\u001b[43mvmin\u001b[49m\u001b[38;5;241;43m=\u001b[39;49m\u001b[43mvmin\u001b[49m\u001b[43m,\u001b[49m\u001b[43m \u001b[49m\u001b[43mvmax\u001b[49m\u001b[38;5;241;43m=\u001b[39;49m\u001b[43mvmax\u001b[49m\u001b[43m,\u001b[49m\u001b[43m \u001b[49m\u001b[43malpha\u001b[49m\u001b[38;5;241;43m=\u001b[39;49m\u001b[43malpha\u001b[49m\u001b[43m,\u001b[49m\u001b[43m \u001b[49m\u001b[43mlinewidths\u001b[49m\u001b[38;5;241;43m=\u001b[39;49m\u001b[43mlinewidths\u001b[49m\u001b[43m,\u001b[49m\n\u001b[1;32m   2865\u001b[0m \u001b[43m        \u001b[49m\u001b[43medgecolors\u001b[49m\u001b[38;5;241;43m=\u001b[39;49m\u001b[43medgecolors\u001b[49m\u001b[43m,\u001b[49m\u001b[43m \u001b[49m\u001b[43mplotnonfinite\u001b[49m\u001b[38;5;241;43m=\u001b[39;49m\u001b[43mplotnonfinite\u001b[49m\u001b[43m,\u001b[49m\n\u001b[1;32m   2866\u001b[0m \u001b[43m        \u001b[49m\u001b[38;5;241;43m*\u001b[39;49m\u001b[38;5;241;43m*\u001b[39;49m\u001b[43m(\u001b[49m\u001b[43m{\u001b[49m\u001b[38;5;124;43m\"\u001b[39;49m\u001b[38;5;124;43mdata\u001b[39;49m\u001b[38;5;124;43m\"\u001b[39;49m\u001b[43m:\u001b[49m\u001b[43m \u001b[49m\u001b[43mdata\u001b[49m\u001b[43m}\u001b[49m\u001b[43m \u001b[49m\u001b[38;5;28;43;01mif\u001b[39;49;00m\u001b[43m \u001b[49m\u001b[43mdata\u001b[49m\u001b[43m \u001b[49m\u001b[38;5;129;43;01mis\u001b[39;49;00m\u001b[43m \u001b[49m\u001b[38;5;129;43;01mnot\u001b[39;49;00m\u001b[43m \u001b[49m\u001b[38;5;28;43;01mNone\u001b[39;49;00m\u001b[43m \u001b[49m\u001b[38;5;28;43;01melse\u001b[39;49;00m\u001b[43m \u001b[49m\u001b[43m{\u001b[49m\u001b[43m}\u001b[49m\u001b[43m)\u001b[49m\u001b[43m,\u001b[49m\u001b[43m \u001b[49m\u001b[38;5;241;43m*\u001b[39;49m\u001b[38;5;241;43m*\u001b[39;49m\u001b[43mkwargs\u001b[49m\u001b[43m)\u001b[49m\n\u001b[1;32m   2867\u001b[0m     sci(__ret)\n\u001b[1;32m   2868\u001b[0m     \u001b[38;5;28;01mreturn\u001b[39;00m __ret\n",
      "File \u001b[0;32m~/mambaforge/envs/pipeline_snakemake/lib/python3.9/site-packages/matplotlib/__init__.py:1442\u001b[0m, in \u001b[0;36m_preprocess_data.<locals>.inner\u001b[0;34m(ax, data, *args, **kwargs)\u001b[0m\n\u001b[1;32m   1439\u001b[0m \u001b[38;5;129m@functools\u001b[39m\u001b[38;5;241m.\u001b[39mwraps(func)\n\u001b[1;32m   1440\u001b[0m \u001b[38;5;28;01mdef\u001b[39;00m \u001b[38;5;21minner\u001b[39m(ax, \u001b[38;5;241m*\u001b[39margs, data\u001b[38;5;241m=\u001b[39m\u001b[38;5;28;01mNone\u001b[39;00m, \u001b[38;5;241m*\u001b[39m\u001b[38;5;241m*\u001b[39mkwargs):\n\u001b[1;32m   1441\u001b[0m     \u001b[38;5;28;01mif\u001b[39;00m data \u001b[38;5;129;01mis\u001b[39;00m \u001b[38;5;28;01mNone\u001b[39;00m:\n\u001b[0;32m-> 1442\u001b[0m         \u001b[38;5;28;01mreturn\u001b[39;00m \u001b[43mfunc\u001b[49m\u001b[43m(\u001b[49m\u001b[43max\u001b[49m\u001b[43m,\u001b[49m\u001b[43m \u001b[49m\u001b[38;5;241;43m*\u001b[39;49m\u001b[38;5;28;43mmap\u001b[39;49m\u001b[43m(\u001b[49m\u001b[43msanitize_sequence\u001b[49m\u001b[43m,\u001b[49m\u001b[43m \u001b[49m\u001b[43margs\u001b[49m\u001b[43m)\u001b[49m\u001b[43m,\u001b[49m\u001b[43m \u001b[49m\u001b[38;5;241;43m*\u001b[39;49m\u001b[38;5;241;43m*\u001b[39;49m\u001b[43mkwargs\u001b[49m\u001b[43m)\u001b[49m\n\u001b[1;32m   1444\u001b[0m     bound \u001b[38;5;241m=\u001b[39m new_sig\u001b[38;5;241m.\u001b[39mbind(ax, \u001b[38;5;241m*\u001b[39margs, \u001b[38;5;241m*\u001b[39m\u001b[38;5;241m*\u001b[39mkwargs)\n\u001b[1;32m   1445\u001b[0m     auto_label \u001b[38;5;241m=\u001b[39m (bound\u001b[38;5;241m.\u001b[39marguments\u001b[38;5;241m.\u001b[39mget(label_namer)\n\u001b[1;32m   1446\u001b[0m                   \u001b[38;5;129;01mor\u001b[39;00m bound\u001b[38;5;241m.\u001b[39mkwargs\u001b[38;5;241m.\u001b[39mget(label_namer))\n",
      "File \u001b[0;32m~/mambaforge/envs/pipeline_snakemake/lib/python3.9/site-packages/matplotlib/axes/_axes.py:4584\u001b[0m, in \u001b[0;36mAxes.scatter\u001b[0;34m(self, x, y, s, c, marker, cmap, norm, vmin, vmax, alpha, linewidths, edgecolors, plotnonfinite, **kwargs)\u001b[0m\n\u001b[1;32m   4582\u001b[0m y \u001b[38;5;241m=\u001b[39m np\u001b[38;5;241m.\u001b[39mma\u001b[38;5;241m.\u001b[39mravel(y)\n\u001b[1;32m   4583\u001b[0m \u001b[38;5;28;01mif\u001b[39;00m x\u001b[38;5;241m.\u001b[39msize \u001b[38;5;241m!=\u001b[39m y\u001b[38;5;241m.\u001b[39msize:\n\u001b[0;32m-> 4584\u001b[0m     \u001b[38;5;28;01mraise\u001b[39;00m \u001b[38;5;167;01mValueError\u001b[39;00m(\u001b[38;5;124m\"\u001b[39m\u001b[38;5;124mx and y must be the same size\u001b[39m\u001b[38;5;124m\"\u001b[39m)\n\u001b[1;32m   4586\u001b[0m \u001b[38;5;28;01mif\u001b[39;00m s \u001b[38;5;129;01mis\u001b[39;00m \u001b[38;5;28;01mNone\u001b[39;00m:\n\u001b[1;32m   4587\u001b[0m     s \u001b[38;5;241m=\u001b[39m (\u001b[38;5;241m20\u001b[39m \u001b[38;5;28;01mif\u001b[39;00m mpl\u001b[38;5;241m.\u001b[39mrcParams[\u001b[38;5;124m'\u001b[39m\u001b[38;5;124m_internal.classic_mode\u001b[39m\u001b[38;5;124m'\u001b[39m] \u001b[38;5;28;01melse\u001b[39;00m\n\u001b[1;32m   4588\u001b[0m          mpl\u001b[38;5;241m.\u001b[39mrcParams[\u001b[38;5;124m'\u001b[39m\u001b[38;5;124mlines.markersize\u001b[39m\u001b[38;5;124m'\u001b[39m] \u001b[38;5;241m*\u001b[39m\u001b[38;5;241m*\u001b[39m \u001b[38;5;241m2.0\u001b[39m)\n",
      "\u001b[0;31mValueError\u001b[0m: x and y must be the same size"
     ]
    },
    {
     "data": {
      "image/png": "[encoded data removed]",
      "text/plain": [
       "<Figure size 640x480 with 1 Axes>"
      ]
     },
     "metadata": {},
     "output_type": "display_data"
    }
   ],
   "source": [
    "# Create a 2x2 grid of subplots\n",
    "fig, axes = plt.subplots(nrows=2, ncols=2, figsize=(12, 8))\n",
    "\n",
    "# Flatten the axes array for easier iteration\n",
    "axes = axes.flatten()\n",
    "\n",
    "# Iterate through columns and create scatter plots\n",
    "for i, (col, ax) in enumerate(zip(df.columns, axes)):\n",
    "    ax.scatter(df.index, df[col], label=col)\n",
    "    ax.set_xlabel('Index')\n",
    "    ax.set_ylabel('Value')\n",
    "    ax.set_title(f'Scatter Plot for Column {col}')\n",
    "    ax.legend()\n",
    "\n",
    "# Adjust layout\n",
    "plt.tight_layout()"
   ]
  },
  {
   "cell_type": "code",
   "execution_count": null,
   "id": "d0f1f80e-7dd1-40b8-88ac-0f5af262e9ad",
   "metadata": {},
   "outputs": [],
   "source": []
  }
 ],
 "metadata": {
  "kernelspec": {
   "display_name": "Python (snakemake_pipeline)",
   "language": "python",
   "name": "pipeline_snakemake"
  },
  "language_info": {
   "codemirror_mode": {
    "name": "ipython",
    "version": 3
   },
   "file_extension": ".py",
   "mimetype": "text/x-python",
   "name": "python",
   "nbconvert_exporter": "python",
   "pygments_lexer": "ipython3",
   "version": "3.9.16"
  }
 },
 "nbformat": 4,
 "nbformat_minor": 5
}
