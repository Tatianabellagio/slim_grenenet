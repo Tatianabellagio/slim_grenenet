{
 "cells": [
  {
   "cell_type": "code",
   "execution_count": null,
   "id": "e0b5b100-f69f-4c85-bb26-ed2935335f07",
   "metadata": {},
   "outputs": [],
   "source": [
    "## recreating allele freq"
   ]
  },
  {
   "cell_type": "code",
   "execution_count": null,
   "id": "3e27360f-ed57-49af-bdec-f2f68bdbd2bc",
   "metadata": {},
   "outputs": [],
   "source": [
    "## shoul i cehck if i can get certain metrics from trees?"
   ]
  },
  {
   "cell_type": "code",
   "execution_count": 1,
   "id": "c9f8eea2-d0f1-416a-9393-bb38c4053971",
   "metadata": {},
   "outputs": [],
   "source": [
    "# once i have wholegenome_offset.trees\n",
    "import pandas as pd\n",
    "import tskit\n",
    "import allel\n",
    "import random\n",
    "import numpy as np\n",
    "import seaborn as sns\n",
    "import matplotlib.pyplot as plt\n",
    "import tsinfer\n",
    "import pyslim\n",
    "import os\n",
    "from collections import defaultdict"
   ]
  },
  {
   "cell_type": "code",
   "execution_count": 2,
   "id": "76340971-0fb9-48da-9f86-ce4089824e36",
   "metadata": {},
   "outputs": [],
   "source": [
    "## calculate allele freq "
   ]
  },
  {
   "cell_type": "code",
   "execution_count": null,
   "id": "e61b11a0-461a-49e1-bda3-121a0c86e64f",
   "metadata": {},
   "outputs": [],
   "source": [
    "output_vcf_fixpos = snakemake.input['output_vcf_fixpos'] \n",
    "pos_vcf_og = snakemake.input['pos_vcf_og'] \n",
    "output_allele_freq = snakemake.output['allele_freq'] \n",
    "\n"
   ]
  },
  {
   "cell_type": "code",
   "execution_count": 3,
   "id": "8829b04b-ce0d-41ff-876f-903ce824a78a",
   "metadata": {},
   "outputs": [],
   "source": [
    "file_names = [\n",
    "    \"results/arq_mediumfreq_onehpoly_highbeta/strongsel/optima0/subp0_vcf_output_rp.vcf\",\n",
    "    \"results/arq_mediumfreq_onehpoly_highbeta/strongsel/optima0/subp1_vcf_output_rp.vcf\",\n",
    "    \"results/arq_mediumfreq_onehpoly_highbeta/strongsel/optima0/subp2_vcf_output_rp.vcf\",\n",
    "    \"results/arq_mediumfreq_onehpoly_highbeta/strongsel/optima0/subp3_vcf_output_rp.vcf\",\n",
    "    \"results/arq_mediumfreq_onehpoly_highbeta/strongsel/optima0/subp4_vcf_output_rp.vcf\",\n",
    "    \"results/arq_mediumfreq_onehpoly_highbeta/strongsel/optima1/subp0_vcf_output_rp.vcf\",\n",
    "    \"results/arq_mediumfreq_onehpoly_highbeta/strongsel/optima1/subp1_vcf_output_rp.vcf\",\n",
    "    \"results/arq_mediumfreq_onehpoly_highbeta/strongsel/optima1/subp2_vcf_output_rp.vcf\",\n",
    "    \"results/arq_mediumfreq_onehpoly_highbeta/strongsel/optima1/subp3_vcf_output_rp.vcf\",\n",
    "    \"results/arq_mediumfreq_onehpoly_highbeta/strongsel/optima1/subp4_vcf_output_rp.vcf\",\n",
    "    \"results/arq_mediumfreq_onehpoly_highbeta/strongsel/optima2/subp0_vcf_output_rp.vcf\",\n",
    "    \"results/arq_mediumfreq_onehpoly_highbeta/strongsel/optima2/subp1_vcf_output_rp.vcf\",\n",
    "    \"results/arq_mediumfreq_onehpoly_highbeta/strongsel/optima2/subp2_vcf_output_rp.vcf\",\n",
    "    \"results/arq_mediumfreq_onehpoly_highbeta/strongsel/optima2/subp3_vcf_output_rp.vcf\",\n",
    "    \"results/arq_mediumfreq_onehpoly_highbeta/strongsel/optima2/subp4_vcf_output_rp.vcf\",\n",
    "    \"results/arq_mediumfreq_onehpoly_highbeta/strongsel/optima3/subp0_vcf_output_rp.vcf\",\n",
    "    \"results/arq_mediumfreq_onehpoly_highbeta/strongsel/optima3/subp1_vcf_output_rp.vcf\",\n",
    "    \"results/arq_mediumfreq_onehpoly_highbeta/strongsel/optima3/subp2_vcf_output_rp.vcf\",\n",
    "    \"results/arq_mediumfreq_onehpoly_highbeta/strongsel/optima3/subp3_vcf_output_rp.vcf\",\n",
    "    \"results/arq_mediumfreq_onehpoly_highbeta/strongsel/optima3/subp4_vcf_output_rp.vcf\",\n",
    "    \"results/arq_mediumfreq_onehpoly_highbeta/strongsel/optima4/subp0_vcf_output_rp.vcf\",\n",
    "    \"results/arq_mediumfreq_onehpoly_highbeta/strongsel/optima4/subp1_vcf_output_rp.vcf\",\n",
    "    \"results/arq_mediumfreq_onehpoly_highbeta/strongsel/optima4/subp2_vcf_output_rp.vcf\",\n",
    "    \"results/arq_mediumfreq_onehpoly_highbeta/strongsel/optima4/subp3_vcf_output_rp.vcf\",\n",
    "    \"results/arq_mediumfreq_onehpoly_highbeta/strongsel/optima4/subp4_vcf_output_rp.vcf\"\n",
    "]"
   ]
  },
  {
   "cell_type": "code",
   "execution_count": 5,
   "id": "112b2f90-84af-4c68-9f65-a8d4c7519460",
   "metadata": {},
   "outputs": [],
   "source": [
    "path = '/home/tbellagio/scratch/slim_grenenet/'"
   ]
  },
  {
   "cell_type": "code",
   "execution_count": 20,
   "id": "cc86a3e3-c293-4144-961f-9b797895e7fc",
   "metadata": {},
   "outputs": [],
   "source": [
    "file = \"results/arq_mediumfreq_onehpoly_highbeta/strongsel/optima0/subp0_vcf_output_rp.vcf\""
   ]
  },
  {
   "cell_type": "code",
   "execution_count": 21,
   "id": "939b757f-e401-46e1-a858-e4ad0548975c",
   "metadata": {},
   "outputs": [],
   "source": [
    "path_complete = path+file"
   ]
  },
  {
   "cell_type": "code",
   "execution_count": 22,
   "id": "f1bd0aba-730f-4c98-89f2-c063710cbf0f",
   "metadata": {},
   "outputs": [
    {
     "name": "stdout",
     "output_type": "stream",
     "text": [
      "empty_vcf\n"
     ]
    }
   ],
   "source": [
    "if os.path.exists(path_complete) and os.path.getsize(path_complete) <= 1:\n",
    "    print('empty_vcf')\n",
    "\n",
    "elif os.path.exists(path_complete) and os.path.getsize(path_complete) > 1:\n",
    "    print('stg')"
   ]
  },
  {
   "cell_type": "code",
   "execution_count": null,
   "id": "6c43180e-060a-4ed4-8c2a-ae7f96d41527",
   "metadata": {},
   "outputs": [],
   "source": []
  },
  {
   "cell_type": "code",
   "execution_count": 13,
   "id": "f7489bcb-166a-4ef4-8679-e88b525f4f9d",
   "metadata": {},
   "outputs": [],
   "source": [
    "vcf = allel.read_vcf('../treeseq/greneNet_final_v1.1.recode.vcf.gz', fields= 'variants/POS')\n",
    "pos_vcf_og = pd.DataFrame(data = {'pos':vcf['variants/POS'] })\n",
    "pos_vcf_og.to_csv(path + 'data/pos_vcf_og.csv', index=None)"
   ]
  },
  {
   "cell_type": "code",
   "execution_count": 13,
   "id": "9058804e-a51b-498d-99f3-8b7a95060f64",
   "metadata": {},
   "outputs": [],
   "source": [
    "vcf = allel.read_vcf('../treeseq/greneNet_final_v1.1.recode.vcf.gz', fields= 'variants/POS')\n",
    "pos_vcf_og = pd.DataFrame(data = {'pos':vcf['variants/POS'] })\n",
    "pos_vcf_og.to_csv(path + 'data/pos_vcf_og.csv', index=None)"
   ]
  },
  {
   "cell_type": "code",
   "execution_count": null,
   "id": "9ad26d95-1de4-42d3-8507-0be343304555",
   "metadata": {},
   "outputs": [],
   "source": []
  },
  {
   "cell_type": "code",
   "execution_count": 15,
   "id": "fd8d4e7a-cfb7-4a3b-8024-e5ea06a30cf3",
   "metadata": {},
   "outputs": [],
   "source": [
    "pos_vcf_og = pd.read_csv(pos_vcf_og)"
   ]
  },
  {
   "cell_type": "code",
   "execution_count": 16,
   "id": "3cbf58b3-d47e-45ad-8dd1-4bf342420f8e",
   "metadata": {},
   "outputs": [
    {
     "ename": "NameError",
     "evalue": "name 'name' is not defined",
     "output_type": "error",
     "traceback": [
      "\u001b[0;31m---------------------------------------------------------------------------\u001b[0m",
      "\u001b[0;31mNameError\u001b[0m                                 Traceback (most recent call last)",
      "Cell \u001b[0;32mIn[16], line 1\u001b[0m\n\u001b[0;32m----> 1\u001b[0m pos_vcf_og[\u001b[43mname\u001b[49m] \u001b[38;5;241m=\u001b[39m np\u001b[38;5;241m.\u001b[39mnan\n",
      "\u001b[0;31mNameError\u001b[0m: name 'name' is not defined"
     ]
    }
   ],
   "source": [
    "pos_vcf_og[name] = np.nan"
   ]
  },
  {
   "cell_type": "code",
   "execution_count": 76,
   "id": "1a7394ec-b55f-498e-93d0-c6d247625a06",
   "metadata": {},
   "outputs": [],
   "source": [
    "def extract_allele_freq(samples, geno_array, pos, name):\n",
    "    total_alleles = len(samples) * 2 \n",
    "    alt_freq = geno_array.sum(axis=2).sum(axis=1) / total_alleles\n",
    "    alt_allele_freq = pd.DataFrame(data = {'pos': pos, name: alt_freq})\n",
    "    return alt_allele_freq"
   ]
  },
  {
   "cell_type": "code",
   "execution_count": 88,
   "id": "7fa04c34-1058-4618-961d-555ccd833df6",
   "metadata": {},
   "outputs": [],
   "source": [
    "for i in output_vcf_fixpos:\n",
    "    print(i)\n",
    "    name = i.split('/')[-2] + '_' + i.split('/')[-1][0:5]\n",
    "    if os.path.exists(i) and os.path.getsize(i) <= 1:\n",
    "        print('empty_vcf')\n",
    "        pos_vcf_og[name] = np.nan\n",
    "    elif os.path.exists(i) and os.path.getsize(i) > 1:\n",
    "        vcf = allel.read_vcf(i)\n",
    "        samples = vcf['samples']\n",
    "        geno_array = vcf['calldata/GT']\n",
    "        pos = vcf['variants/POS']\n",
    "        alt_allele_freq = extract_allele_freq(samples,geno_array, pos, name)\n",
    "        pos_vcf_og = pos_vcf_og.merge(alt_allele_freq, on ='pos', how='outer')\n",
    "pos_vcf_og.to_csv(output_allele_freq)"
   ]
  },
  {
   "cell_type": "code",
   "execution_count": 89,
   "id": "34daf9f2-e377-4c9e-9ca7-89ddd5682373",
   "metadata": {},
   "outputs": [
    {
     "data": {
      "text/html": [
       "<div>\n",
       "<style scoped>\n",
       "    .dataframe tbody tr th:only-of-type {\n",
       "        vertical-align: middle;\n",
       "    }\n",
       "\n",
       "    .dataframe tbody tr th {\n",
       "        vertical-align: top;\n",
       "    }\n",
       "\n",
       "    .dataframe thead th {\n",
       "        text-align: right;\n",
       "    }\n",
       "</style>\n",
       "<table border=\"1\" class=\"dataframe\">\n",
       "  <thead>\n",
       "    <tr style=\"text-align: right;\">\n",
       "      <th></th>\n",
       "      <th>pos</th>\n",
       "      <th>result_selection_var1.3031_optima2.5131.vcfoutput_selection_x</th>\n",
       "      <th>result_selection_var1.3031_optima2.5131.vcfoutput_selection_y</th>\n",
       "    </tr>\n",
       "  </thead>\n",
       "  <tbody>\n",
       "    <tr>\n",
       "      <th>0</th>\n",
       "      <td>291</td>\n",
       "      <td>0.038265</td>\n",
       "      <td>NaN</td>\n",
       "    </tr>\n",
       "    <tr>\n",
       "      <th>1</th>\n",
       "      <td>346</td>\n",
       "      <td>0.214286</td>\n",
       "      <td>0.145570</td>\n",
       "    </tr>\n",
       "    <tr>\n",
       "      <th>2</th>\n",
       "      <td>349</td>\n",
       "      <td>0.007653</td>\n",
       "      <td>NaN</td>\n",
       "    </tr>\n",
       "    <tr>\n",
       "      <th>3</th>\n",
       "      <td>352</td>\n",
       "      <td>NaN</td>\n",
       "      <td>0.025316</td>\n",
       "    </tr>\n",
       "    <tr>\n",
       "      <th>4</th>\n",
       "      <td>353</td>\n",
       "      <td>0.056122</td>\n",
       "      <td>0.107595</td>\n",
       "    </tr>\n",
       "    <tr>\n",
       "      <th>...</th>\n",
       "      <td>...</td>\n",
       "      <td>...</td>\n",
       "      <td>...</td>\n",
       "    </tr>\n",
       "    <tr>\n",
       "      <th>3235475</th>\n",
       "      <td>119146054</td>\n",
       "      <td>NaN</td>\n",
       "      <td>0.006329</td>\n",
       "    </tr>\n",
       "    <tr>\n",
       "      <th>3235476</th>\n",
       "      <td>119146061</td>\n",
       "      <td>NaN</td>\n",
       "      <td>NaN</td>\n",
       "    </tr>\n",
       "    <tr>\n",
       "      <th>3235477</th>\n",
       "      <td>119146113</td>\n",
       "      <td>NaN</td>\n",
       "      <td>NaN</td>\n",
       "    </tr>\n",
       "    <tr>\n",
       "      <th>3235478</th>\n",
       "      <td>119146118</td>\n",
       "      <td>0.165816</td>\n",
       "      <td>0.322785</td>\n",
       "    </tr>\n",
       "    <tr>\n",
       "      <th>3235479</th>\n",
       "      <td>119146134</td>\n",
       "      <td>0.178571</td>\n",
       "      <td>0.265823</td>\n",
       "    </tr>\n",
       "  </tbody>\n",
       "</table>\n",
       "<p>3235480 rows × 3 columns</p>\n",
       "</div>"
      ],
      "text/plain": [
       "               pos  \\\n",
       "0              291   \n",
       "1              346   \n",
       "2              349   \n",
       "3              352   \n",
       "4              353   \n",
       "...            ...   \n",
       "3235475  119146054   \n",
       "3235476  119146061   \n",
       "3235477  119146113   \n",
       "3235478  119146118   \n",
       "3235479  119146134   \n",
       "\n",
       "         result_selection_var1.3031_optima2.5131.vcfoutput_selection_x  \\\n",
       "0                                                 0.038265               \n",
       "1                                                 0.214286               \n",
       "2                                                 0.007653               \n",
       "3                                                      NaN               \n",
       "4                                                 0.056122               \n",
       "...                                                    ...               \n",
       "3235475                                                NaN               \n",
       "3235476                                                NaN               \n",
       "3235477                                                NaN               \n",
       "3235478                                           0.165816               \n",
       "3235479                                           0.178571               \n",
       "\n",
       "         result_selection_var1.3031_optima2.5131.vcfoutput_selection_y  \n",
       "0                                                      NaN              \n",
       "1                                                 0.145570              \n",
       "2                                                      NaN              \n",
       "3                                                 0.025316              \n",
       "4                                                 0.107595              \n",
       "...                                                    ...              \n",
       "3235475                                           0.006329              \n",
       "3235476                                                NaN              \n",
       "3235477                                                NaN              \n",
       "3235478                                           0.322785              \n",
       "3235479                                           0.265823              \n",
       "\n",
       "[3235480 rows x 3 columns]"
      ]
     },
     "execution_count": 89,
     "metadata": {},
     "output_type": "execute_result"
    }
   ],
   "source": []
  },
  {
   "cell_type": "code",
   "execution_count": null,
   "id": "04a64eb8-846b-4cd9-8a3b-2d7ceadca86c",
   "metadata": {},
   "outputs": [],
   "source": [
    "import glob\n",
    "import pandas as pd\n",
    "import os\n",
    "import tskit\n",
    "\n",
    "\n",
    "\n",
    "path = '/home/tbellagio/scratch/slim_grenenet/'\n",
    "\n",
    "\n",
    "# Use the glob module to search for files in subfolders\n",
    "pattern = os.path.join(path, '**', '*_tree_output.trees')\n",
    "trees = glob.glob(pattern, recursive=True)\n",
    "\n",
    "\n",
    "\n",
    "pop_size = dict()\n",
    "for i in trees:\n",
    "    print(i)\n",
    "    if os.path.getsize(i) > 1:\n",
    "        tree = tskit.load(i)\n",
    "        pop_s = len(tree.tables.individuals)\n",
    "        pop_size[i] = pop_s\n",
    "    else:\n",
    "        pop_size[i] = 0\n",
    "\n",
    "pd.DataFrame([pop_size]).T.to_csv('pop_sizes.csv')"
   ]
  },
  {
   "cell_type": "code",
   "execution_count": 4,
   "id": "9e05445d-188e-4fd8-980e-3143fba460a5",
   "metadata": {},
   "outputs": [],
   "source": [
    "pop_size = pd.read_csv('pop_sizes.csv')"
   ]
  },
  {
   "cell_type": "code",
   "execution_count": 7,
   "id": "45bb2fc4-7f4f-4af6-b2d7-7a6ed17f959f",
   "metadata": {},
   "outputs": [
    {
     "data": {
      "text/html": [
       "<div>\n",
       "<style scoped>\n",
       "    .dataframe tbody tr th:only-of-type {\n",
       "        vertical-align: middle;\n",
       "    }\n",
       "\n",
       "    .dataframe tbody tr th {\n",
       "        vertical-align: top;\n",
       "    }\n",
       "\n",
       "    .dataframe thead th {\n",
       "        text-align: right;\n",
       "    }\n",
       "</style>\n",
       "<table border=\"1\" class=\"dataframe\">\n",
       "  <thead>\n",
       "    <tr style=\"text-align: right;\">\n",
       "      <th></th>\n",
       "      <th>Unnamed: 0</th>\n",
       "      <th>0</th>\n",
       "    </tr>\n",
       "  </thead>\n",
       "  <tbody>\n",
       "    <tr>\n",
       "      <th>10</th>\n",
       "      <td>/home/tbellagio/scratch/slim_grenenet/results/...</td>\n",
       "      <td>0</td>\n",
       "    </tr>\n",
       "    <tr>\n",
       "      <th>11</th>\n",
       "      <td>/home/tbellagio/scratch/slim_grenenet/results/...</td>\n",
       "      <td>0</td>\n",
       "    </tr>\n",
       "    <tr>\n",
       "      <th>12</th>\n",
       "      <td>/home/tbellagio/scratch/slim_grenenet/results/...</td>\n",
       "      <td>0</td>\n",
       "    </tr>\n",
       "    <tr>\n",
       "      <th>13</th>\n",
       "      <td>/home/tbellagio/scratch/slim_grenenet/results/...</td>\n",
       "      <td>0</td>\n",
       "    </tr>\n",
       "    <tr>\n",
       "      <th>14</th>\n",
       "      <td>/home/tbellagio/scratch/slim_grenenet/results/...</td>\n",
       "      <td>0</td>\n",
       "    </tr>\n",
       "    <tr>\n",
       "      <th>...</th>\n",
       "      <td>...</td>\n",
       "      <td>...</td>\n",
       "    </tr>\n",
       "    <tr>\n",
       "      <th>1785</th>\n",
       "      <td>/home/tbellagio/scratch/slim_grenenet/results/...</td>\n",
       "      <td>0</td>\n",
       "    </tr>\n",
       "    <tr>\n",
       "      <th>1786</th>\n",
       "      <td>/home/tbellagio/scratch/slim_grenenet/results/...</td>\n",
       "      <td>0</td>\n",
       "    </tr>\n",
       "    <tr>\n",
       "      <th>1787</th>\n",
       "      <td>/home/tbellagio/scratch/slim_grenenet/results/...</td>\n",
       "      <td>0</td>\n",
       "    </tr>\n",
       "    <tr>\n",
       "      <th>1788</th>\n",
       "      <td>/home/tbellagio/scratch/slim_grenenet/results/...</td>\n",
       "      <td>0</td>\n",
       "    </tr>\n",
       "    <tr>\n",
       "      <th>1789</th>\n",
       "      <td>/home/tbellagio/scratch/slim_grenenet/results/...</td>\n",
       "      <td>0</td>\n",
       "    </tr>\n",
       "  </tbody>\n",
       "</table>\n",
       "<p>1393 rows × 2 columns</p>\n",
       "</div>"
      ],
      "text/plain": [
       "                                             Unnamed: 0  0\n",
       "10    /home/tbellagio/scratch/slim_grenenet/results/...  0\n",
       "11    /home/tbellagio/scratch/slim_grenenet/results/...  0\n",
       "12    /home/tbellagio/scratch/slim_grenenet/results/...  0\n",
       "13    /home/tbellagio/scratch/slim_grenenet/results/...  0\n",
       "14    /home/tbellagio/scratch/slim_grenenet/results/...  0\n",
       "...                                                 ... ..\n",
       "1785  /home/tbellagio/scratch/slim_grenenet/results/...  0\n",
       "1786  /home/tbellagio/scratch/slim_grenenet/results/...  0\n",
       "1787  /home/tbellagio/scratch/slim_grenenet/results/...  0\n",
       "1788  /home/tbellagio/scratch/slim_grenenet/results/...  0\n",
       "1789  /home/tbellagio/scratch/slim_grenenet/results/...  0\n",
       "\n",
       "[1393 rows x 2 columns]"
      ]
     },
     "execution_count": 7,
     "metadata": {},
     "output_type": "execute_result"
    }
   ],
   "source": [
    "pop_size[pop_size['0']==0]"
   ]
  },
  {
   "cell_type": "code",
   "execution_count": null,
   "id": "5342b105-dad6-480e-b45b-34fa05514d0d",
   "metadata": {},
   "outputs": [],
   "source": []
  },
  {
   "cell_type": "code",
   "execution_count": 26,
   "id": "a9f3a9fe-037c-4166-aa6a-feb5c015ae33",
   "metadata": {},
   "outputs": [],
   "source": [
    "# Use the glob module to search for files in subfolders\n",
    "pattern = os.path.join(path, '**', 'allele_freq.csv')\n",
    "allele_freq_files = glob.glob(pattern, recursive=True)"
   ]
  },
  {
   "cell_type": "code",
   "execution_count": 27,
   "id": "c37dd175-1d5b-4a8c-86c3-1a4ee7d0126a",
   "metadata": {},
   "outputs": [
    {
     "data": {
      "text/plain": [
       "48"
      ]
     },
     "execution_count": 27,
     "metadata": {},
     "output_type": "execute_result"
    }
   ],
   "source": [
    "len(allele_freq_files)"
   ]
  },
  {
   "cell_type": "code",
   "execution_count": 23,
   "id": "85ff13df-b746-474e-873a-6f0bafec2570",
   "metadata": {},
   "outputs": [
    {
     "name": "stdout",
     "output_type": "stream",
     "text": [
      "/home/tbellagio/scratch/slim_grenenet/results/arq_mediumfreq_twentypoly_lowbeta/lowsel/allele_freq.csv\n",
      "807284550\n",
      "/home/tbellagio/scratch/slim_grenenet/results/arq_lowfreq_monogen_highbeta/strongsel/allele_freq.csv\n",
      "1770104976\n",
      "/home/tbellagio/scratch/slim_grenenet/results/arq_mediumfreq_monogen_lowbeta/strongsel/allele_freq.csv\n",
      "1567941385\n",
      "/home/tbellagio/scratch/slim_grenenet/results/arq_lowfreq_onehpoly_highbeta/lowsel/allele_freq.csv\n",
      "3337535574\n",
      "/home/tbellagio/scratch/slim_grenenet/results/arq_lowfreq_twentypoly_highbeta/lowsel/allele_freq.csv\n",
      "1698297950\n",
      "/home/tbellagio/scratch/slim_grenenet/results/arq_lowfreq_twentypoly_highbeta/moderatesel/allele_freq.csv\n",
      "1664068319\n",
      "/home/tbellagio/scratch/slim_grenenet/results/arq_lowfreq_fivepoly_lowbeta/moderatesel/allele_freq.csv\n",
      "1768562305\n",
      "/home/tbellagio/scratch/slim_grenenet/results/arq_lowfreq_fivepoly_lowbeta/strongsel/allele_freq.csv\n",
      "1757685525\n",
      "/home/tbellagio/scratch/slim_grenenet/results/arq_mediumfreq_fivepoly_highbeta/lowsel/allele_freq.csv\n",
      "1677164210\n",
      "/home/tbellagio/scratch/slim_grenenet/results/arq_mediumfreq_fivepoly_highbeta/moderatesel/allele_freq.csv\n",
      "305680693\n",
      "/home/tbellagio/scratch/slim_grenenet/results/arq_highfreq_fivepoly_highbeta/lowsel/allele_freq.csv\n",
      "1588551560\n",
      "/home/tbellagio/scratch/slim_grenenet/results/arq_lowfreq_monogen_lowbeta/strongsel/allele_freq.csv\n",
      "1787870011\n"
     ]
    }
   ],
   "source": [
    "for i in allele_freq_files:\n",
    "    if os.path.getsize(i) != 133292499:\n",
    "        print(i)\n",
    "        print(os.path.getsize(i))"
   ]
  },
  {
   "cell_type": "code",
   "execution_count": null,
   "id": "83e1920e-a8fb-4501-b470-9f8b5fcf6141",
   "metadata": {},
   "outputs": [],
   "source": [
    "305680693\n",
    "807284550"
   ]
  },
  {
   "cell_type": "code",
   "execution_count": 46,
   "id": "cca8525b-e737-4000-bfd0-fbb25ae9acf2",
   "metadata": {},
   "outputs": [],
   "source": [
    "allele_freq = pd.read_csv('/home/tbellagio/scratch/slim_grenenet/results/arq_mediumfreq_fivepoly_highbeta/moderatesel/allele_freq.csv')"
   ]
  },
  {
   "cell_type": "code",
   "execution_count": 47,
   "id": "c5f5a5f0-42fd-42ad-9861-8071302fb9c1",
   "metadata": {},
   "outputs": [
    {
     "data": {
      "text/plain": [
       "pos\n",
       "12314751    125\n",
       "8373311      80\n",
       "9362109      64\n",
       "10487668     64\n",
       "17136607     64\n",
       "           ... \n",
       "7811645       1\n",
       "7811657       1\n",
       "7811662       1\n",
       "7811718       1\n",
       "26975288      1\n",
       "Name: count, Length: 3085684, dtype: int64"
      ]
     },
     "execution_count": 47,
     "metadata": {},
     "output_type": "execute_result"
    }
   ],
   "source": [
    "allele_freq.pos.value_counts()"
   ]
  },
  {
   "cell_type": "code",
   "execution_count": 33,
   "id": "79d2b402-3e8a-4a04-95b2-128331ae7541",
   "metadata": {},
   "outputs": [
    {
     "data": {
      "text/html": [
       "<div>\n",
       "<style scoped>\n",
       "    .dataframe tbody tr th:only-of-type {\n",
       "        vertical-align: middle;\n",
       "    }\n",
       "\n",
       "    .dataframe tbody tr th {\n",
       "        vertical-align: top;\n",
       "    }\n",
       "\n",
       "    .dataframe thead th {\n",
       "        text-align: right;\n",
       "    }\n",
       "</style>\n",
       "<table border=\"1\" class=\"dataframe\">\n",
       "  <thead>\n",
       "    <tr style=\"text-align: right;\">\n",
       "      <th></th>\n",
       "      <th>Unnamed: 0</th>\n",
       "      <th>pos</th>\n",
       "      <th>optima0_subp0</th>\n",
       "      <th>optima0_subp1</th>\n",
       "      <th>optima0_subp2</th>\n",
       "      <th>optima0_subp3</th>\n",
       "      <th>optima0_subp4</th>\n",
       "      <th>optima1_subp0</th>\n",
       "      <th>optima1_subp1</th>\n",
       "      <th>optima1_subp2</th>\n",
       "      <th>...</th>\n",
       "      <th>optima3_subp0</th>\n",
       "      <th>optima3_subp1</th>\n",
       "      <th>optima3_subp2</th>\n",
       "      <th>optima3_subp3</th>\n",
       "      <th>optima3_subp4</th>\n",
       "      <th>optima4_subp0</th>\n",
       "      <th>optima4_subp1</th>\n",
       "      <th>optima4_subp2</th>\n",
       "      <th>optima4_subp3</th>\n",
       "      <th>optima4_subp4</th>\n",
       "    </tr>\n",
       "  </thead>\n",
       "  <tbody>\n",
       "    <tr>\n",
       "      <th>811635</th>\n",
       "      <td>811635</td>\n",
       "      <td>8373311</td>\n",
       "      <td>NaN</td>\n",
       "      <td>NaN</td>\n",
       "      <td>NaN</td>\n",
       "      <td>NaN</td>\n",
       "      <td>NaN</td>\n",
       "      <td>NaN</td>\n",
       "      <td>NaN</td>\n",
       "      <td>NaN</td>\n",
       "      <td>...</td>\n",
       "      <td>NaN</td>\n",
       "      <td>NaN</td>\n",
       "      <td>NaN</td>\n",
       "      <td>NaN</td>\n",
       "      <td>NaN</td>\n",
       "      <td>NaN</td>\n",
       "      <td>NaN</td>\n",
       "      <td>NaN</td>\n",
       "      <td>NaN</td>\n",
       "      <td>NaN</td>\n",
       "    </tr>\n",
       "    <tr>\n",
       "      <th>811636</th>\n",
       "      <td>811636</td>\n",
       "      <td>8373311</td>\n",
       "      <td>NaN</td>\n",
       "      <td>NaN</td>\n",
       "      <td>NaN</td>\n",
       "      <td>NaN</td>\n",
       "      <td>NaN</td>\n",
       "      <td>NaN</td>\n",
       "      <td>NaN</td>\n",
       "      <td>NaN</td>\n",
       "      <td>...</td>\n",
       "      <td>NaN</td>\n",
       "      <td>NaN</td>\n",
       "      <td>NaN</td>\n",
       "      <td>NaN</td>\n",
       "      <td>NaN</td>\n",
       "      <td>NaN</td>\n",
       "      <td>NaN</td>\n",
       "      <td>NaN</td>\n",
       "      <td>NaN</td>\n",
       "      <td>NaN</td>\n",
       "    </tr>\n",
       "    <tr>\n",
       "      <th>811637</th>\n",
       "      <td>811637</td>\n",
       "      <td>8373311</td>\n",
       "      <td>NaN</td>\n",
       "      <td>NaN</td>\n",
       "      <td>NaN</td>\n",
       "      <td>NaN</td>\n",
       "      <td>NaN</td>\n",
       "      <td>NaN</td>\n",
       "      <td>NaN</td>\n",
       "      <td>NaN</td>\n",
       "      <td>...</td>\n",
       "      <td>NaN</td>\n",
       "      <td>NaN</td>\n",
       "      <td>NaN</td>\n",
       "      <td>NaN</td>\n",
       "      <td>NaN</td>\n",
       "      <td>NaN</td>\n",
       "      <td>NaN</td>\n",
       "      <td>NaN</td>\n",
       "      <td>NaN</td>\n",
       "      <td>NaN</td>\n",
       "    </tr>\n",
       "    <tr>\n",
       "      <th>811638</th>\n",
       "      <td>811638</td>\n",
       "      <td>8373311</td>\n",
       "      <td>NaN</td>\n",
       "      <td>NaN</td>\n",
       "      <td>NaN</td>\n",
       "      <td>NaN</td>\n",
       "      <td>NaN</td>\n",
       "      <td>NaN</td>\n",
       "      <td>NaN</td>\n",
       "      <td>NaN</td>\n",
       "      <td>...</td>\n",
       "      <td>NaN</td>\n",
       "      <td>NaN</td>\n",
       "      <td>NaN</td>\n",
       "      <td>NaN</td>\n",
       "      <td>NaN</td>\n",
       "      <td>NaN</td>\n",
       "      <td>NaN</td>\n",
       "      <td>NaN</td>\n",
       "      <td>NaN</td>\n",
       "      <td>NaN</td>\n",
       "    </tr>\n",
       "    <tr>\n",
       "      <th>811639</th>\n",
       "      <td>811639</td>\n",
       "      <td>8373311</td>\n",
       "      <td>NaN</td>\n",
       "      <td>NaN</td>\n",
       "      <td>NaN</td>\n",
       "      <td>NaN</td>\n",
       "      <td>NaN</td>\n",
       "      <td>NaN</td>\n",
       "      <td>NaN</td>\n",
       "      <td>NaN</td>\n",
       "      <td>...</td>\n",
       "      <td>NaN</td>\n",
       "      <td>NaN</td>\n",
       "      <td>NaN</td>\n",
       "      <td>NaN</td>\n",
       "      <td>NaN</td>\n",
       "      <td>NaN</td>\n",
       "      <td>NaN</td>\n",
       "      <td>NaN</td>\n",
       "      <td>NaN</td>\n",
       "      <td>NaN</td>\n",
       "    </tr>\n",
       "    <tr>\n",
       "      <th>...</th>\n",
       "      <td>...</td>\n",
       "      <td>...</td>\n",
       "      <td>...</td>\n",
       "      <td>...</td>\n",
       "      <td>...</td>\n",
       "      <td>...</td>\n",
       "      <td>...</td>\n",
       "      <td>...</td>\n",
       "      <td>...</td>\n",
       "      <td>...</td>\n",
       "      <td>...</td>\n",
       "      <td>...</td>\n",
       "      <td>...</td>\n",
       "      <td>...</td>\n",
       "      <td>...</td>\n",
       "      <td>...</td>\n",
       "      <td>...</td>\n",
       "      <td>...</td>\n",
       "      <td>...</td>\n",
       "      <td>...</td>\n",
       "      <td>...</td>\n",
       "    </tr>\n",
       "    <tr>\n",
       "      <th>814130</th>\n",
       "      <td>814130</td>\n",
       "      <td>8373311</td>\n",
       "      <td>NaN</td>\n",
       "      <td>NaN</td>\n",
       "      <td>NaN</td>\n",
       "      <td>NaN</td>\n",
       "      <td>NaN</td>\n",
       "      <td>NaN</td>\n",
       "      <td>NaN</td>\n",
       "      <td>NaN</td>\n",
       "      <td>...</td>\n",
       "      <td>NaN</td>\n",
       "      <td>NaN</td>\n",
       "      <td>NaN</td>\n",
       "      <td>NaN</td>\n",
       "      <td>NaN</td>\n",
       "      <td>NaN</td>\n",
       "      <td>NaN</td>\n",
       "      <td>NaN</td>\n",
       "      <td>NaN</td>\n",
       "      <td>NaN</td>\n",
       "    </tr>\n",
       "    <tr>\n",
       "      <th>814131</th>\n",
       "      <td>814131</td>\n",
       "      <td>8373311</td>\n",
       "      <td>NaN</td>\n",
       "      <td>NaN</td>\n",
       "      <td>NaN</td>\n",
       "      <td>NaN</td>\n",
       "      <td>NaN</td>\n",
       "      <td>NaN</td>\n",
       "      <td>NaN</td>\n",
       "      <td>NaN</td>\n",
       "      <td>...</td>\n",
       "      <td>NaN</td>\n",
       "      <td>NaN</td>\n",
       "      <td>NaN</td>\n",
       "      <td>NaN</td>\n",
       "      <td>NaN</td>\n",
       "      <td>NaN</td>\n",
       "      <td>NaN</td>\n",
       "      <td>NaN</td>\n",
       "      <td>NaN</td>\n",
       "      <td>NaN</td>\n",
       "    </tr>\n",
       "    <tr>\n",
       "      <th>814132</th>\n",
       "      <td>814132</td>\n",
       "      <td>8373311</td>\n",
       "      <td>NaN</td>\n",
       "      <td>NaN</td>\n",
       "      <td>NaN</td>\n",
       "      <td>NaN</td>\n",
       "      <td>NaN</td>\n",
       "      <td>NaN</td>\n",
       "      <td>NaN</td>\n",
       "      <td>NaN</td>\n",
       "      <td>...</td>\n",
       "      <td>NaN</td>\n",
       "      <td>NaN</td>\n",
       "      <td>NaN</td>\n",
       "      <td>NaN</td>\n",
       "      <td>NaN</td>\n",
       "      <td>NaN</td>\n",
       "      <td>NaN</td>\n",
       "      <td>NaN</td>\n",
       "      <td>NaN</td>\n",
       "      <td>NaN</td>\n",
       "    </tr>\n",
       "    <tr>\n",
       "      <th>814133</th>\n",
       "      <td>814133</td>\n",
       "      <td>8373311</td>\n",
       "      <td>NaN</td>\n",
       "      <td>NaN</td>\n",
       "      <td>NaN</td>\n",
       "      <td>NaN</td>\n",
       "      <td>NaN</td>\n",
       "      <td>NaN</td>\n",
       "      <td>NaN</td>\n",
       "      <td>NaN</td>\n",
       "      <td>...</td>\n",
       "      <td>NaN</td>\n",
       "      <td>NaN</td>\n",
       "      <td>NaN</td>\n",
       "      <td>NaN</td>\n",
       "      <td>NaN</td>\n",
       "      <td>NaN</td>\n",
       "      <td>NaN</td>\n",
       "      <td>NaN</td>\n",
       "      <td>NaN</td>\n",
       "      <td>NaN</td>\n",
       "    </tr>\n",
       "    <tr>\n",
       "      <th>814134</th>\n",
       "      <td>814134</td>\n",
       "      <td>8373311</td>\n",
       "      <td>NaN</td>\n",
       "      <td>NaN</td>\n",
       "      <td>NaN</td>\n",
       "      <td>NaN</td>\n",
       "      <td>NaN</td>\n",
       "      <td>NaN</td>\n",
       "      <td>NaN</td>\n",
       "      <td>NaN</td>\n",
       "      <td>...</td>\n",
       "      <td>NaN</td>\n",
       "      <td>NaN</td>\n",
       "      <td>NaN</td>\n",
       "      <td>NaN</td>\n",
       "      <td>NaN</td>\n",
       "      <td>NaN</td>\n",
       "      <td>NaN</td>\n",
       "      <td>NaN</td>\n",
       "      <td>NaN</td>\n",
       "      <td>NaN</td>\n",
       "    </tr>\n",
       "  </tbody>\n",
       "</table>\n",
       "<p>2500 rows × 27 columns</p>\n",
       "</div>"
      ],
      "text/plain": [
       "        Unnamed: 0      pos  optima0_subp0  optima0_subp1  optima0_subp2  \\\n",
       "811635      811635  8373311            NaN            NaN            NaN   \n",
       "811636      811636  8373311            NaN            NaN            NaN   \n",
       "811637      811637  8373311            NaN            NaN            NaN   \n",
       "811638      811638  8373311            NaN            NaN            NaN   \n",
       "811639      811639  8373311            NaN            NaN            NaN   \n",
       "...            ...      ...            ...            ...            ...   \n",
       "814130      814130  8373311            NaN            NaN            NaN   \n",
       "814131      814131  8373311            NaN            NaN            NaN   \n",
       "814132      814132  8373311            NaN            NaN            NaN   \n",
       "814133      814133  8373311            NaN            NaN            NaN   \n",
       "814134      814134  8373311            NaN            NaN            NaN   \n",
       "\n",
       "        optima0_subp3  optima0_subp4  optima1_subp0  optima1_subp1  \\\n",
       "811635            NaN            NaN            NaN            NaN   \n",
       "811636            NaN            NaN            NaN            NaN   \n",
       "811637            NaN            NaN            NaN            NaN   \n",
       "811638            NaN            NaN            NaN            NaN   \n",
       "811639            NaN            NaN            NaN            NaN   \n",
       "...               ...            ...            ...            ...   \n",
       "814130            NaN            NaN            NaN            NaN   \n",
       "814131            NaN            NaN            NaN            NaN   \n",
       "814132            NaN            NaN            NaN            NaN   \n",
       "814133            NaN            NaN            NaN            NaN   \n",
       "814134            NaN            NaN            NaN            NaN   \n",
       "\n",
       "        optima1_subp2  ...  optima3_subp0  optima3_subp1  optima3_subp2  \\\n",
       "811635            NaN  ...            NaN            NaN            NaN   \n",
       "811636            NaN  ...            NaN            NaN            NaN   \n",
       "811637            NaN  ...            NaN            NaN            NaN   \n",
       "811638            NaN  ...            NaN            NaN            NaN   \n",
       "811639            NaN  ...            NaN            NaN            NaN   \n",
       "...               ...  ...            ...            ...            ...   \n",
       "814130            NaN  ...            NaN            NaN            NaN   \n",
       "814131            NaN  ...            NaN            NaN            NaN   \n",
       "814132            NaN  ...            NaN            NaN            NaN   \n",
       "814133            NaN  ...            NaN            NaN            NaN   \n",
       "814134            NaN  ...            NaN            NaN            NaN   \n",
       "\n",
       "        optima3_subp3  optima3_subp4  optima4_subp0  optima4_subp1  \\\n",
       "811635            NaN            NaN            NaN            NaN   \n",
       "811636            NaN            NaN            NaN            NaN   \n",
       "811637            NaN            NaN            NaN            NaN   \n",
       "811638            NaN            NaN            NaN            NaN   \n",
       "811639            NaN            NaN            NaN            NaN   \n",
       "...               ...            ...            ...            ...   \n",
       "814130            NaN            NaN            NaN            NaN   \n",
       "814131            NaN            NaN            NaN            NaN   \n",
       "814132            NaN            NaN            NaN            NaN   \n",
       "814133            NaN            NaN            NaN            NaN   \n",
       "814134            NaN            NaN            NaN            NaN   \n",
       "\n",
       "        optima4_subp2  optima4_subp3  optima4_subp4  \n",
       "811635            NaN            NaN            NaN  \n",
       "811636            NaN            NaN            NaN  \n",
       "811637            NaN            NaN            NaN  \n",
       "811638            NaN            NaN            NaN  \n",
       "811639            NaN            NaN            NaN  \n",
       "...               ...            ...            ...  \n",
       "814130            NaN            NaN            NaN  \n",
       "814131            NaN            NaN            NaN  \n",
       "814132            NaN            NaN            NaN  \n",
       "814133            NaN            NaN            NaN  \n",
       "814134            NaN            NaN            NaN  \n",
       "\n",
       "[2500 rows x 27 columns]"
      ]
     },
     "execution_count": 33,
     "metadata": {},
     "output_type": "execute_result"
    }
   ],
   "source": [
    "allele_freq[allele_freq['pos'] == 8373311]"
   ]
  },
  {
   "cell_type": "code",
   "execution_count": 49,
   "id": "105fca80-896a-4592-97e6-476049a1944b",
   "metadata": {},
   "outputs": [
    {
     "data": {
      "text/html": [
       "<div>\n",
       "<style scoped>\n",
       "    .dataframe tbody tr th:only-of-type {\n",
       "        vertical-align: middle;\n",
       "    }\n",
       "\n",
       "    .dataframe tbody tr th {\n",
       "        vertical-align: top;\n",
       "    }\n",
       "\n",
       "    .dataframe thead th {\n",
       "        text-align: right;\n",
       "    }\n",
       "</style>\n",
       "<table border=\"1\" class=\"dataframe\">\n",
       "  <thead>\n",
       "    <tr style=\"text-align: right;\">\n",
       "      <th></th>\n",
       "      <th>Unnamed: 0</th>\n",
       "      <th>pos</th>\n",
       "      <th>optima0_subp0</th>\n",
       "      <th>optima0_subp1</th>\n",
       "      <th>optima0_subp2</th>\n",
       "      <th>optima0_subp3</th>\n",
       "      <th>optima0_subp4</th>\n",
       "      <th>optima1_subp0</th>\n",
       "      <th>optima1_subp1</th>\n",
       "      <th>optima1_subp2</th>\n",
       "      <th>...</th>\n",
       "      <th>optima3_subp0</th>\n",
       "      <th>optima3_subp1</th>\n",
       "      <th>optima3_subp2</th>\n",
       "      <th>optima3_subp3</th>\n",
       "      <th>optima3_subp4</th>\n",
       "      <th>optima4_subp0</th>\n",
       "      <th>optima4_subp1</th>\n",
       "      <th>optima4_subp2</th>\n",
       "      <th>optima4_subp3</th>\n",
       "      <th>optima4_subp4</th>\n",
       "    </tr>\n",
       "  </thead>\n",
       "  <tbody>\n",
       "    <tr>\n",
       "      <th>0</th>\n",
       "      <td>0</td>\n",
       "      <td>291</td>\n",
       "      <td>NaN</td>\n",
       "      <td>NaN</td>\n",
       "      <td>NaN</td>\n",
       "      <td>NaN</td>\n",
       "      <td>NaN</td>\n",
       "      <td>NaN</td>\n",
       "      <td>NaN</td>\n",
       "      <td>NaN</td>\n",
       "      <td>...</td>\n",
       "      <td>NaN</td>\n",
       "      <td>NaN</td>\n",
       "      <td>NaN</td>\n",
       "      <td>0.022778</td>\n",
       "      <td>0.052778</td>\n",
       "      <td>NaN</td>\n",
       "      <td>NaN</td>\n",
       "      <td>NaN</td>\n",
       "      <td>NaN</td>\n",
       "      <td>NaN</td>\n",
       "    </tr>\n",
       "    <tr>\n",
       "      <th>1</th>\n",
       "      <td>1</td>\n",
       "      <td>346</td>\n",
       "      <td>NaN</td>\n",
       "      <td>NaN</td>\n",
       "      <td>NaN</td>\n",
       "      <td>NaN</td>\n",
       "      <td>NaN</td>\n",
       "      <td>NaN</td>\n",
       "      <td>NaN</td>\n",
       "      <td>NaN</td>\n",
       "      <td>...</td>\n",
       "      <td>NaN</td>\n",
       "      <td>NaN</td>\n",
       "      <td>NaN</td>\n",
       "      <td>0.325000</td>\n",
       "      <td>0.246111</td>\n",
       "      <td>NaN</td>\n",
       "      <td>NaN</td>\n",
       "      <td>NaN</td>\n",
       "      <td>NaN</td>\n",
       "      <td>NaN</td>\n",
       "    </tr>\n",
       "    <tr>\n",
       "      <th>2</th>\n",
       "      <td>2</td>\n",
       "      <td>349</td>\n",
       "      <td>NaN</td>\n",
       "      <td>NaN</td>\n",
       "      <td>NaN</td>\n",
       "      <td>NaN</td>\n",
       "      <td>NaN</td>\n",
       "      <td>NaN</td>\n",
       "      <td>NaN</td>\n",
       "      <td>NaN</td>\n",
       "      <td>...</td>\n",
       "      <td>NaN</td>\n",
       "      <td>NaN</td>\n",
       "      <td>NaN</td>\n",
       "      <td>0.007778</td>\n",
       "      <td>NaN</td>\n",
       "      <td>NaN</td>\n",
       "      <td>NaN</td>\n",
       "      <td>NaN</td>\n",
       "      <td>NaN</td>\n",
       "      <td>NaN</td>\n",
       "    </tr>\n",
       "    <tr>\n",
       "      <th>3</th>\n",
       "      <td>3</td>\n",
       "      <td>352</td>\n",
       "      <td>NaN</td>\n",
       "      <td>NaN</td>\n",
       "      <td>NaN</td>\n",
       "      <td>NaN</td>\n",
       "      <td>NaN</td>\n",
       "      <td>NaN</td>\n",
       "      <td>NaN</td>\n",
       "      <td>NaN</td>\n",
       "      <td>...</td>\n",
       "      <td>NaN</td>\n",
       "      <td>NaN</td>\n",
       "      <td>NaN</td>\n",
       "      <td>0.032222</td>\n",
       "      <td>0.036111</td>\n",
       "      <td>NaN</td>\n",
       "      <td>NaN</td>\n",
       "      <td>NaN</td>\n",
       "      <td>NaN</td>\n",
       "      <td>NaN</td>\n",
       "    </tr>\n",
       "    <tr>\n",
       "      <th>4</th>\n",
       "      <td>4</td>\n",
       "      <td>353</td>\n",
       "      <td>NaN</td>\n",
       "      <td>NaN</td>\n",
       "      <td>NaN</td>\n",
       "      <td>NaN</td>\n",
       "      <td>NaN</td>\n",
       "      <td>NaN</td>\n",
       "      <td>NaN</td>\n",
       "      <td>NaN</td>\n",
       "      <td>...</td>\n",
       "      <td>NaN</td>\n",
       "      <td>NaN</td>\n",
       "      <td>NaN</td>\n",
       "      <td>0.072778</td>\n",
       "      <td>0.080556</td>\n",
       "      <td>NaN</td>\n",
       "      <td>NaN</td>\n",
       "      <td>NaN</td>\n",
       "      <td>NaN</td>\n",
       "      <td>NaN</td>\n",
       "    </tr>\n",
       "    <tr>\n",
       "      <th>...</th>\n",
       "      <td>...</td>\n",
       "      <td>...</td>\n",
       "      <td>...</td>\n",
       "      <td>...</td>\n",
       "      <td>...</td>\n",
       "      <td>...</td>\n",
       "      <td>...</td>\n",
       "      <td>...</td>\n",
       "      <td>...</td>\n",
       "      <td>...</td>\n",
       "      <td>...</td>\n",
       "      <td>...</td>\n",
       "      <td>...</td>\n",
       "      <td>...</td>\n",
       "      <td>...</td>\n",
       "      <td>...</td>\n",
       "      <td>...</td>\n",
       "      <td>...</td>\n",
       "      <td>...</td>\n",
       "      <td>...</td>\n",
       "      <td>...</td>\n",
       "    </tr>\n",
       "    <tr>\n",
       "      <th>4049241</th>\n",
       "      <td>4049241</td>\n",
       "      <td>26975208</td>\n",
       "      <td>NaN</td>\n",
       "      <td>NaN</td>\n",
       "      <td>NaN</td>\n",
       "      <td>NaN</td>\n",
       "      <td>NaN</td>\n",
       "      <td>NaN</td>\n",
       "      <td>NaN</td>\n",
       "      <td>NaN</td>\n",
       "      <td>...</td>\n",
       "      <td>NaN</td>\n",
       "      <td>NaN</td>\n",
       "      <td>NaN</td>\n",
       "      <td>0.036667</td>\n",
       "      <td>0.025556</td>\n",
       "      <td>NaN</td>\n",
       "      <td>NaN</td>\n",
       "      <td>NaN</td>\n",
       "      <td>NaN</td>\n",
       "      <td>NaN</td>\n",
       "    </tr>\n",
       "    <tr>\n",
       "      <th>4049242</th>\n",
       "      <td>4049242</td>\n",
       "      <td>26975215</td>\n",
       "      <td>NaN</td>\n",
       "      <td>NaN</td>\n",
       "      <td>NaN</td>\n",
       "      <td>NaN</td>\n",
       "      <td>NaN</td>\n",
       "      <td>NaN</td>\n",
       "      <td>NaN</td>\n",
       "      <td>NaN</td>\n",
       "      <td>...</td>\n",
       "      <td>NaN</td>\n",
       "      <td>NaN</td>\n",
       "      <td>NaN</td>\n",
       "      <td>NaN</td>\n",
       "      <td>NaN</td>\n",
       "      <td>NaN</td>\n",
       "      <td>NaN</td>\n",
       "      <td>NaN</td>\n",
       "      <td>NaN</td>\n",
       "      <td>NaN</td>\n",
       "    </tr>\n",
       "    <tr>\n",
       "      <th>4049243</th>\n",
       "      <td>4049243</td>\n",
       "      <td>26975267</td>\n",
       "      <td>NaN</td>\n",
       "      <td>NaN</td>\n",
       "      <td>NaN</td>\n",
       "      <td>NaN</td>\n",
       "      <td>NaN</td>\n",
       "      <td>NaN</td>\n",
       "      <td>NaN</td>\n",
       "      <td>NaN</td>\n",
       "      <td>...</td>\n",
       "      <td>NaN</td>\n",
       "      <td>NaN</td>\n",
       "      <td>NaN</td>\n",
       "      <td>0.012778</td>\n",
       "      <td>0.005556</td>\n",
       "      <td>NaN</td>\n",
       "      <td>NaN</td>\n",
       "      <td>NaN</td>\n",
       "      <td>NaN</td>\n",
       "      <td>NaN</td>\n",
       "    </tr>\n",
       "    <tr>\n",
       "      <th>4049244</th>\n",
       "      <td>4049244</td>\n",
       "      <td>26975272</td>\n",
       "      <td>NaN</td>\n",
       "      <td>NaN</td>\n",
       "      <td>NaN</td>\n",
       "      <td>NaN</td>\n",
       "      <td>NaN</td>\n",
       "      <td>NaN</td>\n",
       "      <td>NaN</td>\n",
       "      <td>NaN</td>\n",
       "      <td>...</td>\n",
       "      <td>NaN</td>\n",
       "      <td>NaN</td>\n",
       "      <td>NaN</td>\n",
       "      <td>0.398889</td>\n",
       "      <td>0.459444</td>\n",
       "      <td>NaN</td>\n",
       "      <td>NaN</td>\n",
       "      <td>NaN</td>\n",
       "      <td>NaN</td>\n",
       "      <td>NaN</td>\n",
       "    </tr>\n",
       "    <tr>\n",
       "      <th>4049245</th>\n",
       "      <td>4049245</td>\n",
       "      <td>26975288</td>\n",
       "      <td>NaN</td>\n",
       "      <td>NaN</td>\n",
       "      <td>NaN</td>\n",
       "      <td>NaN</td>\n",
       "      <td>NaN</td>\n",
       "      <td>NaN</td>\n",
       "      <td>NaN</td>\n",
       "      <td>NaN</td>\n",
       "      <td>...</td>\n",
       "      <td>NaN</td>\n",
       "      <td>NaN</td>\n",
       "      <td>NaN</td>\n",
       "      <td>0.228889</td>\n",
       "      <td>0.270556</td>\n",
       "      <td>NaN</td>\n",
       "      <td>NaN</td>\n",
       "      <td>NaN</td>\n",
       "      <td>NaN</td>\n",
       "      <td>NaN</td>\n",
       "    </tr>\n",
       "  </tbody>\n",
       "</table>\n",
       "<p>4049246 rows × 27 columns</p>\n",
       "</div>"
      ],
      "text/plain": [
       "         Unnamed: 0       pos  optima0_subp0  optima0_subp1  optima0_subp2  \\\n",
       "0                 0       291            NaN            NaN            NaN   \n",
       "1                 1       346            NaN            NaN            NaN   \n",
       "2                 2       349            NaN            NaN            NaN   \n",
       "3                 3       352            NaN            NaN            NaN   \n",
       "4                 4       353            NaN            NaN            NaN   \n",
       "...             ...       ...            ...            ...            ...   \n",
       "4049241     4049241  26975208            NaN            NaN            NaN   \n",
       "4049242     4049242  26975215            NaN            NaN            NaN   \n",
       "4049243     4049243  26975267            NaN            NaN            NaN   \n",
       "4049244     4049244  26975272            NaN            NaN            NaN   \n",
       "4049245     4049245  26975288            NaN            NaN            NaN   \n",
       "\n",
       "         optima0_subp3  optima0_subp4  optima1_subp0  optima1_subp1  \\\n",
       "0                  NaN            NaN            NaN            NaN   \n",
       "1                  NaN            NaN            NaN            NaN   \n",
       "2                  NaN            NaN            NaN            NaN   \n",
       "3                  NaN            NaN            NaN            NaN   \n",
       "4                  NaN            NaN            NaN            NaN   \n",
       "...                ...            ...            ...            ...   \n",
       "4049241            NaN            NaN            NaN            NaN   \n",
       "4049242            NaN            NaN            NaN            NaN   \n",
       "4049243            NaN            NaN            NaN            NaN   \n",
       "4049244            NaN            NaN            NaN            NaN   \n",
       "4049245            NaN            NaN            NaN            NaN   \n",
       "\n",
       "         optima1_subp2  ...  optima3_subp0  optima3_subp1  optima3_subp2  \\\n",
       "0                  NaN  ...            NaN            NaN            NaN   \n",
       "1                  NaN  ...            NaN            NaN            NaN   \n",
       "2                  NaN  ...            NaN            NaN            NaN   \n",
       "3                  NaN  ...            NaN            NaN            NaN   \n",
       "4                  NaN  ...            NaN            NaN            NaN   \n",
       "...                ...  ...            ...            ...            ...   \n",
       "4049241            NaN  ...            NaN            NaN            NaN   \n",
       "4049242            NaN  ...            NaN            NaN            NaN   \n",
       "4049243            NaN  ...            NaN            NaN            NaN   \n",
       "4049244            NaN  ...            NaN            NaN            NaN   \n",
       "4049245            NaN  ...            NaN            NaN            NaN   \n",
       "\n",
       "         optima3_subp3  optima3_subp4  optima4_subp0  optima4_subp1  \\\n",
       "0             0.022778       0.052778            NaN            NaN   \n",
       "1             0.325000       0.246111            NaN            NaN   \n",
       "2             0.007778            NaN            NaN            NaN   \n",
       "3             0.032222       0.036111            NaN            NaN   \n",
       "4             0.072778       0.080556            NaN            NaN   \n",
       "...                ...            ...            ...            ...   \n",
       "4049241       0.036667       0.025556            NaN            NaN   \n",
       "4049242            NaN            NaN            NaN            NaN   \n",
       "4049243       0.012778       0.005556            NaN            NaN   \n",
       "4049244       0.398889       0.459444            NaN            NaN   \n",
       "4049245       0.228889       0.270556            NaN            NaN   \n",
       "\n",
       "         optima4_subp2  optima4_subp3  optima4_subp4  \n",
       "0                  NaN            NaN            NaN  \n",
       "1                  NaN            NaN            NaN  \n",
       "2                  NaN            NaN            NaN  \n",
       "3                  NaN            NaN            NaN  \n",
       "4                  NaN            NaN            NaN  \n",
       "...                ...            ...            ...  \n",
       "4049241            NaN            NaN            NaN  \n",
       "4049242            NaN            NaN            NaN  \n",
       "4049243            NaN            NaN            NaN  \n",
       "4049244            NaN            NaN            NaN  \n",
       "4049245            NaN            NaN            NaN  \n",
       "\n",
       "[4049246 rows x 27 columns]"
      ]
     },
     "execution_count": 49,
     "metadata": {},
     "output_type": "execute_result"
    }
   ],
   "source": [
    "allele_freq"
   ]
  },
  {
   "cell_type": "code",
   "execution_count": null,
   "id": "e7665fae-b363-4633-a309-8dcbf344f0fa",
   "metadata": {},
   "outputs": [],
   "source": []
  },
  {
   "cell_type": "code",
   "execution_count": 12,
   "id": "efe69efd-d321-49e9-aa91-5d78a39e4fc0",
   "metadata": {},
   "outputs": [],
   "source": [
    "# Use the glob module to search for files in subfolders\n",
    "pattern = os.path.join(path, '**', '*_vcf_output_rp.vcf')\n",
    "vcfs = glob.glob(pattern, recursive=True)"
   ]
  },
  {
   "cell_type": "code",
   "execution_count": 15,
   "id": "388c822c-bb9e-440a-a303-902c786dcc5f",
   "metadata": {},
   "outputs": [],
   "source": [
    "sizes_vcfs = []\n",
    "for i in vcfs:\n",
    "    sizes_vcfs.append(os.path.getsize(i))"
   ]
  },
  {
   "cell_type": "code",
   "execution_count": 17,
   "id": "4d3976c7-71b1-40f6-a8ba-da9a835117ed",
   "metadata": {},
   "outputs": [
    {
     "data": {
      "text/plain": [
       "0              1393\n",
       "11056845485       1\n",
       "11389121373       1\n",
       "11197713565       1\n",
       "11155652884       1\n",
       "               ... \n",
       "10796901595       1\n",
       "10792573363       1\n",
       "10984333266       1\n",
       "10832239582       1\n",
       "11223506507       1\n",
       "Name: count, Length: 408, dtype: int64"
      ]
     },
     "execution_count": 17,
     "metadata": {},
     "output_type": "execute_result"
    }
   ],
   "source": [
    "pd.Series(sizes_vcfs).value_counts()"
   ]
  },
  {
   "cell_type": "code",
   "execution_count": 35,
   "id": "31ca6cb8-fed5-4a27-8656-f8f518eec3c6",
   "metadata": {},
   "outputs": [
    {
     "data": {
      "text/plain": [
       "['optima4', 'optima3', 'optima0', 'optima2', 'allele_freq.csv', 'optima1']"
      ]
     },
     "execution_count": 35,
     "metadata": {},
     "output_type": "execute_result"
    }
   ],
   "source": [
    "os.listdir('/home/tbellagio/scratch/slim_grenenet/results/arq_mediumfreq_fivepoly_highbeta/moderatesel/')"
   ]
  },
  {
   "cell_type": "code",
   "execution_count": 38,
   "id": "c47ff408-aa4c-4dad-ae3e-83ae0e93fcf9",
   "metadata": {},
   "outputs": [],
   "source": [
    "# Use the glob module to search for files in subfolders\n",
    "pattern = os.path.join('/home/tbellagio/scratch/slim_grenenet/results/arq_mediumfreq_fivepoly_highbeta/moderatesel/', '**', '*_vcf_output_rp.vcf')\n",
    "vcfs_one = glob.glob(pattern, recursive=True)"
   ]
  },
  {
   "cell_type": "code",
   "execution_count": 40,
   "id": "db4708e3-0b42-4f83-ae38-560f17b4e182",
   "metadata": {},
   "outputs": [
    {
     "data": {
      "text/plain": [
       "['/home/tbellagio/scratch/slim_grenenet/results/arq_mediumfreq_fivepoly_highbeta/moderatesel/optima4/subp4_vcf_output_rp.vcf',\n",
       " '/home/tbellagio/scratch/slim_grenenet/results/arq_mediumfreq_fivepoly_highbeta/moderatesel/optima4/subp2_vcf_output_rp.vcf',\n",
       " '/home/tbellagio/scratch/slim_grenenet/results/arq_mediumfreq_fivepoly_highbeta/moderatesel/optima4/subp3_vcf_output_rp.vcf',\n",
       " '/home/tbellagio/scratch/slim_grenenet/results/arq_mediumfreq_fivepoly_highbeta/moderatesel/optima4/subp0_vcf_output_rp.vcf']"
      ]
     },
     "execution_count": 40,
     "metadata": {},
     "output_type": "execute_result"
    }
   ],
   "source": [
    "vcfs_one[:10]"
   ]
  },
  {
   "cell_type": "code",
   "execution_count": 50,
   "id": "d6eac45f-f95b-458d-9ef9-04a111e44e83",
   "metadata": {},
   "outputs": [],
   "source": [
    "import pandas as pd\n",
    "import allel\n",
    "import os\n",
    "import numpy as np\n",
    "\n",
    "output_vcf_fixpos = vcfs_one  #[:4]"
   ]
  },
  {
   "cell_type": "code",
   "execution_count": 60,
   "id": "838efa9c-c173-4d6b-a9c8-ea77b784546f",
   "metadata": {},
   "outputs": [],
   "source": [
    "pos_vcf_og_og = pd.read_csv(path + 'data/pos_vcf_og.csv')"
   ]
  },
  {
   "cell_type": "code",
   "execution_count": null,
   "id": "c0553c9d-4b4b-4401-95ee-c5ae1da56cbe",
   "metadata": {},
   "outputs": [],
   "source": []
  },
  {
   "cell_type": "code",
   "execution_count": 206,
   "id": "036bad42-0b68-428e-acf2-e582a158cbd7",
   "metadata": {},
   "outputs": [],
   "source": [
    "def extract_allele_freq(samples, geno_array, pos, chrom, name):\n",
    "    total_alleles = len(samples) * 2 \n",
    "    alt_freq = geno_array.sum(axis=2).sum(axis=1) / total_alleles\n",
    "    chrom_pos = pd.Series(chrom.astype(str)) + '_' +  pd.Series(pos.astype(str))\n",
    "    alt_allele_freq = pd.DataFrame(data = {'chrom_pos': chrom_pos, name: alt_freq})\n",
    "    return alt_allele_freq"
   ]
  },
  {
   "cell_type": "code",
   "execution_count": 153,
   "id": "b9b9fdeb-242a-4a1d-80df-a05aba7037df",
   "metadata": {},
   "outputs": [],
   "source": [
    "vcf = allel.read_vcf('/home/tbellagio/scratch/slim_grenenet/results/arq_mediumfreq_fivepoly_highbeta/moderatesel/optima3/subp4_vcf_output_rp.vcf')\n",
    "samples = vcf['samples']\n",
    "geno_array = vcf['calldata/GT']\n",
    "pos = vcf['variants/POS']\n",
    "chrom = vcf['variants/CHROM']\n",
    "alt_allele_freq = extract_allele_freq(samples,geno_array, pos, chrom, name)\n"
   ]
  },
  {
   "cell_type": "code",
   "execution_count": 157,
   "id": "e58ee2a8-687c-49ea-8b6c-58e88f5ff54e",
   "metadata": {},
   "outputs": [],
   "source": [
    "alt_allele_freq['chrom_pos'] = alt_allele_freq['chrom'].astype(str) + '_' + alt_allele_freq['pos'].astype(str)"
   ]
  },
  {
   "cell_type": "code",
   "execution_count": 169,
   "id": "d4247e1a-1f41-4d00-aef4-e46d08bb4d12",
   "metadata": {},
   "outputs": [],
   "source": [
    "alt_allele_freq = alt_allele_freq.drop(['pos', 'chrom'],axis=1)"
   ]
  },
  {
   "cell_type": "code",
   "execution_count": 159,
   "id": "9f918327-da93-4737-9472-d7d1761f9438",
   "metadata": {},
   "outputs": [
    {
     "data": {
      "text/plain": [
       "chrom_pos\n",
       "1_291         1\n",
       "4_6091858     1\n",
       "4_6091726     1\n",
       "4_6091730     1\n",
       "4_6091752     1\n",
       "             ..\n",
       "2_7937958     1\n",
       "2_7938013     1\n",
       "2_7938021     1\n",
       "2_7938040     1\n",
       "5_26975288    1\n",
       "Name: count, Length: 3031595, dtype: int64"
      ]
     },
     "execution_count": 159,
     "metadata": {},
     "output_type": "execute_result"
    }
   ],
   "source": [
    "alt_allele_freq['chrom_pos'].value_counts()"
   ]
  },
  {
   "cell_type": "code",
   "execution_count": 204,
   "id": "5bcba4e6-d355-4332-8685-49f7a34a2b1c",
   "metadata": {},
   "outputs": [],
   "source": [
    "pos_vcf_og = pd.read_csv(path + 'data/pos_vcf_og_nooffset.csv')"
   ]
  },
  {
   "cell_type": "code",
   "execution_count": 196,
   "id": "056352e5-4076-4ae2-8d87-eed3c6e66495",
   "metadata": {},
   "outputs": [
    {
     "data": {
      "text/plain": [
       "3235480"
      ]
     },
     "execution_count": 196,
     "metadata": {},
     "output_type": "execute_result"
    }
   ],
   "source": [
    "len(pos_vcf_og)"
   ]
  },
  {
   "cell_type": "code",
   "execution_count": 197,
   "id": "62ce7400-76bb-44fc-9b28-d2d9df5cf7b8",
   "metadata": {},
   "outputs": [
    {
     "data": {
      "text/plain": [
       "3031595"
      ]
     },
     "execution_count": 197,
     "metadata": {},
     "output_type": "execute_result"
    }
   ],
   "source": [
    "len(alt_allele_freq)"
   ]
  },
  {
   "cell_type": "code",
   "execution_count": 198,
   "id": "0096f2bf-db2f-44a8-b6ef-0c1f5f28d4a6",
   "metadata": {},
   "outputs": [],
   "source": [
    "pos_vcf_og = pos_vcf_og.merge(alt_allele_freq, on ='chrom_pos', how='outer')"
   ]
  },
  {
   "cell_type": "code",
   "execution_count": 200,
   "id": "c5807e34-294e-415d-9d29-2fdea8e2a1f2",
   "metadata": {},
   "outputs": [
    {
     "data": {
      "text/plain": [
       "3235480"
      ]
     },
     "execution_count": 200,
     "metadata": {},
     "output_type": "execute_result"
    }
   ],
   "source": [
    "len(pos_vcf_og)"
   ]
  },
  {
   "cell_type": "code",
   "execution_count": 199,
   "id": "b1bb360b-a9df-45af-83a0-ed11aff0abb1",
   "metadata": {},
   "outputs": [
    {
     "data": {
      "text/plain": [
       "chrom_pos\n",
       "1_291         1\n",
       "4_6060556     1\n",
       "4_6060569     1\n",
       "4_6060576     1\n",
       "4_6060580     1\n",
       "             ..\n",
       "2_7962987     1\n",
       "2_7962989     1\n",
       "2_7962993     1\n",
       "2_7962994     1\n",
       "5_26975288    1\n",
       "Name: count, Length: 3235480, dtype: int64"
      ]
     },
     "execution_count": 199,
     "metadata": {},
     "output_type": "execute_result"
    }
   ],
   "source": [
    "pos_vcf_og['chrom_pos'].value_counts()"
   ]
  },
  {
   "cell_type": "code",
   "execution_count": 202,
   "id": "25debffc-2150-4013-9786-02c420a16556",
   "metadata": {},
   "outputs": [
    {
     "data": {
      "text/plain": [
       "0          False\n",
       "1          False\n",
       "2          False\n",
       "3          False\n",
       "4          False\n",
       "           ...  \n",
       "3031590    False\n",
       "3031591    False\n",
       "3031592    False\n",
       "3031593    False\n",
       "3031594    False\n",
       "Name: chrom_pos, Length: 3031595, dtype: bool"
      ]
     },
     "execution_count": 202,
     "metadata": {},
     "output_type": "execute_result"
    }
   ],
   "source": [
    "~alt_allele_freq['chrom_pos'].isin(pos_vcf_og['chrom_pos'])"
   ]
  },
  {
   "cell_type": "code",
   "execution_count": 203,
   "id": "60d15ff9-0300-4d8c-8236-8e92135bee0a",
   "metadata": {},
   "outputs": [
    {
     "data": {
      "text/html": [
       "<div>\n",
       "<style scoped>\n",
       "    .dataframe tbody tr th:only-of-type {\n",
       "        vertical-align: middle;\n",
       "    }\n",
       "\n",
       "    .dataframe tbody tr th {\n",
       "        vertical-align: top;\n",
       "    }\n",
       "\n",
       "    .dataframe thead th {\n",
       "        text-align: right;\n",
       "    }\n",
       "</style>\n",
       "<table border=\"1\" class=\"dataframe\">\n",
       "  <thead>\n",
       "    <tr style=\"text-align: right;\">\n",
       "      <th></th>\n",
       "      <th>optima1_subp0</th>\n",
       "      <th>chrom_pos</th>\n",
       "    </tr>\n",
       "  </thead>\n",
       "  <tbody>\n",
       "  </tbody>\n",
       "</table>\n",
       "</div>"
      ],
      "text/plain": [
       "Empty DataFrame\n",
       "Columns: [optima1_subp0, chrom_pos]\n",
       "Index: []"
      ]
     },
     "execution_count": 203,
     "metadata": {},
     "output_type": "execute_result"
    }
   ],
   "source": [
    "alt_allele_freq[~alt_allele_freq['chrom_pos'].isin(pos_vcf_og['chrom_pos'])]"
   ]
  },
  {
   "cell_type": "code",
   "execution_count": null,
   "id": "e547f268-2aa2-4767-96aa-c4246fb9208e",
   "metadata": {},
   "outputs": [],
   "source": []
  },
  {
   "cell_type": "code",
   "execution_count": null,
   "id": "c1167dfe-f0bd-4205-ac14-51ed497a6945",
   "metadata": {},
   "outputs": [],
   "source": [
    "def extract_allele_freq(samples, geno_array, pos, chrom, name):\n",
    "    total_alleles = len(samples) * 2 \n",
    "    alt_freq = geno_array.sum(axis=2).sum(axis=1) / total_alleles\n",
    "    chrom_pos = pd.Series(chrom.astype(str)) + '_' +  pd.Series(pos.astype(str))\n",
    "    alt_allele_freq = pd.DataFrame(data = {'chrom_pos': chrom_pos, name: alt_freq})\n",
    "    return alt_allele_freq"
   ]
  },
  {
   "cell_type": "code",
   "execution_count": 53,
   "id": "ffb02f97-9b10-4417-a39d-39a7131d92cf",
   "metadata": {},
   "outputs": [
    {
     "name": "stdout",
     "output_type": "stream",
     "text": [
      "/home/tbellagio/scratch/slim_grenenet/results/arq_mediumfreq_fivepoly_highbeta/moderatesel/optima4/subp4_vcf_output_rp.vcf\n",
      "empty_vcf\n",
      "/home/tbellagio/scratch/slim_grenenet/results/arq_mediumfreq_fivepoly_highbeta/moderatesel/optima4/subp2_vcf_output_rp.vcf\n",
      "empty_vcf\n",
      "/home/tbellagio/scratch/slim_grenenet/results/arq_mediumfreq_fivepoly_highbeta/moderatesel/optima4/subp3_vcf_output_rp.vcf\n",
      "empty_vcf\n",
      "/home/tbellagio/scratch/slim_grenenet/results/arq_mediumfreq_fivepoly_highbeta/moderatesel/optima4/subp0_vcf_output_rp.vcf\n",
      "empty_vcf\n",
      "/home/tbellagio/scratch/slim_grenenet/results/arq_mediumfreq_fivepoly_highbeta/moderatesel/optima4/subp1_vcf_output_rp.vcf\n",
      "empty_vcf\n",
      "/home/tbellagio/scratch/slim_grenenet/results/arq_mediumfreq_fivepoly_highbeta/moderatesel/optima3/subp1_vcf_output_rp.vcf\n",
      "empty_vcf\n",
      "/home/tbellagio/scratch/slim_grenenet/results/arq_mediumfreq_fivepoly_highbeta/moderatesel/optima3/subp0_vcf_output_rp.vcf\n",
      "empty_vcf\n",
      "/home/tbellagio/scratch/slim_grenenet/results/arq_mediumfreq_fivepoly_highbeta/moderatesel/optima3/subp3_vcf_output_rp.vcf\n",
      "/home/tbellagio/scratch/slim_grenenet/results/arq_mediumfreq_fivepoly_highbeta/moderatesel/optima3/subp4_vcf_output_rp.vcf\n",
      "/home/tbellagio/scratch/slim_grenenet/results/arq_mediumfreq_fivepoly_highbeta/moderatesel/optima3/subp2_vcf_output_rp.vcf\n",
      "empty_vcf\n",
      "/home/tbellagio/scratch/slim_grenenet/results/arq_mediumfreq_fivepoly_highbeta/moderatesel/optima0/subp0_vcf_output_rp.vcf\n",
      "empty_vcf\n",
      "/home/tbellagio/scratch/slim_grenenet/results/arq_mediumfreq_fivepoly_highbeta/moderatesel/optima0/subp1_vcf_output_rp.vcf\n",
      "empty_vcf\n",
      "/home/tbellagio/scratch/slim_grenenet/results/arq_mediumfreq_fivepoly_highbeta/moderatesel/optima0/subp4_vcf_output_rp.vcf\n",
      "empty_vcf\n",
      "/home/tbellagio/scratch/slim_grenenet/results/arq_mediumfreq_fivepoly_highbeta/moderatesel/optima0/subp2_vcf_output_rp.vcf\n",
      "empty_vcf\n",
      "/home/tbellagio/scratch/slim_grenenet/results/arq_mediumfreq_fivepoly_highbeta/moderatesel/optima0/subp3_vcf_output_rp.vcf\n",
      "empty_vcf\n",
      "/home/tbellagio/scratch/slim_grenenet/results/arq_mediumfreq_fivepoly_highbeta/moderatesel/optima2/subp3_vcf_output_rp.vcf\n",
      "empty_vcf\n",
      "/home/tbellagio/scratch/slim_grenenet/results/arq_mediumfreq_fivepoly_highbeta/moderatesel/optima2/subp2_vcf_output_rp.vcf\n",
      "empty_vcf\n",
      "/home/tbellagio/scratch/slim_grenenet/results/arq_mediumfreq_fivepoly_highbeta/moderatesel/optima2/subp4_vcf_output_rp.vcf\n",
      "empty_vcf\n",
      "/home/tbellagio/scratch/slim_grenenet/results/arq_mediumfreq_fivepoly_highbeta/moderatesel/optima2/subp1_vcf_output_rp.vcf\n",
      "empty_vcf\n",
      "/home/tbellagio/scratch/slim_grenenet/results/arq_mediumfreq_fivepoly_highbeta/moderatesel/optima2/subp0_vcf_output_rp.vcf\n",
      "empty_vcf\n",
      "/home/tbellagio/scratch/slim_grenenet/results/arq_mediumfreq_fivepoly_highbeta/moderatesel/optima1/subp3_vcf_output_rp.vcf\n",
      "empty_vcf\n",
      "/home/tbellagio/scratch/slim_grenenet/results/arq_mediumfreq_fivepoly_highbeta/moderatesel/optima1/subp2_vcf_output_rp.vcf\n",
      "empty_vcf\n",
      "/home/tbellagio/scratch/slim_grenenet/results/arq_mediumfreq_fivepoly_highbeta/moderatesel/optima1/subp4_vcf_output_rp.vcf\n",
      "empty_vcf\n",
      "/home/tbellagio/scratch/slim_grenenet/results/arq_mediumfreq_fivepoly_highbeta/moderatesel/optima1/subp1_vcf_output_rp.vcf\n",
      "empty_vcf\n",
      "/home/tbellagio/scratch/slim_grenenet/results/arq_mediumfreq_fivepoly_highbeta/moderatesel/optima1/subp0_vcf_output_rp.vcf\n",
      "empty_vcf\n"
     ]
    },
    {
     "ename": "NameError",
     "evalue": "name 'output_allele_freq' is not defined",
     "output_type": "error",
     "traceback": [
      "\u001b[0;31m---------------------------------------------------------------------------\u001b[0m",
      "\u001b[0;31mNameError\u001b[0m                                 Traceback (most recent call last)",
      "Cell \u001b[0;32mIn[53], line 14\u001b[0m\n\u001b[1;32m     12\u001b[0m         alt_allele_freq \u001b[38;5;241m=\u001b[39m extract_allele_freq(samples,geno_array, pos, name)\n\u001b[1;32m     13\u001b[0m         pos_vcf_og \u001b[38;5;241m=\u001b[39m pos_vcf_og\u001b[38;5;241m.\u001b[39mmerge(alt_allele_freq, on \u001b[38;5;241m=\u001b[39m\u001b[38;5;124m'\u001b[39m\u001b[38;5;124mpos\u001b[39m\u001b[38;5;124m'\u001b[39m, how\u001b[38;5;241m=\u001b[39m\u001b[38;5;124m'\u001b[39m\u001b[38;5;124mouter\u001b[39m\u001b[38;5;124m'\u001b[39m)\n\u001b[0;32m---> 14\u001b[0m pos_vcf_og\u001b[38;5;241m.\u001b[39mto_csv(\u001b[43moutput_allele_freq\u001b[49m)\n\u001b[1;32m     16\u001b[0m \u001b[38;5;28mprint\u001b[39m(output_allele_freq)\n\u001b[1;32m     17\u001b[0m pos_vcf_og\u001b[38;5;241m.\u001b[39mto_csv(output_allele_freq)\n",
      "\u001b[0;31mNameError\u001b[0m: name 'output_allele_freq' is not defined"
     ]
    }
   ],
   "source": [
    "for i in output_vcf_fixpos:\n",
    "    print(i)\n",
    "    name = i.split('/')[-2] + '_' + i.split('/')[-1][0:5]\n",
    "    if os.path.exists(i) and os.path.getsize(i) <= 1:\n",
    "        print('empty_vcf')\n",
    "        pos_vcf_og[name] = np.nan\n",
    "    elif os.path.exists(i) and os.path.getsize(i) > 1:\n",
    "        vcf = allel.read_vcf(i)\n",
    "        samples = vcf['samples']\n",
    "        geno_array = vcf['calldata/GT']\n",
    "        pos = vcf['variants/POS']\n",
    "        chrom = vcf['variants/CHROM']\n",
    "        alt_allele_freq = extract_allele_freq(samples,geno_array, pos, chrom, name)\n",
    "        pos_vcf_og = pos_vcf_og.merge(alt_allele_freq, on ='pos', how='outer')\n",
    "pos_vcf_og.to_csv(output_allele_freq)\n",
    "\n",
    "print(output_allele_freq)\n",
    "pos_vcf_og.to_csv(output_allele_freq)"
   ]
  },
  {
   "cell_type": "code",
   "execution_count": 148,
   "id": "598f2704-8bf6-4325-8f28-70dd28f1b516",
   "metadata": {},
   "outputs": [
    {
     "data": {
      "text/plain": [
       "array(['1', '1', '1', ..., '5', '5', '5'], dtype=object)"
      ]
     },
     "execution_count": 148,
     "metadata": {},
     "output_type": "execute_result"
    }
   ],
   "source": [
    "vcf['variants/CHROM']"
   ]
  },
  {
   "cell_type": "code",
   "execution_count": 149,
   "id": "7ee13d30-c30d-4d2c-95d0-830846437d14",
   "metadata": {},
   "outputs": [
    {
     "data": {
      "text/html": [
       "<div>\n",
       "<style scoped>\n",
       "    .dataframe tbody tr th:only-of-type {\n",
       "        vertical-align: middle;\n",
       "    }\n",
       "\n",
       "    .dataframe tbody tr th {\n",
       "        vertical-align: top;\n",
       "    }\n",
       "\n",
       "    .dataframe thead th {\n",
       "        text-align: right;\n",
       "    }\n",
       "</style>\n",
       "<table border=\"1\" class=\"dataframe\">\n",
       "  <thead>\n",
       "    <tr style=\"text-align: right;\">\n",
       "      <th></th>\n",
       "      <th>pos</th>\n",
       "      <th>optima3_subp4</th>\n",
       "    </tr>\n",
       "  </thead>\n",
       "  <tbody>\n",
       "    <tr>\n",
       "      <th>0</th>\n",
       "      <td>291</td>\n",
       "      <td>0.052778</td>\n",
       "    </tr>\n",
       "    <tr>\n",
       "      <th>1</th>\n",
       "      <td>346</td>\n",
       "      <td>0.246111</td>\n",
       "    </tr>\n",
       "    <tr>\n",
       "      <th>2</th>\n",
       "      <td>352</td>\n",
       "      <td>0.036111</td>\n",
       "    </tr>\n",
       "    <tr>\n",
       "      <th>3</th>\n",
       "      <td>353</td>\n",
       "      <td>0.080556</td>\n",
       "    </tr>\n",
       "    <tr>\n",
       "      <th>4</th>\n",
       "      <td>363</td>\n",
       "      <td>0.061111</td>\n",
       "    </tr>\n",
       "    <tr>\n",
       "      <th>...</th>\n",
       "      <td>...</td>\n",
       "      <td>...</td>\n",
       "    </tr>\n",
       "    <tr>\n",
       "      <th>3031590</th>\n",
       "      <td>26975206</td>\n",
       "      <td>0.016667</td>\n",
       "    </tr>\n",
       "    <tr>\n",
       "      <th>3031591</th>\n",
       "      <td>26975208</td>\n",
       "      <td>0.025556</td>\n",
       "    </tr>\n",
       "    <tr>\n",
       "      <th>3031592</th>\n",
       "      <td>26975267</td>\n",
       "      <td>0.005556</td>\n",
       "    </tr>\n",
       "    <tr>\n",
       "      <th>3031593</th>\n",
       "      <td>26975272</td>\n",
       "      <td>0.459444</td>\n",
       "    </tr>\n",
       "    <tr>\n",
       "      <th>3031594</th>\n",
       "      <td>26975288</td>\n",
       "      <td>0.270556</td>\n",
       "    </tr>\n",
       "  </tbody>\n",
       "</table>\n",
       "<p>3031595 rows × 2 columns</p>\n",
       "</div>"
      ],
      "text/plain": [
       "              pos  optima3_subp4\n",
       "0             291       0.052778\n",
       "1             346       0.246111\n",
       "2             352       0.036111\n",
       "3             353       0.080556\n",
       "4             363       0.061111\n",
       "...           ...            ...\n",
       "3031590  26975206       0.016667\n",
       "3031591  26975208       0.025556\n",
       "3031592  26975267       0.005556\n",
       "3031593  26975272       0.459444\n",
       "3031594  26975288       0.270556\n",
       "\n",
       "[3031595 rows x 2 columns]"
      ]
     },
     "execution_count": 149,
     "metadata": {},
     "output_type": "execute_result"
    }
   ],
   "source": [
    "alt_allele_freq"
   ]
  },
  {
   "cell_type": "code",
   "execution_count": null,
   "id": "a5b51ac8-a668-4e5f-8976-8a21bb699dca",
   "metadata": {},
   "outputs": [],
   "source": []
  },
  {
   "cell_type": "code",
   "execution_count": null,
   "id": "520066af-f557-4ca7-8471-262f8306fc92",
   "metadata": {},
   "outputs": [],
   "source": []
  },
  {
   "cell_type": "code",
   "execution_count": null,
   "id": "f23e2b27-5527-4409-931b-80b02dbc1b29",
   "metadata": {},
   "outputs": [],
   "source": [
    "/home/tbellagio/scratch/slim_grenenet/results/arq_mediumfreq_fivepoly_highbeta/moderatesel/optima3/subp4_vcf_output_rp.vcf\n"
   ]
  },
  {
   "cell_type": "code",
   "execution_count": 73,
   "id": "8c241086-0767-4842-a622-f8d27d329970",
   "metadata": {},
   "outputs": [],
   "source": [
    "vcf_og = allel.read_vcf('/home/tbellagio/scratch/slim_grenenet/results/arq_mediumfreq_fivepoly_highbeta/moderatesel/optima3/subp4_vcf_output.vcf')"
   ]
  },
  {
   "cell_type": "code",
   "execution_count": 74,
   "id": "37e38697-ad55-452a-a011-79def7b4b301",
   "metadata": {},
   "outputs": [],
   "source": [
    "pos_og = vcf_og['variants/POS']"
   ]
  },
  {
   "cell_type": "code",
   "execution_count": 99,
   "id": "bafc2ded-b830-44c6-84ca-bc61b34847db",
   "metadata": {},
   "outputs": [],
   "source": [
    "fulldfog = pd.DataFrame(data = {'pos_test': pos_og, 'chr': vcf_og['variants/CHROM']})"
   ]
  },
  {
   "cell_type": "code",
   "execution_count": 113,
   "id": "39a71f9b-6ee2-4741-81ae-4be2ac40b1a8",
   "metadata": {},
   "outputs": [
    {
     "data": {
      "text/html": [
       "<div>\n",
       "<style scoped>\n",
       "    .dataframe tbody tr th:only-of-type {\n",
       "        vertical-align: middle;\n",
       "    }\n",
       "\n",
       "    .dataframe tbody tr th {\n",
       "        vertical-align: top;\n",
       "    }\n",
       "\n",
       "    .dataframe thead th {\n",
       "        text-align: right;\n",
       "    }\n",
       "</style>\n",
       "<table border=\"1\" class=\"dataframe\">\n",
       "  <thead>\n",
       "    <tr style=\"text-align: right;\">\n",
       "      <th></th>\n",
       "      <th>pos_test</th>\n",
       "      <th>chr</th>\n",
       "    </tr>\n",
       "  </thead>\n",
       "  <tbody>\n",
       "    <tr>\n",
       "      <th>1128878</th>\n",
       "      <td>42742422</td>\n",
       "      <td>1</td>\n",
       "    </tr>\n",
       "  </tbody>\n",
       "</table>\n",
       "</div>"
      ],
      "text/plain": [
       "         pos_test chr\n",
       "1128878  42742422   1"
      ]
     },
     "execution_count": 113,
     "metadata": {},
     "output_type": "execute_result"
    }
   ],
   "source": [
    "fulldfog[fulldfog['pos_test']==42742422]"
   ]
  },
  {
   "cell_type": "code",
   "execution_count": 75,
   "id": "c48eca67-2bef-45d9-96b1-a4e8d4bccdd6",
   "metadata": {},
   "outputs": [
    {
     "data": {
      "text/plain": [
       "291          1\n",
       "79677648     1\n",
       "79677516     1\n",
       "79677520     1\n",
       "79677542     1\n",
       "            ..\n",
       "38365629     1\n",
       "38365684     1\n",
       "38365692     1\n",
       "38365711     1\n",
       "119146134    1\n",
       "Name: count, Length: 3031595, dtype: int64"
      ]
     },
     "execution_count": 75,
     "metadata": {},
     "output_type": "execute_result"
    }
   ],
   "source": [
    "pd.Series(pos_og).value_counts()"
   ]
  },
  {
   "cell_type": "code",
   "execution_count": 86,
   "id": "6f6ecd42-e109-478b-b5b7-620f4a168cce",
   "metadata": {},
   "outputs": [],
   "source": [
    "vcf_test = allel.read_vcf('test_right_pos.vcf')"
   ]
  },
  {
   "cell_type": "code",
   "execution_count": 92,
   "id": "1334556a-e6d1-48ae-a1d5-c805ee318a5f",
   "metadata": {},
   "outputs": [
    {
     "data": {
      "text/plain": [
       "array(['1', '1', '1', ..., '5', '5', '5'], dtype=object)"
      ]
     },
     "execution_count": 92,
     "metadata": {},
     "output_type": "execute_result"
    }
   ],
   "source": [
    "vcf_test['variants/CHROM']"
   ]
  },
  {
   "cell_type": "code",
   "execution_count": 87,
   "id": "e1f35b0a-afbd-4c09-965c-f26bf28eefac",
   "metadata": {},
   "outputs": [],
   "source": [
    "pos_test = vcf_test['variants/POS']"
   ]
  },
  {
   "cell_type": "code",
   "execution_count": null,
   "id": "66997af2-dee9-4ffe-9a35-1c85d173cfa8",
   "metadata": {},
   "outputs": [],
   "source": []
  },
  {
   "cell_type": "code",
   "execution_count": 109,
   "id": "78903812-2cf7-4633-aed1-ccc4fc0786d9",
   "metadata": {},
   "outputs": [],
   "source": [
    "comparision = pd.DataFrame(data = {'pos_og': pos_og, 'pos_test': pos_test})"
   ]
  },
  {
   "cell_type": "code",
   "execution_count": 139,
   "id": "f07a91bd-971d-498a-aff4-33244e4cef6d",
   "metadata": {},
   "outputs": [
    {
     "data": {
      "text/plain": [
       "array([ 12314751,  42742422,  62440711,  85900541, 104485597], dtype=int32)"
      ]
     },
     "execution_count": 139,
     "metadata": {},
     "output_type": "execute_result"
    }
   ],
   "source": [
    "comparision[comparision['pos_test'] == 12314751]['pos_og'].values"
   ]
  },
  {
   "cell_type": "code",
   "execution_count": 105,
   "id": "e59536bd-97f9-4cca-9274-1aa147f3b384",
   "metadata": {},
   "outputs": [
    {
     "data": {
      "text/plain": [
       "3031595"
      ]
     },
     "execution_count": 105,
     "metadata": {},
     "output_type": "execute_result"
    }
   ],
   "source": [
    "len(pos_og)"
   ]
  },
  {
   "cell_type": "code",
   "execution_count": 107,
   "id": "60cbc95e-3e1a-4e96-92d1-ec82270bbcec",
   "metadata": {},
   "outputs": [
    {
     "data": {
      "text/plain": [
       "3031595"
      ]
     },
     "execution_count": 107,
     "metadata": {},
     "output_type": "execute_result"
    }
   ],
   "source": [
    "len(pos_test)"
   ]
  },
  {
   "cell_type": "code",
   "execution_count": 94,
   "id": "651331c4-ad9e-44af-9100-cd8ba5551026",
   "metadata": {},
   "outputs": [],
   "source": [
    "fulldf = pd.DataFrame(data = {'pos_test': pos_test, 'chr': vcf_test['variants/CHROM']})"
   ]
  },
  {
   "cell_type": "code",
   "execution_count": 96,
   "id": "137c9f5e-936c-4d80-a6e1-b0ee32a4a655",
   "metadata": {},
   "outputs": [
    {
     "data": {
      "text/html": [
       "<div>\n",
       "<style scoped>\n",
       "    .dataframe tbody tr th:only-of-type {\n",
       "        vertical-align: middle;\n",
       "    }\n",
       "\n",
       "    .dataframe tbody tr th {\n",
       "        vertical-align: top;\n",
       "    }\n",
       "\n",
       "    .dataframe thead th {\n",
       "        text-align: right;\n",
       "    }\n",
       "</style>\n",
       "<table border=\"1\" class=\"dataframe\">\n",
       "  <thead>\n",
       "    <tr style=\"text-align: right;\">\n",
       "      <th></th>\n",
       "      <th>pos_test</th>\n",
       "      <th>chr</th>\n",
       "    </tr>\n",
       "  </thead>\n",
       "  <tbody>\n",
       "    <tr>\n",
       "      <th>285164</th>\n",
       "      <td>12314751</td>\n",
       "      <td>1</td>\n",
       "    </tr>\n",
       "    <tr>\n",
       "      <th>1128878</th>\n",
       "      <td>12314751</td>\n",
       "      <td>2</td>\n",
       "    </tr>\n",
       "    <tr>\n",
       "      <th>1585467</th>\n",
       "      <td>12314751</td>\n",
       "      <td>3</td>\n",
       "    </tr>\n",
       "    <tr>\n",
       "      <th>2227515</th>\n",
       "      <td>12314751</td>\n",
       "      <td>4</td>\n",
       "    </tr>\n",
       "    <tr>\n",
       "      <th>2641004</th>\n",
       "      <td>12314751</td>\n",
       "      <td>5</td>\n",
       "    </tr>\n",
       "  </tbody>\n",
       "</table>\n",
       "</div>"
      ],
      "text/plain": [
       "         pos_test chr\n",
       "285164   12314751   1\n",
       "1128878  12314751   2\n",
       "1585467  12314751   3\n",
       "2227515  12314751   4\n",
       "2641004  12314751   5"
      ]
     },
     "execution_count": 96,
     "metadata": {},
     "output_type": "execute_result"
    }
   ],
   "source": [
    "fulldf[fulldf['pos_test']==12314751]"
   ]
  },
  {
   "cell_type": "code",
   "execution_count": 88,
   "id": "0075b01a-12cd-4328-9719-7378b5126907",
   "metadata": {},
   "outputs": [
    {
     "data": {
      "text/plain": [
       "12314751    5\n",
       "8513910     4\n",
       "8373311     4\n",
       "16789958    4\n",
       "10796768    4\n",
       "           ..\n",
       "7771132     1\n",
       "7771156     1\n",
       "7771176     1\n",
       "7771231     1\n",
       "26975288    1\n",
       "Name: count, Length: 2900008, dtype: int64"
      ]
     },
     "execution_count": 88,
     "metadata": {},
     "output_type": "execute_result"
    }
   ],
   "source": [
    "pd.Series(pos_test).value_counts()"
   ]
  },
  {
   "cell_type": "code",
   "execution_count": 84,
   "id": "39c0f807-cde1-402e-828a-8d84751776ac",
   "metadata": {},
   "outputs": [
    {
     "data": {
      "text/plain": [
       "260062"
      ]
     },
     "execution_count": 84,
     "metadata": {},
     "output_type": "execute_result"
    }
   ],
   "source": [
    "pd.Series(pos_test).value_counts()[pd.Series(pos_test).value_counts() != 1].sum()"
   ]
  },
  {
   "cell_type": "code",
   "execution_count": 85,
   "id": "e14de675-3e4e-41b2-a6dc-954b241f1127",
   "metadata": {},
   "outputs": [
    {
     "data": {
      "text/plain": [
       "131587"
      ]
     },
     "execution_count": 85,
     "metadata": {},
     "output_type": "execute_result"
    }
   ],
   "source": [
    "260062 - 128475"
   ]
  },
  {
   "cell_type": "code",
   "execution_count": null,
   "id": "2c958128-d16e-45e6-b4fa-4691678673e3",
   "metadata": {},
   "outputs": [],
   "source": []
  },
  {
   "cell_type": "code",
   "execution_count": 80,
   "id": "be33c904-42ec-475a-ac7c-fe0f924744ee",
   "metadata": {},
   "outputs": [
    {
     "data": {
      "text/plain": [
       "131587"
      ]
     },
     "execution_count": 80,
     "metadata": {},
     "output_type": "execute_result"
    }
   ],
   "source": [
    "3031595 - 2900008"
   ]
  },
  {
   "cell_type": "code",
   "execution_count": 72,
   "id": "9246ddc6-a717-46e5-99c5-1ae0bad5b4f9",
   "metadata": {},
   "outputs": [
    {
     "data": {
      "text/plain": [
       "12314751    5\n",
       "8513910     4\n",
       "8373311     4\n",
       "16789958    4\n",
       "10796768    4\n",
       "           ..\n",
       "7771132     1\n",
       "7771156     1\n",
       "7771176     1\n",
       "7771231     1\n",
       "26975288    1\n",
       "Name: count, Length: 2900008, dtype: int64"
      ]
     },
     "execution_count": 72,
     "metadata": {},
     "output_type": "execute_result"
    }
   ],
   "source": [
    "pd.Series(pos).value_counts()"
   ]
  },
  {
   "cell_type": "code",
   "execution_count": null,
   "id": "70843119-94b1-4e7b-8b29-fc149332e9ca",
   "metadata": {},
   "outputs": [],
   "source": []
  },
  {
   "cell_type": "code",
   "execution_count": null,
   "id": "60292b62-2119-4705-9ad0-4292a95c59b2",
   "metadata": {},
   "outputs": [],
   "source": [
    "/home/tbellagio/scratch/slim_grenenet/results/arq_mediumfreq_fivepoly_highbeta/moderatesel/optima3/subp4_vcf_output.vcf > test_right_pos.vcf"
   ]
  },
  {
   "cell_type": "code",
   "execution_count": null,
   "id": "cc368f78-8005-45f7-935c-90777b98ab46",
   "metadata": {},
   "outputs": [],
   "source": [
    "awk -F'\\t' 'BEGIN{OFS=\"\\t\"} $1 ~ /^#/ {print} $1 !~ /^#/ {pos=$2; if (pos > 30427671 && pos <= 50125959) {pos -= 30427671; $1=\"2\"} else if (pos > 50125959 && pos <= 73585789) {pos -= 50125960; $1=\"3\"} else if (pos > 73585789 && pos <= 92170845) {pos -= 73585790; $1=\"4\"} else if (pos > 92170845 && pos <= 119146348) {pos -= 92170846; $1=\"5\"} $2=pos; print}' "
   ]
  },
  {
   "cell_type": "code",
   "execution_count": null,
   "id": "02f5d518-890c-4488-8128-bc84b7fef95d",
   "metadata": {},
   "outputs": [],
   "source": [
    "12314751"
   ]
  },
  {
   "cell_type": "code",
   "execution_count": null,
   "id": "2749ac58-de66-47f4-b621-69edfd8de833",
   "metadata": {},
   "outputs": [],
   "source": [
    "awk 'BEGIN {OFS=\"\\t\"} /^#/ {print} !/^#/   \n",
    "                {if ($2 > 30427671 && $2 <= 50125959) {$2 = $2 - 30427671; $1=\"2\"}; \n",
    "                else if($2 > 50125959 && $2 <= 73585789) {$2 = $2 - 50125960; $1=\"3\"};    \n",
    "                else if($2 > 73585789 && $2 <= 92170845) {$2 = $2 - 73585790; $1=\"4\"}; \n",
    "                else if($2 > 92170845 && $2 <= 119146348) {$2 = $2 - 92170846; $1=\"5\"};        \n",
    "                print}' /home/tbellagio/scratch/slim_grenenet/results/arq_mediumfreq_fivepoly_highbeta/moderatesel/optima3/subp4_vcf_output.vcf > test_right_pos.vcf"
   ]
  },
  {
   "cell_type": "code",
   "execution_count": null,
   "id": "ff8fae03-983a-4cf5-bbd7-7481debc38e4",
   "metadata": {},
   "outputs": [],
   "source": [
    "awk 'BEGIN {OFS=\"\\t\"} /^#/ {print} !/^#/ {if ($2 > 30427671 && $2 <= 50125959) {$2 = $2 - 30427671; $1=\"2\"}; else if($2 > 50125959 && $2 <= 73585789) {$2 = $2 - 50125960; $1=\"3\"}; else if($2 > 73585789 && $2 <= 92170845) {$2 = $2 - 73585790; $1=\"4\"}; else if($2 > 92170845 && $2 <= 119146348) {$2 = $2 - 92170846; $1=\"5\"}; print}' /home/tbellagio/scratch/slim_grenenet/results/arq_mediumfreq_fivepoly_highbeta/moderatesel/optima3/subp4_vcf_output.vcf > test_right_pos.vcf"
   ]
  },
  {
   "cell_type": "code",
   "execution_count": null,
   "id": "8344f35a-ad63-4865-8a34-d4edb774f552",
   "metadata": {},
   "outputs": [],
   "source": []
  },
  {
   "cell_type": "code",
   "execution_count": null,
   "id": "a2a409a3-20be-4705-abbb-e07a60423337",
   "metadata": {},
   "outputs": [],
   "source": [
    "awk 'BEGIN {OFS=\"\\t\"} /^#/ {print} !/^#/   \n",
    "                {if ($1 == \"2\") $2 = $2 + 30427671; \n",
    "                else if ($1 == \"3\") $2 = $2 + 50125960;    \n",
    "                else if ($1 == \"4\") $2 = $2 + 73585790; \n",
    "                else if ($1 == \"5\") $2 = $2 + 92170846;        \n",
    "                print}' greneNet_final_v1.1_nohet.recode.vcf > wholegenome_offset_nohet.vcf"
   ]
  },
  {
   "cell_type": "code",
   "execution_count": null,
   "id": "8e140b60-4d7e-404c-82dd-50d11b36a185",
   "metadata": {},
   "outputs": [],
   "source": [
    "##contig=<ID=Chr1,length=30427671>\n",
    "##contig=<ID=Chr2,length=19698289>\n",
    "##contig=<ID=Chr3,length=23459830>\n",
    "##contig=<ID=Chr4,length=18585056>\n",
    "##contig=<ID=Chr5,length=26975502>"
   ]
  },
  {
   "cell_type": "code",
   "execution_count": 90,
   "id": "641c644e-fb97-42e9-81c2-e78c9fe8bf9d",
   "metadata": {},
   "outputs": [
    {
     "data": {
      "text/plain": [
       "12314751"
      ]
     },
     "execution_count": 90,
     "metadata": {},
     "output_type": "execute_result"
    }
   ],
   "source": [
    "12314751"
   ]
  },
  {
   "cell_type": "code",
   "execution_count": null,
   "id": "8bac52e6-598b-4bce-bd53-abea112c4e6c",
   "metadata": {},
   "outputs": [],
   "source": []
  },
  {
   "cell_type": "code",
   "execution_count": 89,
   "id": "899ffef0-4193-4cf1-b109-e432c715536f",
   "metadata": {},
   "outputs": [
    {
     "data": {
      "text/plain": [
       "50125960"
      ]
     },
     "execution_count": 89,
     "metadata": {},
     "output_type": "execute_result"
    }
   ],
   "source": [
    "30427671 + 19698289"
   ]
  },
  {
   "cell_type": "code",
   "execution_count": null,
   "id": "e1698399-4781-47bb-a025-0556e6439957",
   "metadata": {},
   "outputs": [],
   "source": []
  },
  {
   "cell_type": "code",
   "execution_count": null,
   "id": "17038fb0-69d4-47c9-abb3-815429dc454a",
   "metadata": {},
   "outputs": [],
   "source": [
    "greneNet_final_v1.1.recode.vcf: og vcf file\n",
    "\n",
    "wholegenome_offset.vcf : same vcf file but with the positions values changed with the awk command"
   ]
  },
  {
   "cell_type": "code",
   "execution_count": null,
   "id": "69edb884-30a5-4d9e-b349-20877a22558a",
   "metadata": {},
   "outputs": [],
   "source": []
  },
  {
   "cell_type": "code",
   "execution_count": null,
   "id": "ce0aba98-ffa7-4bdf-93fa-b3aa28d23337",
   "metadata": {},
   "outputs": [],
   "source": [
    "wholegenome_offset.vcf"
   ]
  },
  {
   "cell_type": "code",
   "execution_count": null,
   "id": "43240447-3794-4eb7-bd69-7642f6c601bf",
   "metadata": {},
   "outputs": [],
   "source": []
  },
  {
   "cell_type": "code",
   "execution_count": null,
   "id": "f1f30e37-48d7-4d32-9c9c-62a2d934038d",
   "metadata": {},
   "outputs": [],
   "source": []
  },
  {
   "cell_type": "code",
   "execution_count": null,
   "id": "96c2f17a-255d-42c4-a9f2-69bd9aa491e6",
   "metadata": {},
   "outputs": [],
   "source": []
  },
  {
   "cell_type": "code",
   "execution_count": 141,
   "id": "8d3787dd-839f-4f7e-b2eb-9e2885033664",
   "metadata": {},
   "outputs": [],
   "source": [
    "vcf_og_offset = allel.read_vcf(path + 'data/wholegenome_offset.vcf',fields=['variants/POS', 'variants/CHROM'])"
   ]
  },
  {
   "cell_type": "code",
   "execution_count": 142,
   "id": "cdaa3de2-c674-4fd5-9c1a-845f61be1c62",
   "metadata": {},
   "outputs": [],
   "source": [
    "pos_og_offset = vcf_og_nooffset['variants/POS']"
   ]
  },
  {
   "cell_type": "code",
   "execution_count": 143,
   "id": "e5111963-91fc-4a12-a0ba-dde6145c73d3",
   "metadata": {},
   "outputs": [
    {
     "data": {
      "text/plain": [
       "3235480"
      ]
     },
     "execution_count": 143,
     "metadata": {},
     "output_type": "execute_result"
    }
   ],
   "source": [
    "len(pos_og_offset)"
   ]
  },
  {
   "cell_type": "code",
   "execution_count": 144,
   "id": "3baea173-e423-47d8-9ffb-3b21857360a4",
   "metadata": {},
   "outputs": [],
   "source": [
    "offset_trans = pd.DataFrame({'offset': pos_og_offset, 'nooffset':pos_og_og })"
   ]
  },
  {
   "cell_type": "code",
   "execution_count": 187,
   "id": "3049ebb8-96b2-4de9-b22b-2fe657dc7d50",
   "metadata": {},
   "outputs": [
    {
     "data": {
      "text/html": [
       "<div>\n",
       "<style scoped>\n",
       "    .dataframe tbody tr th:only-of-type {\n",
       "        vertical-align: middle;\n",
       "    }\n",
       "\n",
       "    .dataframe tbody tr th {\n",
       "        vertical-align: top;\n",
       "    }\n",
       "\n",
       "    .dataframe thead th {\n",
       "        text-align: right;\n",
       "    }\n",
       "</style>\n",
       "<table border=\"1\" class=\"dataframe\">\n",
       "  <thead>\n",
       "    <tr style=\"text-align: right;\">\n",
       "      <th></th>\n",
       "      <th>offset</th>\n",
       "      <th>nooffset</th>\n",
       "    </tr>\n",
       "  </thead>\n",
       "  <tbody>\n",
       "    <tr>\n",
       "      <th>827765</th>\n",
       "      <td>30484595</td>\n",
       "      <td>56924</td>\n",
       "    </tr>\n",
       "  </tbody>\n",
       "</table>\n",
       "</div>"
      ],
      "text/plain": [
       "          offset  nooffset\n",
       "827765  30484595     56924"
      ]
     },
     "execution_count": 187,
     "metadata": {},
     "output_type": "execute_result"
    }
   ],
   "source": [
    "offset_trans[offset_trans['offset'].isin([30484595])]"
   ]
  },
  {
   "cell_type": "code",
   "execution_count": 119,
   "id": "1885199f-df94-49d3-87fc-183557df105f",
   "metadata": {},
   "outputs": [],
   "source": [
    "vcf_og_og = allel.read_vcf('../treeseq/greneNet_final_v1.1.recode.vcf.gz',fields=['variants/POS', 'variants/CHROM'])"
   ]
  },
  {
   "cell_type": "code",
   "execution_count": 121,
   "id": "fe7ca383-72a9-41bd-b83e-7b9cd279e972",
   "metadata": {},
   "outputs": [],
   "source": [
    "pos_og_og = vcf_og_og['variants/POS']"
   ]
  },
  {
   "cell_type": "code",
   "execution_count": 188,
   "id": "2b7b49ff-e75c-4098-a589-1ddff0f51360",
   "metadata": {},
   "outputs": [],
   "source": [
    "pos_og_chr = vcf_og_og['variants/CHROM']"
   ]
  },
  {
   "cell_type": "code",
   "execution_count": 189,
   "id": "f4a8611e-b795-4da7-af4b-48d9b44bc062",
   "metadata": {},
   "outputs": [
    {
     "data": {
      "text/plain": [
       "array(['1', '1', '1', ..., '5', '5', '5'], dtype=object)"
      ]
     },
     "execution_count": 189,
     "metadata": {},
     "output_type": "execute_result"
    }
   ],
   "source": [
    "pos_og_chr"
   ]
  },
  {
   "cell_type": "code",
   "execution_count": 190,
   "id": "ecc09d5a-296c-453f-ae5a-f024460b6e3f",
   "metadata": {},
   "outputs": [],
   "source": [
    "pos_og_full = pd.DataFrame({'pos': pos_og_og, 'chr':pos_og_chr })"
   ]
  },
  {
   "cell_type": "code",
   "execution_count": 193,
   "id": "a440fba2-e066-4564-8ae4-28d01cbbecc3",
   "metadata": {},
   "outputs": [
    {
     "data": {
      "text/html": [
       "<div>\n",
       "<style scoped>\n",
       "    .dataframe tbody tr th:only-of-type {\n",
       "        vertical-align: middle;\n",
       "    }\n",
       "\n",
       "    .dataframe tbody tr th {\n",
       "        vertical-align: top;\n",
       "    }\n",
       "\n",
       "    .dataframe thead th {\n",
       "        text-align: right;\n",
       "    }\n",
       "</style>\n",
       "<table border=\"1\" class=\"dataframe\">\n",
       "  <thead>\n",
       "    <tr style=\"text-align: right;\">\n",
       "      <th></th>\n",
       "      <th>pos</th>\n",
       "      <th>chr</th>\n",
       "    </tr>\n",
       "  </thead>\n",
       "  <tbody>\n",
       "    <tr>\n",
       "      <th>827765</th>\n",
       "      <td>56924</td>\n",
       "      <td>2</td>\n",
       "    </tr>\n",
       "  </tbody>\n",
       "</table>\n",
       "</div>"
      ],
      "text/plain": [
       "          pos chr\n",
       "827765  56924   2"
      ]
     },
     "execution_count": 193,
     "metadata": {},
     "output_type": "execute_result"
    }
   ],
   "source": [
    "pos_og_full[pos_og_full['pos'] == 56924]"
   ]
  },
  {
   "cell_type": "code",
   "execution_count": 78,
   "id": "2abf0a1f-ec72-43f5-9810-795d8ebcd94b",
   "metadata": {},
   "outputs": [
    {
     "data": {
      "text/plain": [
       "12314751    5\n",
       "8513910     4\n",
       "8373311     4\n",
       "16789958    4\n",
       "10796768    4\n",
       "           ..\n",
       "7771132     1\n",
       "7771156     1\n",
       "7771176     1\n",
       "7771231     1\n",
       "26975288    1\n",
       "Name: count, Length: 2900008, dtype: int64"
      ]
     },
     "execution_count": 78,
     "metadata": {},
     "output_type": "execute_result"
    }
   ],
   "source": [
    "pd.Series(pos_test).value_counts()"
   ]
  },
  {
   "cell_type": "code",
   "execution_count": 122,
   "id": "606f5030-0eec-4355-8079-490519367e5c",
   "metadata": {},
   "outputs": [
    {
     "data": {
      "text/plain": [
       "3235480"
      ]
     },
     "execution_count": 122,
     "metadata": {},
     "output_type": "execute_result"
    }
   ],
   "source": [
    "len(pos_og_og)"
   ]
  },
  {
   "cell_type": "code",
   "execution_count": 123,
   "id": "2bf6fd33-0201-4d35-b4b3-17e316b20806",
   "metadata": {},
   "outputs": [
    {
     "data": {
      "text/plain": [
       "3031595"
      ]
     },
     "execution_count": 123,
     "metadata": {},
     "output_type": "execute_result"
    }
   ],
   "source": [
    "len(pos_og)"
   ]
  },
  {
   "cell_type": "code",
   "execution_count": 114,
   "id": "adc1ea2a-4f65-4990-828d-8c124b379467",
   "metadata": {},
   "outputs": [
    {
     "data": {
      "text/html": [
       "<div>\n",
       "<style scoped>\n",
       "    .dataframe tbody tr th:only-of-type {\n",
       "        vertical-align: middle;\n",
       "    }\n",
       "\n",
       "    .dataframe tbody tr th {\n",
       "        vertical-align: top;\n",
       "    }\n",
       "\n",
       "    .dataframe thead th {\n",
       "        text-align: right;\n",
       "    }\n",
       "</style>\n",
       "<table border=\"1\" class=\"dataframe\">\n",
       "  <thead>\n",
       "    <tr style=\"text-align: right;\">\n",
       "      <th></th>\n",
       "      <th>pos_og</th>\n",
       "      <th>pos_test</th>\n",
       "    </tr>\n",
       "  </thead>\n",
       "  <tbody>\n",
       "    <tr>\n",
       "      <th>285164</th>\n",
       "      <td>12314751</td>\n",
       "      <td>12314751</td>\n",
       "    </tr>\n",
       "    <tr>\n",
       "      <th>1128878</th>\n",
       "      <td>42742422</td>\n",
       "      <td>12314751</td>\n",
       "    </tr>\n",
       "    <tr>\n",
       "      <th>1585467</th>\n",
       "      <td>62440711</td>\n",
       "      <td>12314751</td>\n",
       "    </tr>\n",
       "    <tr>\n",
       "      <th>2227515</th>\n",
       "      <td>85900541</td>\n",
       "      <td>12314751</td>\n",
       "    </tr>\n",
       "    <tr>\n",
       "      <th>2641004</th>\n",
       "      <td>104485597</td>\n",
       "      <td>12314751</td>\n",
       "    </tr>\n",
       "  </tbody>\n",
       "</table>\n",
       "</div>"
      ],
      "text/plain": [
       "            pos_og  pos_test\n",
       "285164    12314751  12314751\n",
       "1128878   42742422  12314751\n",
       "1585467   62440711  12314751\n",
       "2227515   85900541  12314751\n",
       "2641004  104485597  12314751"
      ]
     },
     "execution_count": 114,
     "metadata": {},
     "output_type": "execute_result"
    }
   ],
   "source": [
    "comparision[comparision['pos_test'] == 12314751]"
   ]
  },
  {
   "cell_type": "code",
   "execution_count": 115,
   "id": "cadad120-8c0f-43a2-a96b-aec64b14ee84",
   "metadata": {},
   "outputs": [
    {
     "data": {
      "text/plain": [
       "True"
      ]
     },
     "execution_count": 115,
     "metadata": {},
     "output_type": "execute_result"
    }
   ],
   "source": [
    "42742422 > 30427671"
   ]
  },
  {
   "cell_type": "code",
   "execution_count": 186,
   "id": "acc035ea-a2a7-4757-b62b-3c6a27907b98",
   "metadata": {},
   "outputs": [
    {
     "data": {
      "text/plain": [
       "30484595"
      ]
     },
     "execution_count": 186,
     "metadata": {},
     "output_type": "execute_result"
    }
   ],
   "source": [
    "56924 + 30427671"
   ]
  },
  {
   "cell_type": "code",
   "execution_count": 69,
   "id": "cdee8e2b-4d5a-4c0c-824d-3276e45fdb52",
   "metadata": {},
   "outputs": [
    {
     "data": {
      "text/html": [
       "<div>\n",
       "<style scoped>\n",
       "    .dataframe tbody tr th:only-of-type {\n",
       "        vertical-align: middle;\n",
       "    }\n",
       "\n",
       "    .dataframe tbody tr th {\n",
       "        vertical-align: top;\n",
       "    }\n",
       "\n",
       "    .dataframe thead th {\n",
       "        text-align: right;\n",
       "    }\n",
       "</style>\n",
       "<table border=\"1\" class=\"dataframe\">\n",
       "  <thead>\n",
       "    <tr style=\"text-align: right;\">\n",
       "      <th></th>\n",
       "      <th>pos</th>\n",
       "      <th>optima3_subp4</th>\n",
       "    </tr>\n",
       "  </thead>\n",
       "  <tbody>\n",
       "    <tr>\n",
       "      <th>0</th>\n",
       "      <td>291</td>\n",
       "      <td>0.052778</td>\n",
       "    </tr>\n",
       "    <tr>\n",
       "      <th>1</th>\n",
       "      <td>346</td>\n",
       "      <td>0.246111</td>\n",
       "    </tr>\n",
       "    <tr>\n",
       "      <th>2</th>\n",
       "      <td>352</td>\n",
       "      <td>0.036111</td>\n",
       "    </tr>\n",
       "    <tr>\n",
       "      <th>3</th>\n",
       "      <td>353</td>\n",
       "      <td>0.080556</td>\n",
       "    </tr>\n",
       "    <tr>\n",
       "      <th>4</th>\n",
       "      <td>363</td>\n",
       "      <td>0.061111</td>\n",
       "    </tr>\n",
       "    <tr>\n",
       "      <th>...</th>\n",
       "      <td>...</td>\n",
       "      <td>...</td>\n",
       "    </tr>\n",
       "    <tr>\n",
       "      <th>3031590</th>\n",
       "      <td>26975206</td>\n",
       "      <td>0.016667</td>\n",
       "    </tr>\n",
       "    <tr>\n",
       "      <th>3031591</th>\n",
       "      <td>26975208</td>\n",
       "      <td>0.025556</td>\n",
       "    </tr>\n",
       "    <tr>\n",
       "      <th>3031592</th>\n",
       "      <td>26975267</td>\n",
       "      <td>0.005556</td>\n",
       "    </tr>\n",
       "    <tr>\n",
       "      <th>3031593</th>\n",
       "      <td>26975272</td>\n",
       "      <td>0.459444</td>\n",
       "    </tr>\n",
       "    <tr>\n",
       "      <th>3031594</th>\n",
       "      <td>26975288</td>\n",
       "      <td>0.270556</td>\n",
       "    </tr>\n",
       "  </tbody>\n",
       "</table>\n",
       "<p>3031595 rows × 2 columns</p>\n",
       "</div>"
      ],
      "text/plain": [
       "              pos  optima3_subp4\n",
       "0             291       0.052778\n",
       "1             346       0.246111\n",
       "2             352       0.036111\n",
       "3             353       0.080556\n",
       "4             363       0.061111\n",
       "...           ...            ...\n",
       "3031590  26975206       0.016667\n",
       "3031591  26975208       0.025556\n",
       "3031592  26975267       0.005556\n",
       "3031593  26975272       0.459444\n",
       "3031594  26975288       0.270556\n",
       "\n",
       "[3031595 rows x 2 columns]"
      ]
     },
     "execution_count": 69,
     "metadata": {},
     "output_type": "execute_result"
    }
   ],
   "source": [
    "awk 'BEGIN {\n",
    "    OFS=\"\\t\"\n",
    "}\n",
    "\n",
    "/^#/ {\n",
    "    print\n",
    "}\n",
    "\n",
    "!/^#/ {\n",
    "    if ($2 > 30427671 && $2 <= 50125959) {\n",
    "        $2 = $2 - 30427671\n",
    "        $1 = \"2\"\n",
    "    } else if ($2 > 50125959 && $2 <= 73585789) {\n",
    "        $2 = $2 - 50125960\n",
    "        $1 = \"3\"\n",
    "    } else if ($2 > 73585789 && $2 <= 92170845) {\n",
    "        $2 = $2 - 73585790\n",
    "        $1 = \"4\"\n",
    "    } else if ($2 > 92170845 && $2 <= 119146348) {\n",
    "        $2 = $2 - 92170846\n",
    "        $1 = \"5\"\n",
    "    }\n",
    "    print\n",
    "}' /home/tbellagio/scratch/slim_grenenet/results/arq_mediumfreq_fivepoly_highbeta/moderatesel/optima3/subp4_vcf_output.vcf > test_right_pos.vcf"
   ]
  },
  {
   "cell_type": "code",
   "execution_count": 68,
   "id": "b907e184-0c20-4db6-81c1-93a4c29f9fa2",
   "metadata": {},
   "outputs": [
    {
     "data": {
      "text/plain": [
       "pos\n",
       "12314751    5\n",
       "8513910     4\n",
       "8373311     4\n",
       "16789958    4\n",
       "10796768    4\n",
       "           ..\n",
       "7771132     1\n",
       "7771156     1\n",
       "7771176     1\n",
       "7771231     1\n",
       "26975288    1\n",
       "Name: count, Length: 2900008, dtype: int64"
      ]
     },
     "execution_count": 68,
     "metadata": {},
     "output_type": "execute_result"
    }
   ],
   "source": [
    "alt_allele_freq['pos'].value_counts()"
   ]
  },
  {
   "cell_type": "code",
   "execution_count": 65,
   "id": "88eb05d7-63ec-4c6e-acf3-4e5753d127d4",
   "metadata": {},
   "outputs": [],
   "source": [
    "merge = pos_vcf_og_og.merge(alt_allele_freq, on ='pos',how='outer')"
   ]
  },
  {
   "cell_type": "code",
   "execution_count": 67,
   "id": "8f6b367a-2542-4479-8930-bb94bfc0d16d",
   "metadata": {},
   "outputs": [
    {
     "data": {
      "text/plain": [
       "pos\n",
       "12314751    25\n",
       "8373311     20\n",
       "8383382     16\n",
       "19404955    16\n",
       "16134796    16\n",
       "            ..\n",
       "7811645      1\n",
       "7811657      1\n",
       "7811662      1\n",
       "7811718      1\n",
       "26975288     1\n",
       "Name: count, Length: 3085684, dtype: int64"
      ]
     },
     "execution_count": 67,
     "metadata": {},
     "output_type": "execute_result"
    }
   ],
   "source": [
    "merge['pos'].value_counts()"
   ]
  },
  {
   "cell_type": "code",
   "execution_count": null,
   "id": "0ba3a253-f25d-4058-9ebf-a6a804c00ac6",
   "metadata": {},
   "outputs": [],
   "source": []
  },
  {
   "cell_type": "code",
   "execution_count": 59,
   "id": "791cd613-00e5-4224-b42b-5f114da5dc9d",
   "metadata": {},
   "outputs": [
    {
     "name": "stdout",
     "output_type": "stream",
     "text": [
      "<class 'pandas.core.frame.DataFrame'>\n",
      "RangeIndex: 4049246 entries, 0 to 4049245\n",
      "Data columns (total 26 columns):\n",
      " #   Column         Dtype  \n",
      "---  ------         -----  \n",
      " 0   pos            int64  \n",
      " 1   optima4_subp4  float64\n",
      " 2   optima4_subp2  float64\n",
      " 3   optima4_subp3  float64\n",
      " 4   optima4_subp0  float64\n",
      " 5   optima4_subp1  float64\n",
      " 6   optima3_subp1  float64\n",
      " 7   optima3_subp0  float64\n",
      " 8   optima3_subp3  float64\n",
      " 9   optima3_subp4  float64\n",
      " 10  optima3_subp2  float64\n",
      " 11  optima0_subp0  float64\n",
      " 12  optima0_subp1  float64\n",
      " 13  optima0_subp4  float64\n",
      " 14  optima0_subp2  float64\n",
      " 15  optima0_subp3  float64\n",
      " 16  optima2_subp3  float64\n",
      " 17  optima2_subp2  float64\n",
      " 18  optima2_subp4  float64\n",
      " 19  optima2_subp1  float64\n",
      " 20  optima2_subp0  float64\n",
      " 21  optima1_subp3  float64\n",
      " 22  optima1_subp2  float64\n",
      " 23  optima1_subp4  float64\n",
      " 24  optima1_subp1  float64\n",
      " 25  optima1_subp0  float64\n",
      "dtypes: float64(25), int64(1)\n",
      "memory usage: 803.2 MB\n"
     ]
    }
   ],
   "source": [
    "pos_vcf_og.info()"
   ]
  },
  {
   "cell_type": "code",
   "execution_count": null,
   "id": "4b24970a-8a71-446c-9252-f6ffbffb11a0",
   "metadata": {},
   "outputs": [],
   "source": []
  }
 ],
 "metadata": {
  "kernelspec": {
   "display_name": "Python (snakemake_pipeline)",
   "language": "python",
   "name": "pipeline_snakemake"
  },
  "language_info": {
   "codemirror_mode": {
    "name": "ipython",
    "version": 3
   },
   "file_extension": ".py",
   "mimetype": "text/x-python",
   "name": "python",
   "nbconvert_exporter": "python",
   "pygments_lexer": "ipython3",
   "version": "3.9.16"
  }
 },
 "nbformat": 4,
 "nbformat_minor": 5
}
