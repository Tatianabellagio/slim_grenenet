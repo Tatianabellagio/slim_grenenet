{
 "cells": [
  {
   "cell_type": "code",
   "execution_count": 2,
   "id": "27b9f9c2-1b6a-4a78-baf5-2a728f633d20",
   "metadata": {},
   "outputs": [],
   "source": [
    "# once i have wholegenome_offset.trees\n",
    "import pandas as pd\n",
    "import tskit\n",
    "import allel\n",
    "import random\n",
    "import numpy as np\n",
    "import seaborn as sns\n",
    "import matplotlib.pyplot as plt\n",
    "import tsinfer\n",
    "import pyslim\n",
    "import json\n",
    "import os\n",
    "from collections import defaultdict"
   ]
  },
  {
   "cell_type": "code",
   "execution_count": null,
   "id": "8e98412d-752b-4bda-8963-7260bbb96779",
   "metadata": {},
   "outputs": [],
   "source": [
    "## create th einitital python file before the simulations, to set up the architectures, create variances, and optimas "
   ]
  },
  {
   "cell_type": "code",
   "execution_count": null,
   "id": "cd51083f-f215-4369-b9f3-20e45803d8d5",
   "metadata": {},
   "outputs": [],
   "source": [
    "#### params"
   ]
  },
  {
   "cell_type": "code",
   "execution_count": null,
   "id": "7c61571b-ae54-4c6e-9962-6de3a49f2683",
   "metadata": {},
   "outputs": [],
   "source": [
    "og_vcf_offset = snakemake.params['og_vcf_offset'] \n",
    "og_tree_offset = snakemake.input['og_tree_offset'] \n",
    "\n",
    "pi_option =  snakemake.params['pi']\n",
    "pi = float(snakemake.params[pi_option])\n",
    "\n",
    "beta_option = snakemake.params['beta']\n",
    "beta = float(snakemake.params[pi_option])\n",
    "\n",
    "alelle_freq_option = snakemake.params['allele_freq']\n",
    "allele_freq = snakemake.params[alelle_freq_option]\n",
    "lower_bound = float(allele_freq[0])\n",
    "upper_bound = float(allele_freq[1])\n",
    "\n",
    "\n",
    "#get the actual values\n",
    "n_optima = str(snakemake.params['n_optima']) \n",
    "\n",
    "output_tree_seq_causalloci = snakemake.output[\"tree_seq_causalloci\"]\n",
    "output_loci_effectsize = snakemake.output[\"loci_effectsize\"]\n",
    "output_phenotypes = snakemake.output[\"phenotypes\"]\n",
    "output_optima_values = snakemake.output[\"optima_values\"]\n",
    "output_variance_values = snakemake.output[\"variance_values\"]"
   ]
  },
  {
   "cell_type": "code",
   "execution_count": 66,
   "id": "e72137aa-16c8-4133-85eb-5e8250faa154",
   "metadata": {},
   "outputs": [],
   "source": [
    "## params hardcoded:\n",
    "og_vcf_offset = '../treeseq/wholegenome_offset.vcf'\n",
    "og_tree_offset = '../treeseq/wholegenome_offset_baselinetree.trees'\n",
    "\n",
    "pi = 20\n",
    "beta = 1\n",
    "\n",
    "allele_freq = [0.2, 0.3]\n",
    "lower_bound = float(allele_freq[0])\n",
    "upper_bound = float(allele_freq[1])\n",
    "\n",
    "\n",
    "#get the actual values\n",
    "n_optima = 5\n"
   ]
  },
  {
   "cell_type": "code",
   "execution_count": null,
   "id": "1dc7d331-23db-412e-800d-46718b60fb72",
   "metadata": {
    "tags": []
   },
   "outputs": [],
   "source": [
    "## functions "
   ]
  },
  {
   "cell_type": "code",
   "execution_count": 6,
   "id": "f5be3ff2-8fed-41f2-b5ce-9a464d0c4df1",
   "metadata": {},
   "outputs": [],
   "source": [
    "def calc_pos_sc(alt_al_per_pos, pos, n_ecotypes, allele_freq, pi, beta):\n",
    "    alt_al_count = alt_al_per_pos.sum(axis=1)\n",
    "    alelle_dist = pd.DataFrame({'alt_al_count':alt_al_count, 'pos':pos})\n",
    "    alelle_dist['alt_al_freq'] = alelle_dist['alt_al_count'] / (n_ecotypes*2)\n",
    "    sim_freq_pos = alelle_dist[(alelle_dist['alt_al_freq'] < upper_bound) & (alelle_dist['alt_al_freq'] >= lower_bound)]['pos']\n",
    "    selected_sites = sim_freq_pos.sample(pi).values\n",
    "    sc = np.random.normal(0, beta, pi)\n",
    "    pos_sc = pd.DataFrame({'pos': selected_sites, 'sc': sc})\n",
    "    return pos_sc"
   ]
  },
  {
   "cell_type": "code",
   "execution_count": 11,
   "id": "41e3f528-f5c9-49f6-82b1-00dac5187fab",
   "metadata": {},
   "outputs": [],
   "source": [
    "def calc_phenotypes(pos,pos_sc, alt_al_per_pos):\n",
    "    mask_positions = pd.Series(pos).isin(pos_sc['pos'])\n",
    "    alt_al_per_pos_selected_sites = alt_al_per_pos[mask_positions]\n",
    "    phenotypes = []\n",
    "    for i in range(alt_al_per_pos_selected_sites.shape[1]):\n",
    "        gen_effectsize = np.multiply(alt_al_per_pos_selected_sites[:, i] , pos_sc['sc'])\n",
    "        phenotypes.append(gen_effectsize.sum())\n",
    "    return phenotypes"
   ]
  },
  {
   "cell_type": "code",
   "execution_count": 13,
   "id": "27ff97bf-802c-4b82-86a4-21e4df987407",
   "metadata": {},
   "outputs": [],
   "source": [
    "def calc_optima(phenotypes):\n",
    "    max_pheno = max(phenotypes)\n",
    "    min_pheno = min(phenotypes)\n",
    "\n",
    "    length = max_pheno - min_pheno\n",
    "    step = length/(int(n_optima) - 1)\n",
    "    optima = [round(min_pheno + i * step, 4) for i in range(0, int(n_optima))]\n",
    "    return optima"
   ]
  },
  {
   "cell_type": "code",
   "execution_count": 17,
   "id": "2a915f1d-d8fe-475c-abaa-2aac7262a2ca",
   "metadata": {},
   "outputs": [],
   "source": [
    "def calc_variances(phenotypes, optima):\n",
    "    range_pheno =  max(phenotypes) - min(phenotypes)\n",
    "    dist_between_env = range_pheno / len(optima)\n",
    "    ## Strong selection, fitness 0 in the adyacent environemnt\n",
    "    sd1 = dist_between_env / 3\n",
    "    variance1 = sd1**2\n",
    "    ## moderate selection, fitness 0 in the other extremee environemnt \n",
    "    sd2 = (dist_between_env * 4) / 3 ## 3 sd will be in between 4  environments \n",
    "    variance2 = sd2**2\n",
    "    ## weak selection, half fitness in the other extreme environment \n",
    "    sd3 = (dist_between_env * 8) / 3\n",
    "    variance3 = sd3**2\n",
    "    variances = [sd1, sd2, sd3]\n",
    "    return variances"
   ]
  },
  {
   "cell_type": "code",
   "execution_count": 67,
   "id": "9f8051b8-edaa-4461-873a-4f256a94119d",
   "metadata": {},
   "outputs": [],
   "source": [
    "def keep_only_causal_sites_and_mutations(og_tree_offset, pos_sc):\n",
    "    ts = tskit.load(og_tree_offset)\n",
    "\n",
    "    # dumpt the tables from the tree\n",
    "    tables = ts.dump_tables()\n",
    "\n",
    "    ## extract all teh sites from the og tree\n",
    "    complete_sites = pd.Series(tables.sites.position)\n",
    "\n",
    "    # create a mask to filter only the ones present in the selected sites (causal loci)\n",
    "    mask_delete_sites = complete_sites.isin(pos_sc['pos'])\n",
    "\n",
    "    ## replace the table only with the causal sites, and same for mutation tables\n",
    "    tables.sites.replace_with(tables.sites[mask_delete_sites])\n",
    "    tables.mutations.replace_with(tables.mutations[mask_delete_sites])\n",
    "    ## extract the new site index\n",
    "    tables.mutations.site = np.array(range(0, len(tables.mutations))).astype('int32')\n",
    "\n",
    "    ## ge tthe positions and sc in teh right order \n",
    "    pos_table = pd.Series(tables.sites.position).reset_index()\n",
    "    right_order_pos = pos_sc.merge(pos_table, left_on='pos',right_on =0).sort_values('index')\n",
    "\n",
    "    ## create the tree to then modify it \n",
    "    new_ts = tables.tree_sequence()\n",
    "    tables = new_ts.dump_tables()\n",
    "\n",
    "    ## chance the ancestral state to empty or slim will complain\n",
    "    tables.sites.clear()\n",
    "    for s in new_ts.sites():\n",
    "        tables.sites.append(s.replace(ancestral_state=\"\"))\n",
    "\n",
    "    ## add the selection coefficient and the rigth emtadata fro slim \n",
    "    tables.mutations.clear()\n",
    "    for k, (m, sc) in enumerate(zip(new_ts.mutations(), right_order_pos['sc'])):\n",
    "        mm = pyslim.default_slim_metadata('mutation_list_entry')\n",
    "        mm['selection_coeff'] = sc\n",
    "        tables.mutations.append(\n",
    "            m.replace(derived_state=str(k), metadata={'mutation_list': [mm]}))\n",
    "        \n",
    "    return tables.tree_sequence()"
   ]
  },
  {
   "cell_type": "code",
   "execution_count": null,
   "id": "1e90d1e9-9733-4119-b48b-1ae17d2e3b6e",
   "metadata": {},
   "outputs": [],
   "source": []
  },
  {
   "cell_type": "code",
   "execution_count": 4,
   "id": "0eeb2213-d333-4165-b3d8-e55f9a866a1f",
   "metadata": {},
   "outputs": [],
   "source": [
    "## for this im gonna use the og vcf file wth the offset to be able to map the positions correctly \n",
    "vcf_og = allel.read_vcf(og_vcf_offset, fields=[\"calldata/GT\", 'variants/POS' , 'samples'])\n",
    "geno_og = vcf_og[\"calldata/GT\"]\n",
    "samples = vcf_og['samples']\n",
    "pos = vcf_og['variants/POS']"
   ]
  },
  {
   "cell_type": "code",
   "execution_count": 5,
   "id": "35528e71-f55b-4947-bc34-58923a2f272f",
   "metadata": {},
   "outputs": [],
   "source": [
    "n_ecotypes = len(vcf_og['samples'])\n",
    "alt_al_per_pos = geno_og.sum(axis=2) "
   ]
  },
  {
   "cell_type": "code",
   "execution_count": 7,
   "id": "01e132a4-d3a4-41b2-bfc7-48344ba572b5",
   "metadata": {},
   "outputs": [],
   "source": [
    "pos_sc = calc_pos_sc(alt_al_per_pos, pos, n_ecotypes, allele_freq, pi, beta)"
   ]
  },
  {
   "cell_type": "code",
   "execution_count": 12,
   "id": "0f5afc02-fc2b-4a42-b417-5cd55cfeb2eb",
   "metadata": {
    "tags": []
   },
   "outputs": [],
   "source": [
    "phenotypes = calc_phenotypes(pos,pos_sc, alt_al_per_pos)"
   ]
  },
  {
   "cell_type": "code",
   "execution_count": 14,
   "id": "97fab941-9460-4082-b499-db1835ed0590",
   "metadata": {},
   "outputs": [],
   "source": [
    "optima = calc_optima(phenotypes)"
   ]
  },
  {
   "cell_type": "code",
   "execution_count": 18,
   "id": "0622f532-7daa-4023-8fab-9a218912c2f4",
   "metadata": {},
   "outputs": [],
   "source": [
    "variances = calc_variances(phenotypes, optima)"
   ]
  },
  {
   "cell_type": "code",
   "execution_count": 19,
   "id": "7225b0f6-63c1-48c7-af51-03560f57ae41",
   "metadata": {},
   "outputs": [],
   "source": [
    "## save "
   ]
  },
  {
   "cell_type": "code",
   "execution_count": null,
   "id": "65b89fda-d307-44c1-b29a-057637b0d895",
   "metadata": {},
   "outputs": [],
   "source": [
    "pd.Series(phenotypes).to_csv(output_phenotypes)\n",
    "pos_sc.to_csv(output_loci_effectsize)\n",
    "\n",
    "with open(output_optima_values, 'w') as file:\n",
    "    for element in optima:\n",
    "        file.write(str(element) + '\\n')  # Write element followed by a newline\n",
    "\n",
    "with open(output_variance_values, 'w') as file:\n",
    "    for element in variances:\n",
    "        file.write(str(round(element,4)) + '\\n')  # Write element followed by a newline"
   ]
  },
  {
   "cell_type": "code",
   "execution_count": null,
   "id": "f8aa32c9-ea14-4c93-b217-5fde97e12d48",
   "metadata": {},
   "outputs": [],
   "source": [
    "### filter tree"
   ]
  },
  {
   "cell_type": "code",
   "execution_count": 68,
   "id": "96eea5eb-af0d-404c-a98d-4768d930bc68",
   "metadata": {},
   "outputs": [],
   "source": [
    "pre_slim_tree = keep_only_causal_sites_and_mutations(og_tree_offset, pos_sc)"
   ]
  },
  {
   "cell_type": "code",
   "execution_count": null,
   "id": "ff6a2d94-ac2a-4c28-aa1d-1573bcab4906",
   "metadata": {},
   "outputs": [],
   "source": [
    "## save tree"
   ]
  },
  {
   "cell_type": "code",
   "execution_count": 133,
   "id": "a740f195-0aee-4c83-b6df-e54b24d92a7e",
   "metadata": {},
   "outputs": [],
   "source": [
    "pre_slim_tree.dump(output_tree_seq_causalloci)"
   ]
  }
 ],
 "metadata": {
  "kernelspec": {
   "display_name": "Python 3 (ipykernel)",
   "language": "python",
   "name": "python3"
  },
  "language_info": {
   "codemirror_mode": {
    "name": "ipython",
    "version": 3
   },
   "file_extension": ".py",
   "mimetype": "text/x-python",
   "name": "python",
   "nbconvert_exporter": "python",
   "pygments_lexer": "ipython3",
   "version": "3.9.13"
  }
 },
 "nbformat": 4,
 "nbformat_minor": 5
}
